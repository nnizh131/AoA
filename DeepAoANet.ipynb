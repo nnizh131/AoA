{
 "cells": [
  {
   "cell_type": "code",
   "execution_count": 179,
   "id": "bd798079-70e7-4fa6-95a4-c110d7175a71",
   "metadata": {},
   "outputs": [],
   "source": [
    "import torch\n",
    "import torch.nn as nn\n",
    "import torch.nn.functional as F\n",
    "import torch.optim as optim\n",
    "import pandas as pd\n",
    "import numpy as np\n",
    "from sklearn.preprocessing import StandardScaler\n",
    "from torch.utils.data import TensorDataset, DataLoader\n",
    "import matplotlib.pyplot as plt\n",
    "from matplotlib.pyplot import figure\n",
    "import seaborn as sns\n",
    "from pyargus import directionEstimation as de\n",
    "import pandas as pd\n",
    "from sklearn import preprocessing"
   ]
  },
  {
   "cell_type": "code",
   "execution_count": 180,
   "id": "38131fdb-e453-4429-bde3-a8a36d65accf",
   "metadata": {},
   "outputs": [],
   "source": [
    "pd.set_option('display.max_columns', None)\n",
    "pd.set_option('display.max_rows', None)"
   ]
  },
  {
   "cell_type": "code",
   "execution_count": 181,
   "id": "9408eae4-66d4-4479-8cbc-8fed2a8cc2ca",
   "metadata": {},
   "outputs": [],
   "source": [
    "df = pd.read_pickle(\"raw_IQ.pkl\")"
   ]
  },
  {
   "cell_type": "code",
   "execution_count": 182,
   "id": "7bd18e95-5248-4cfa-a4a3-07e128fc5b36",
   "metadata": {},
   "outputs": [],
   "source": [
    "df.sort_values(['point', 'anchor', 'room', 'channel'], inplace=True)\n",
    "# df.reset_index(inplace=True)\n",
    "df = df.sort_values(['point', 'anchor', 'channel', 'room'])\n",
    "df['mask'] = df['reference_power'] + df['relative_power']\n",
    "df = df.sort_values(['point', 'anchor', 'channel', 'room', 'mask'])\n",
    "# select to use either Vertical or Horizontal polarity based on reference and relative power\n",
    "df = df.drop_duplicates(subset=['point', 'anchor', 'channel','room'], keep='first')"
   ]
  },
  {
   "cell_type": "code",
   "execution_count": 183,
   "id": "f3665252-8668-4088-86c7-8a818ec5d551",
   "metadata": {},
   "outputs": [],
   "source": [
    "cols2 = ['pdda_input_imag1','pdda_input_imag2','pdda_input_imag3','pdda_input_imag4','pdda_input_imag5']\n",
    "cols1 = ['pdda_input_real1','pdda_input_real2','pdda_input_real3','pdda_input_real4','pdda_input_real5']\n",
    "\n",
    "def unpack(row):\n",
    "    a,b,c,d,e = row\n",
    "    # print(a)\n",
    "    return a,b,c,d,e\n",
    "    \n",
    "df[cols1] = df.apply(lambda row: unpack(row['pdda_input_real']), axis=1, result_type='expand')\n",
    "df[cols2] = df.apply(lambda row: unpack(row['pdda_input_imag']), axis=1, result_type='expand')\n"
   ]
  },
  {
   "cell_type": "code",
   "execution_count": 211,
   "id": "fdef9276-320f-4ea7-97b8-170fe637f939",
   "metadata": {},
   "outputs": [],
   "source": [
    "\n",
    "min_max_scaler = StandardScaler()\n",
    "df[cols2] = min_max_scaler.fit_transform(df[cols2])\n",
    "df[cols1] = min_max_scaler.fit_transform(df[cols1])\n",
    "# df = pd.DataFrame(x_scaled)"
   ]
  },
  {
   "cell_type": "code",
   "execution_count": 212,
   "id": "f5397c6d-9cf2-4f6d-86bd-f470855ff924",
   "metadata": {},
   "outputs": [],
   "source": [
    "cols3 = ['element1','element2','element3','element4','element5']\n",
    "def complexify(reals,imags):\n",
    "    complexs = []\n",
    "    for i in range(len(reals)):\n",
    "        complexs.append(reals[i] + 1j*imags[i])\n",
    "    a,b,c,d,e = complexs\n",
    "    return a,b,c,d,e\n",
    "\n",
    "df[cols3] = df.apply(lambda row: complexify(row[cols1], row[cols2]), axis=1, result_type='expand')"
   ]
  },
  {
   "cell_type": "code",
   "execution_count": 213,
   "id": "5257d21d-a8d3-4d3a-89af-c00bfc8bf730",
   "metadata": {},
   "outputs": [],
   "source": [
    "mid_concrete = df[df['room'] == 'testbench_01_furniture_mid']\n",
    "rest = df[df['room'] != 'testbench_01_furniture_mid']"
   ]
  },
  {
   "cell_type": "code",
   "execution_count": 214,
   "id": "0b88e9bf-1233-4857-be65-0c1eadc37bfe",
   "metadata": {},
   "outputs": [
    {
     "data": {
      "text/plain": [
       "(29364, 40)"
      ]
     },
     "execution_count": 214,
     "metadata": {},
     "output_type": "execute_result"
    }
   ],
   "source": [
    "mid_concrete.shape"
   ]
  },
  {
   "cell_type": "code",
   "execution_count": 215,
   "id": "fa55649c-13b9-415d-a388-1dcb401a9893",
   "metadata": {},
   "outputs": [
    {
     "data": {
      "text/plain": [
       "(88092, 40)"
      ]
     },
     "execution_count": 215,
     "metadata": {},
     "output_type": "execute_result"
    }
   ],
   "source": [
    "rest.shape"
   ]
  },
  {
   "cell_type": "code",
   "execution_count": 216,
   "id": "a6821b06-e7b1-422d-9995-6a2979c97abe",
   "metadata": {},
   "outputs": [
    {
     "data": {
      "text/html": [
       "<div>\n",
       "<style scoped>\n",
       "    .dataframe tbody tr th:only-of-type {\n",
       "        vertical-align: middle;\n",
       "    }\n",
       "\n",
       "    .dataframe tbody tr th {\n",
       "        vertical-align: top;\n",
       "    }\n",
       "\n",
       "    .dataframe thead th {\n",
       "        text-align: right;\n",
       "    }\n",
       "</style>\n",
       "<table border=\"1\" class=\"dataframe\">\n",
       "  <thead>\n",
       "    <tr style=\"text-align: right;\">\n",
       "      <th></th>\n",
       "      <th>anchor</th>\n",
       "      <th>point</th>\n",
       "      <th>x_tag</th>\n",
       "      <th>y_tag</th>\n",
       "      <th>z_tag</th>\n",
       "      <th>los</th>\n",
       "      <th>relative_power</th>\n",
       "      <th>pdda_input_real</th>\n",
       "      <th>pdda_input_imag</th>\n",
       "      <th>pdda_phi</th>\n",
       "      <th>pdda_theta</th>\n",
       "      <th>pdda_out_az</th>\n",
       "      <th>pdda_out_el</th>\n",
       "      <th>true_phi</th>\n",
       "      <th>true_theta</th>\n",
       "      <th>x_anchor</th>\n",
       "      <th>y_anchor</th>\n",
       "      <th>z_anchor</th>\n",
       "      <th>az_anchor</th>\n",
       "      <th>el_anchor</th>\n",
       "      <th>reference_power</th>\n",
       "      <th>polarity</th>\n",
       "      <th>channel</th>\n",
       "      <th>room</th>\n",
       "      <th>mask</th>\n",
       "      <th>pdda_input_real1</th>\n",
       "      <th>pdda_input_real2</th>\n",
       "      <th>pdda_input_real3</th>\n",
       "      <th>pdda_input_real4</th>\n",
       "      <th>pdda_input_real5</th>\n",
       "      <th>pdda_input_imag1</th>\n",
       "      <th>pdda_input_imag2</th>\n",
       "      <th>pdda_input_imag3</th>\n",
       "      <th>pdda_input_imag4</th>\n",
       "      <th>pdda_input_imag5</th>\n",
       "      <th>element1</th>\n",
       "      <th>element2</th>\n",
       "      <th>element3</th>\n",
       "      <th>element4</th>\n",
       "      <th>element5</th>\n",
       "    </tr>\n",
       "  </thead>\n",
       "  <tbody>\n",
       "    <tr>\n",
       "      <th>1</th>\n",
       "      <td>1</td>\n",
       "      <td>2</td>\n",
       "      <td>44.1</td>\n",
       "      <td>43.3</td>\n",
       "      <td>1.5</td>\n",
       "      <td>0</td>\n",
       "      <td>-27.5</td>\n",
       "      <td>[0.0007300000000000001, 0.0036400000000000004,...</td>\n",
       "      <td>[-0.04662, -0.03962, -0.03127, -0.02306, -0.03...</td>\n",
       "      <td>-10.9</td>\n",
       "      <td>1.9</td>\n",
       "      <td>[0.01467, 0.014730000000000002, 0.014900000000...</td>\n",
       "      <td>[0.008270000000000001, 0.00826, 0.00825, 0.008...</td>\n",
       "      <td>45.0</td>\n",
       "      <td>-4.1</td>\n",
       "      <td>57.9</td>\n",
       "      <td>43.3</td>\n",
       "      <td>2.5</td>\n",
       "      <td>135</td>\n",
       "      <td>0</td>\n",
       "      <td>-32.3</td>\n",
       "      <td>V</td>\n",
       "      <td>37</td>\n",
       "      <td>testbench_01_furniture_mid</td>\n",
       "      <td>-59.8</td>\n",
       "      <td>0.008162</td>\n",
       "      <td>0.036275</td>\n",
       "      <td>0.047471</td>\n",
       "      <td>0.196415</td>\n",
       "      <td>0.400671</td>\n",
       "      <td>-0.461858</td>\n",
       "      <td>-0.385809</td>\n",
       "      <td>-0.292861</td>\n",
       "      <td>-0.226018</td>\n",
       "      <td>-0.377623</td>\n",
       "      <td>0.008162-0.461858j</td>\n",
       "      <td>0.036275-0.385809j</td>\n",
       "      <td>0.047471-0.292861j</td>\n",
       "      <td>0.196415-0.226018j</td>\n",
       "      <td>0.400671-0.377623j</td>\n",
       "    </tr>\n",
       "    <tr>\n",
       "      <th>1</th>\n",
       "      <td>1</td>\n",
       "      <td>2</td>\n",
       "      <td>44.1</td>\n",
       "      <td>43.3</td>\n",
       "      <td>1.5</td>\n",
       "      <td>0</td>\n",
       "      <td>-25.8</td>\n",
       "      <td>[-0.07509, -0.056440000000000004, -0.03867, -0...</td>\n",
       "      <td>[0.005430000000000001, 0.01297, 0.023080000000...</td>\n",
       "      <td>49.0</td>\n",
       "      <td>-6.2</td>\n",
       "      <td>[0.019790000000000002, 0.01982, 0.01989, 0.020...</td>\n",
       "      <td>[0.02228, 0.022310000000000003, 0.022420000000...</td>\n",
       "      <td>45.0</td>\n",
       "      <td>-4.1</td>\n",
       "      <td>57.9</td>\n",
       "      <td>43.3</td>\n",
       "      <td>2.5</td>\n",
       "      <td>135</td>\n",
       "      <td>0</td>\n",
       "      <td>-30.7</td>\n",
       "      <td>H</td>\n",
       "      <td>38</td>\n",
       "      <td>testbench_01_furniture_mid</td>\n",
       "      <td>-56.5</td>\n",
       "      <td>-0.732025</td>\n",
       "      <td>-0.548142</td>\n",
       "      <td>-0.357205</td>\n",
       "      <td>-0.265159</td>\n",
       "      <td>0.038491</td>\n",
       "      <td>0.053305</td>\n",
       "      <td>0.123918</td>\n",
       "      <td>0.215746</td>\n",
       "      <td>0.337690</td>\n",
       "      <td>-0.115646</td>\n",
       "      <td>-0.732025+0.053305j</td>\n",
       "      <td>-0.548142+0.123918j</td>\n",
       "      <td>-0.357205+0.215746j</td>\n",
       "      <td>-0.265159+0.337690j</td>\n",
       "      <td>0.038491-0.115646j</td>\n",
       "    </tr>\n",
       "    <tr>\n",
       "      <th>1</th>\n",
       "      <td>1</td>\n",
       "      <td>2</td>\n",
       "      <td>44.1</td>\n",
       "      <td>43.3</td>\n",
       "      <td>1.5</td>\n",
       "      <td>0</td>\n",
       "      <td>-25.0</td>\n",
       "      <td>[0.051410000000000004, 0.049440000000000005, 0...</td>\n",
       "      <td>[-0.013720000000000001, -0.02679, -0.037540000...</td>\n",
       "      <td>5.0</td>\n",
       "      <td>-5.4</td>\n",
       "      <td>[0.00197, 0.0019600000000000004, 0.00192000000...</td>\n",
       "      <td>[0.016130000000000002, 0.016190000000000003, 0...</td>\n",
       "      <td>45.0</td>\n",
       "      <td>-4.1</td>\n",
       "      <td>57.9</td>\n",
       "      <td>43.3</td>\n",
       "      <td>2.5</td>\n",
       "      <td>135</td>\n",
       "      <td>0</td>\n",
       "      <td>-31.8</td>\n",
       "      <td>V</td>\n",
       "      <td>39</td>\n",
       "      <td>testbench_01_furniture_mid</td>\n",
       "      <td>-56.8</td>\n",
       "      <td>0.502922</td>\n",
       "      <td>0.481787</td>\n",
       "      <td>0.457832</td>\n",
       "      <td>0.505468</td>\n",
       "      <td>0.387385</td>\n",
       "      <td>-0.136232</td>\n",
       "      <td>-0.261455</td>\n",
       "      <td>-0.351535</td>\n",
       "      <td>-0.288964</td>\n",
       "      <td>-0.280887</td>\n",
       "      <td>0.502922-0.136232j</td>\n",
       "      <td>0.481787-0.261455j</td>\n",
       "      <td>0.457832-0.351535j</td>\n",
       "      <td>0.505468-0.288964j</td>\n",
       "      <td>0.387385-0.280887j</td>\n",
       "    </tr>\n",
       "    <tr>\n",
       "      <th>2451</th>\n",
       "      <td>2</td>\n",
       "      <td>2</td>\n",
       "      <td>44.1</td>\n",
       "      <td>43.3</td>\n",
       "      <td>1.5</td>\n",
       "      <td>0</td>\n",
       "      <td>-27.4</td>\n",
       "      <td>[0.01793, 0.019440000000000002, 0.020900000000...</td>\n",
       "      <td>[-0.009290000000000001, -0.009500000000000001,...</td>\n",
       "      <td>9.7</td>\n",
       "      <td>1.4</td>\n",
       "      <td>[2.63353, 2.63334, 2.63276, 2.63179, 2.63043, ...</td>\n",
       "      <td>[0.0011300000000000001, 0.0011200000000000001,...</td>\n",
       "      <td>-19.1</td>\n",
       "      <td>-3.7</td>\n",
       "      <td>57.9</td>\n",
       "      <td>50.0</td>\n",
       "      <td>2.5</td>\n",
       "      <td>225</td>\n",
       "      <td>0</td>\n",
       "      <td>-32.3</td>\n",
       "      <td>V</td>\n",
       "      <td>37</td>\n",
       "      <td>testbench_01_furniture_mid</td>\n",
       "      <td>-59.7</td>\n",
       "      <td>0.176076</td>\n",
       "      <td>0.189967</td>\n",
       "      <td>0.197863</td>\n",
       "      <td>-0.144846</td>\n",
       "      <td>0.002004</td>\n",
       "      <td>-0.092386</td>\n",
       "      <td>-0.093872</td>\n",
       "      <td>-0.078001</td>\n",
       "      <td>-0.197011</td>\n",
       "      <td>-0.813416</td>\n",
       "      <td>0.176076-0.092386j</td>\n",
       "      <td>0.189967-0.093872j</td>\n",
       "      <td>0.197863-0.078001j</td>\n",
       "      <td>-0.144846-0.197011j</td>\n",
       "      <td>0.002004-0.813416j</td>\n",
       "    </tr>\n",
       "    <tr>\n",
       "      <th>2451</th>\n",
       "      <td>2</td>\n",
       "      <td>2</td>\n",
       "      <td>44.1</td>\n",
       "      <td>43.3</td>\n",
       "      <td>1.5</td>\n",
       "      <td>0</td>\n",
       "      <td>-27.2</td>\n",
       "      <td>[-0.00888, -0.011090000000000001, -0.014650000...</td>\n",
       "      <td>[0.006620000000000001, 0.009850000000000001, 0...</td>\n",
       "      <td>-55.7</td>\n",
       "      <td>-1.0</td>\n",
       "      <td>[13.05508, 13.05633, 13.06007, 13.06628, 13.07...</td>\n",
       "      <td>[0.04224000000000001, 0.042260000000000006, 0....</td>\n",
       "      <td>-19.1</td>\n",
       "      <td>-3.7</td>\n",
       "      <td>57.9</td>\n",
       "      <td>50.0</td>\n",
       "      <td>2.5</td>\n",
       "      <td>225</td>\n",
       "      <td>0</td>\n",
       "      <td>-32.9</td>\n",
       "      <td>V</td>\n",
       "      <td>38</td>\n",
       "      <td>testbench_01_furniture_mid</td>\n",
       "      <td>-60.1</td>\n",
       "      <td>-0.085654</td>\n",
       "      <td>-0.107008</td>\n",
       "      <td>-0.133389</td>\n",
       "      <td>0.127497</td>\n",
       "      <td>0.848726</td>\n",
       "      <td>0.065083</td>\n",
       "      <td>0.093677</td>\n",
       "      <td>0.120482</td>\n",
       "      <td>-0.233657</td>\n",
       "      <td>0.129469</td>\n",
       "      <td>-0.085654+0.065083j</td>\n",
       "      <td>-0.107008+0.093677j</td>\n",
       "      <td>-0.133389+0.120482j</td>\n",
       "      <td>0.127497-0.233657j</td>\n",
       "      <td>0.848726+0.129469j</td>\n",
       "    </tr>\n",
       "  </tbody>\n",
       "</table>\n",
       "</div>"
      ],
      "text/plain": [
       "      anchor  point  x_tag  y_tag  z_tag  los  relative_power  \\\n",
       "1          1      2   44.1   43.3    1.5    0           -27.5   \n",
       "1          1      2   44.1   43.3    1.5    0           -25.8   \n",
       "1          1      2   44.1   43.3    1.5    0           -25.0   \n",
       "2451       2      2   44.1   43.3    1.5    0           -27.4   \n",
       "2451       2      2   44.1   43.3    1.5    0           -27.2   \n",
       "\n",
       "                                        pdda_input_real  \\\n",
       "1     [0.0007300000000000001, 0.0036400000000000004,...   \n",
       "1     [-0.07509, -0.056440000000000004, -0.03867, -0...   \n",
       "1     [0.051410000000000004, 0.049440000000000005, 0...   \n",
       "2451  [0.01793, 0.019440000000000002, 0.020900000000...   \n",
       "2451  [-0.00888, -0.011090000000000001, -0.014650000...   \n",
       "\n",
       "                                        pdda_input_imag  pdda_phi  pdda_theta  \\\n",
       "1     [-0.04662, -0.03962, -0.03127, -0.02306, -0.03...     -10.9         1.9   \n",
       "1     [0.005430000000000001, 0.01297, 0.023080000000...      49.0        -6.2   \n",
       "1     [-0.013720000000000001, -0.02679, -0.037540000...       5.0        -5.4   \n",
       "2451  [-0.009290000000000001, -0.009500000000000001,...       9.7         1.4   \n",
       "2451  [0.006620000000000001, 0.009850000000000001, 0...     -55.7        -1.0   \n",
       "\n",
       "                                            pdda_out_az  \\\n",
       "1     [0.01467, 0.014730000000000002, 0.014900000000...   \n",
       "1     [0.019790000000000002, 0.01982, 0.01989, 0.020...   \n",
       "1     [0.00197, 0.0019600000000000004, 0.00192000000...   \n",
       "2451  [2.63353, 2.63334, 2.63276, 2.63179, 2.63043, ...   \n",
       "2451  [13.05508, 13.05633, 13.06007, 13.06628, 13.07...   \n",
       "\n",
       "                                            pdda_out_el  true_phi  true_theta  \\\n",
       "1     [0.008270000000000001, 0.00826, 0.00825, 0.008...      45.0        -4.1   \n",
       "1     [0.02228, 0.022310000000000003, 0.022420000000...      45.0        -4.1   \n",
       "1     [0.016130000000000002, 0.016190000000000003, 0...      45.0        -4.1   \n",
       "2451  [0.0011300000000000001, 0.0011200000000000001,...     -19.1        -3.7   \n",
       "2451  [0.04224000000000001, 0.042260000000000006, 0....     -19.1        -3.7   \n",
       "\n",
       "      x_anchor  y_anchor  z_anchor  az_anchor  el_anchor  reference_power  \\\n",
       "1         57.9      43.3       2.5        135          0            -32.3   \n",
       "1         57.9      43.3       2.5        135          0            -30.7   \n",
       "1         57.9      43.3       2.5        135          0            -31.8   \n",
       "2451      57.9      50.0       2.5        225          0            -32.3   \n",
       "2451      57.9      50.0       2.5        225          0            -32.9   \n",
       "\n",
       "     polarity channel                        room  mask  pdda_input_real1  \\\n",
       "1           V      37  testbench_01_furniture_mid -59.8          0.008162   \n",
       "1           H      38  testbench_01_furniture_mid -56.5         -0.732025   \n",
       "1           V      39  testbench_01_furniture_mid -56.8          0.502922   \n",
       "2451        V      37  testbench_01_furniture_mid -59.7          0.176076   \n",
       "2451        V      38  testbench_01_furniture_mid -60.1         -0.085654   \n",
       "\n",
       "      pdda_input_real2  pdda_input_real3  pdda_input_real4  pdda_input_real5  \\\n",
       "1             0.036275          0.047471          0.196415          0.400671   \n",
       "1            -0.548142         -0.357205         -0.265159          0.038491   \n",
       "1             0.481787          0.457832          0.505468          0.387385   \n",
       "2451          0.189967          0.197863         -0.144846          0.002004   \n",
       "2451         -0.107008         -0.133389          0.127497          0.848726   \n",
       "\n",
       "      pdda_input_imag1  pdda_input_imag2  pdda_input_imag3  pdda_input_imag4  \\\n",
       "1            -0.461858         -0.385809         -0.292861         -0.226018   \n",
       "1             0.053305          0.123918          0.215746          0.337690   \n",
       "1            -0.136232         -0.261455         -0.351535         -0.288964   \n",
       "2451         -0.092386         -0.093872         -0.078001         -0.197011   \n",
       "2451          0.065083          0.093677          0.120482         -0.233657   \n",
       "\n",
       "      pdda_input_imag5            element1            element2  \\\n",
       "1            -0.377623  0.008162-0.461858j  0.036275-0.385809j   \n",
       "1            -0.115646 -0.732025+0.053305j -0.548142+0.123918j   \n",
       "1            -0.280887  0.502922-0.136232j  0.481787-0.261455j   \n",
       "2451         -0.813416  0.176076-0.092386j  0.189967-0.093872j   \n",
       "2451          0.129469 -0.085654+0.065083j -0.107008+0.093677j   \n",
       "\n",
       "                element3            element4            element5  \n",
       "1     0.047471-0.292861j  0.196415-0.226018j  0.400671-0.377623j  \n",
       "1    -0.357205+0.215746j -0.265159+0.337690j  0.038491-0.115646j  \n",
       "1     0.457832-0.351535j  0.505468-0.288964j  0.387385-0.280887j  \n",
       "2451  0.197863-0.078001j -0.144846-0.197011j  0.002004-0.813416j  \n",
       "2451 -0.133389+0.120482j  0.127497-0.233657j  0.848726+0.129469j  "
      ]
     },
     "execution_count": 216,
     "metadata": {},
     "output_type": "execute_result"
    }
   ],
   "source": [
    "mid_concrete.head()"
   ]
  },
  {
   "cell_type": "markdown",
   "id": "c8ad7440-cec3-49c6-9b95-2c25b1c3c57c",
   "metadata": {},
   "source": [
    "### use rest for training and mid concrete for testing"
   ]
  },
  {
   "cell_type": "code",
   "execution_count": 77,
   "id": "49210884-679f-4b60-bb17-92831df7e6cc",
   "metadata": {},
   "outputs": [],
   "source": [
    "def create_cnn_data(df, anchor):\n",
    "    df = df.sort_values(['point', 'room', 'anchor', 'channel'])\n",
    "    df.reset_index(inplace=True)\n",
    "    inputs = ['pdda_input_real_1', 'power', 'pdda_input_real_2', 'pdda_input_imag_2','pdda_input_real_3', 'pdda_input_imag_3', \n",
    "                'pdda_input_real_4', 'pdda_input_imag_4', 'pdda_input_real_5','pdda_input_imag_5']\n",
    "    target = ['true_phi']\n",
    "    anchor_df = df.loc[df['anchor'] == anchor]\n",
    "    grouped = df.groupby('channel', sort=False)\n",
    "    channels_df = []\n",
    "    for group, tdf in grouped:\n",
    "        # print('group of :', group)\n",
    "        # print(tdf.shape)\n",
    "        channels_df.append(tdf)\n",
    "    assert channels_df[1].shape == channels_df[0].shape == channels_df[2].shape\n",
    "    # check if the data is correctly split\n",
    "    count =0\n",
    "    i = 0\n",
    "    for index, row in channels_df[0].iterrows():\n",
    "        idx = row['index']\n",
    "        # print(idx)\n",
    "        count += 1\n",
    "        # print(row[index])\n",
    "        # print(channels_df[1].iloc[index]['index'])\n",
    "        assert row['index'] == channels_df[1].iloc[i]['index'] == channels_df[2].iloc[i]['index']\n",
    "        i += 1\n",
    "    ch_36 = channels_df[0][inputs].values\n",
    "    ch_37 = channels_df[1][inputs].values\n",
    "    ch_38 = channels_df[2][inputs].values\n",
    "    # print(ch_36.shape[0]*5,5)\n",
    "    ch36_corr = []\n",
    "    ch37_corr = []\n",
    "    ch38_corr = []\n",
    "    print(ch_36.shape[0])\n",
    "    for i in range(ch_36.shape[0]):\n",
    "        ch36_corr.append(np.cov(ch_36[i].reshape(5,2)))\n",
    "        ch37_corr.append(np.cov(ch_37[i].reshape(5,2)))\n",
    "        ch38_corr.append(np.cov(ch_38[i].reshape(5,2)))\n",
    "    ch36_corr = np.asarray(ch36_corr)\n",
    "    ch37_corr = np.asarray(ch37_corr)\n",
    "    ch38_corr = np.asarray(ch38_corr)\n",
    "    print(ch36_corr.shape)   \n",
    "    # inputs = np.stack([ch_36,ch_37,ch_38],axis=1)\n",
    "    inputs = np.stack([ch36_corr,ch37_corr,ch38_corr],axis=1)\n",
    "    assert (channels_df[0]['true_phi'].values ==  channels_df[1]['true_phi'].values).all()\n",
    "    outputs = channels_df[0]['true_phi'].values\n",
    "    return (inputs, outputs)"
   ]
  },
  {
   "cell_type": "code",
   "execution_count": 78,
   "id": "4f0c90b5-96cd-46d7-bf0a-c9dfaded5592",
   "metadata": {},
   "outputs": [
    {
     "data": {
      "text/html": [
       "<div>\n",
       "<style scoped>\n",
       "    .dataframe tbody tr th:only-of-type {\n",
       "        vertical-align: middle;\n",
       "    }\n",
       "\n",
       "    .dataframe tbody tr th {\n",
       "        vertical-align: top;\n",
       "    }\n",
       "\n",
       "    .dataframe thead th {\n",
       "        text-align: right;\n",
       "    }\n",
       "</style>\n",
       "<table border=\"1\" class=\"dataframe\">\n",
       "  <thead>\n",
       "    <tr style=\"text-align: right;\">\n",
       "      <th></th>\n",
       "      <th>anchor</th>\n",
       "      <th>point</th>\n",
       "      <th>x_tag</th>\n",
       "      <th>y_tag</th>\n",
       "      <th>z_tag</th>\n",
       "      <th>los</th>\n",
       "      <th>relative_power</th>\n",
       "      <th>pdda_input_real</th>\n",
       "      <th>pdda_input_imag</th>\n",
       "      <th>pdda_phi</th>\n",
       "      <th>pdda_theta</th>\n",
       "      <th>pdda_out_az</th>\n",
       "      <th>pdda_out_el</th>\n",
       "      <th>true_phi</th>\n",
       "      <th>true_theta</th>\n",
       "      <th>x_anchor</th>\n",
       "      <th>y_anchor</th>\n",
       "      <th>z_anchor</th>\n",
       "      <th>az_anchor</th>\n",
       "      <th>el_anchor</th>\n",
       "      <th>reference_power</th>\n",
       "      <th>polarity</th>\n",
       "      <th>channel</th>\n",
       "      <th>room</th>\n",
       "      <th>mask</th>\n",
       "    </tr>\n",
       "  </thead>\n",
       "  <tbody>\n",
       "    <tr>\n",
       "      <th>1</th>\n",
       "      <td>1</td>\n",
       "      <td>2</td>\n",
       "      <td>44.1</td>\n",
       "      <td>43.3</td>\n",
       "      <td>1.5</td>\n",
       "      <td>1</td>\n",
       "      <td>-23.8</td>\n",
       "      <td>[0.035570000000000004, 0.022350000000000002, 0...</td>\n",
       "      <td>[-0.02636, -0.02272, -0.02244, -0.00117, -0.04...</td>\n",
       "      <td>-1.2</td>\n",
       "      <td>-7.1</td>\n",
       "      <td>[0.03465, 0.03472, 0.03492, 0.03526, 0.0357500...</td>\n",
       "      <td>[0.025810000000000003, 0.02585, 0.02596, 0.026...</td>\n",
       "      <td>45.0</td>\n",
       "      <td>-4.1</td>\n",
       "      <td>57.9</td>\n",
       "      <td>43.3</td>\n",
       "      <td>2.5</td>\n",
       "      <td>135</td>\n",
       "      <td>0</td>\n",
       "      <td>-32.8</td>\n",
       "      <td>V</td>\n",
       "      <td>37</td>\n",
       "      <td>testbench_01</td>\n",
       "      <td>-56.6</td>\n",
       "    </tr>\n",
       "    <tr>\n",
       "      <th>1</th>\n",
       "      <td>1</td>\n",
       "      <td>2</td>\n",
       "      <td>44.1</td>\n",
       "      <td>43.3</td>\n",
       "      <td>1.5</td>\n",
       "      <td>0</td>\n",
       "      <td>-38.4</td>\n",
       "      <td>[-0.003, 0.00234, 0.00591, 0.00097, 0.02076]</td>\n",
       "      <td>[-0.0025800000000000003, 0.00218, 0.0072400000...</td>\n",
       "      <td>90.5</td>\n",
       "      <td>47.5</td>\n",
       "      <td>[1.1703700000000001, 1.17058, 1.17121, 1.17225...</td>\n",
       "      <td>[0.8172200000000001, 0.8176000000000001, 0.818...</td>\n",
       "      <td>45.0</td>\n",
       "      <td>-4.1</td>\n",
       "      <td>57.9</td>\n",
       "      <td>43.3</td>\n",
       "      <td>2.5</td>\n",
       "      <td>135</td>\n",
       "      <td>0</td>\n",
       "      <td>-32.8</td>\n",
       "      <td>V</td>\n",
       "      <td>37</td>\n",
       "      <td>testbench_01_furniture_high</td>\n",
       "      <td>-71.2</td>\n",
       "    </tr>\n",
       "    <tr>\n",
       "      <th>1</th>\n",
       "      <td>1</td>\n",
       "      <td>2</td>\n",
       "      <td>44.1</td>\n",
       "      <td>43.3</td>\n",
       "      <td>1.5</td>\n",
       "      <td>1</td>\n",
       "      <td>-28.0</td>\n",
       "      <td>[-0.00538, -0.00657, -0.007790000000000001, 0....</td>\n",
       "      <td>[-0.02015, -0.01948, -0.02015, -0.00536, -0.04...</td>\n",
       "      <td>-8.0</td>\n",
       "      <td>-1.5</td>\n",
       "      <td>[0.13232000000000002, 0.13256, 0.13328, 0.1344...</td>\n",
       "      <td>[0.0005200000000000001, 0.0005300000000000001,...</td>\n",
       "      <td>45.0</td>\n",
       "      <td>-4.1</td>\n",
       "      <td>57.9</td>\n",
       "      <td>43.3</td>\n",
       "      <td>2.5</td>\n",
       "      <td>135</td>\n",
       "      <td>0</td>\n",
       "      <td>-32.7</td>\n",
       "      <td>V</td>\n",
       "      <td>37</td>\n",
       "      <td>testbench_01_furniture_low</td>\n",
       "      <td>-60.7</td>\n",
       "    </tr>\n",
       "    <tr>\n",
       "      <th>1</th>\n",
       "      <td>1</td>\n",
       "      <td>2</td>\n",
       "      <td>44.1</td>\n",
       "      <td>43.3</td>\n",
       "      <td>1.5</td>\n",
       "      <td>0</td>\n",
       "      <td>-27.5</td>\n",
       "      <td>[0.0007300000000000001, 0.0036400000000000004,...</td>\n",
       "      <td>[-0.04662, -0.03962, -0.03127, -0.02306, -0.03...</td>\n",
       "      <td>-10.9</td>\n",
       "      <td>1.9</td>\n",
       "      <td>[0.01467, 0.014730000000000002, 0.014900000000...</td>\n",
       "      <td>[0.008270000000000001, 0.00826, 0.00825, 0.008...</td>\n",
       "      <td>45.0</td>\n",
       "      <td>-4.1</td>\n",
       "      <td>57.9</td>\n",
       "      <td>43.3</td>\n",
       "      <td>2.5</td>\n",
       "      <td>135</td>\n",
       "      <td>0</td>\n",
       "      <td>-32.3</td>\n",
       "      <td>V</td>\n",
       "      <td>37</td>\n",
       "      <td>testbench_01_furniture_mid</td>\n",
       "      <td>-59.8</td>\n",
       "    </tr>\n",
       "    <tr>\n",
       "      <th>1</th>\n",
       "      <td>1</td>\n",
       "      <td>2</td>\n",
       "      <td>44.1</td>\n",
       "      <td>43.3</td>\n",
       "      <td>1.5</td>\n",
       "      <td>1</td>\n",
       "      <td>-22.0</td>\n",
       "      <td>[-0.10138000000000001, -0.07936, -0.0582200000...</td>\n",
       "      <td>[-0.00429, 0.007730000000000001, 0.02262, 0.03...</td>\n",
       "      <td>7.1</td>\n",
       "      <td>-5.5</td>\n",
       "      <td>[0.0047, 0.004690000000000001, 0.00468, 0.0046...</td>\n",
       "      <td>[0.019600000000000003, 0.01963, 0.01973, 0.019...</td>\n",
       "      <td>45.0</td>\n",
       "      <td>-4.1</td>\n",
       "      <td>57.9</td>\n",
       "      <td>43.3</td>\n",
       "      <td>2.5</td>\n",
       "      <td>135</td>\n",
       "      <td>0</td>\n",
       "      <td>-32.7</td>\n",
       "      <td>V</td>\n",
       "      <td>38</td>\n",
       "      <td>testbench_01</td>\n",
       "      <td>-54.7</td>\n",
       "    </tr>\n",
       "  </tbody>\n",
       "</table>\n",
       "</div>"
      ],
      "text/plain": [
       "   anchor  point  x_tag  y_tag  z_tag  los  relative_power  \\\n",
       "1       1      2   44.1   43.3    1.5    1           -23.8   \n",
       "1       1      2   44.1   43.3    1.5    0           -38.4   \n",
       "1       1      2   44.1   43.3    1.5    1           -28.0   \n",
       "1       1      2   44.1   43.3    1.5    0           -27.5   \n",
       "1       1      2   44.1   43.3    1.5    1           -22.0   \n",
       "\n",
       "                                     pdda_input_real  \\\n",
       "1  [0.035570000000000004, 0.022350000000000002, 0...   \n",
       "1       [-0.003, 0.00234, 0.00591, 0.00097, 0.02076]   \n",
       "1  [-0.00538, -0.00657, -0.007790000000000001, 0....   \n",
       "1  [0.0007300000000000001, 0.0036400000000000004,...   \n",
       "1  [-0.10138000000000001, -0.07936, -0.0582200000...   \n",
       "\n",
       "                                     pdda_input_imag  pdda_phi  pdda_theta  \\\n",
       "1  [-0.02636, -0.02272, -0.02244, -0.00117, -0.04...      -1.2        -7.1   \n",
       "1  [-0.0025800000000000003, 0.00218, 0.0072400000...      90.5        47.5   \n",
       "1  [-0.02015, -0.01948, -0.02015, -0.00536, -0.04...      -8.0        -1.5   \n",
       "1  [-0.04662, -0.03962, -0.03127, -0.02306, -0.03...     -10.9         1.9   \n",
       "1  [-0.00429, 0.007730000000000001, 0.02262, 0.03...       7.1        -5.5   \n",
       "\n",
       "                                         pdda_out_az  \\\n",
       "1  [0.03465, 0.03472, 0.03492, 0.03526, 0.0357500...   \n",
       "1  [1.1703700000000001, 1.17058, 1.17121, 1.17225...   \n",
       "1  [0.13232000000000002, 0.13256, 0.13328, 0.1344...   \n",
       "1  [0.01467, 0.014730000000000002, 0.014900000000...   \n",
       "1  [0.0047, 0.004690000000000001, 0.00468, 0.0046...   \n",
       "\n",
       "                                         pdda_out_el  true_phi  true_theta  \\\n",
       "1  [0.025810000000000003, 0.02585, 0.02596, 0.026...      45.0        -4.1   \n",
       "1  [0.8172200000000001, 0.8176000000000001, 0.818...      45.0        -4.1   \n",
       "1  [0.0005200000000000001, 0.0005300000000000001,...      45.0        -4.1   \n",
       "1  [0.008270000000000001, 0.00826, 0.00825, 0.008...      45.0        -4.1   \n",
       "1  [0.019600000000000003, 0.01963, 0.01973, 0.019...      45.0        -4.1   \n",
       "\n",
       "   x_anchor  y_anchor  z_anchor  az_anchor  el_anchor  reference_power  \\\n",
       "1      57.9      43.3       2.5        135          0            -32.8   \n",
       "1      57.9      43.3       2.5        135          0            -32.8   \n",
       "1      57.9      43.3       2.5        135          0            -32.7   \n",
       "1      57.9      43.3       2.5        135          0            -32.3   \n",
       "1      57.9      43.3       2.5        135          0            -32.7   \n",
       "\n",
       "  polarity channel                         room  mask  \n",
       "1        V      37                 testbench_01 -56.6  \n",
       "1        V      37  testbench_01_furniture_high -71.2  \n",
       "1        V      37   testbench_01_furniture_low -60.7  \n",
       "1        V      37   testbench_01_furniture_mid -59.8  \n",
       "1        V      38                 testbench_01 -54.7  "
      ]
     },
     "execution_count": 78,
     "metadata": {},
     "output_type": "execute_result"
    }
   ],
   "source": [
    "df.head()"
   ]
  },
  {
   "cell_type": "code",
   "execution_count": 217,
   "id": "406f92a7-c30f-4ce8-ae0e-dcc25da64480",
   "metadata": {},
   "outputs": [],
   "source": [
    "def create_raw_data(df, anchor):\n",
    "    df = df.sort_values(['point', 'room', 'anchor', 'channel'])\n",
    "    df.reset_index(inplace=True)\n",
    "    inputs = ['element1', 'element2', 'element3', 'element4','element5']\n",
    "    target = ['true_phi']\n",
    "    anchor_df = df.loc[df['anchor'] == anchor]\n",
    "    grouped = df.groupby('channel', sort=False)\n",
    "    channels_df = []\n",
    "    for group, tdf in grouped:\n",
    "        # print('group of :', group)\n",
    "        # print(tdf.shape)\n",
    "        channels_df.append(tdf)\n",
    "    assert channels_df[1].shape == channels_df[0].shape == channels_df[2].shape\n",
    "    # check if the data is correctly split\n",
    "    count =0\n",
    "    i = 0\n",
    "    for index, row in channels_df[0].iterrows():\n",
    "        idx = row['index']\n",
    "        # print(idx)\n",
    "        count += 1\n",
    "        # print(row[index])\n",
    "        # print(channels_df[1].iloc[index]['index'])\n",
    "        assert row['index'] == channels_df[1].iloc[i]['index'] == channels_df[2].iloc[i]['index']\n",
    "        i += 1\n",
    "    ch_36 = channels_df[0][inputs].values\n",
    "    ch_37 = channels_df[1][inputs].values\n",
    "    ch_38 = channels_df[2][inputs].values\n",
    "    # tmp = []\n",
    "    # print(ch_36.shape[0])\n",
    "    inputs = []\n",
    "    for i in range(ch_36.shape[0]):\n",
    "        X = []\n",
    "        X.append(ch_36[i])\n",
    "        X.append(ch_37[i])\n",
    "        X.append(ch_38[i])\n",
    "        R = de.corr_matrix_estimate(np.asarray(X).T)\n",
    "        real = R.real\n",
    "        img = R.imag\n",
    "        data_arr = np.append(real.reshape(3, 3, 1), img.reshape(3, 3, 1), axis=2)\n",
    "        data_lst = list(data_arr.ravel())\n",
    "        inputs.append(data_lst)\n",
    "    assert (channels_df[0]['true_phi'].values ==  channels_df[1]['true_phi'].values).all()\n",
    "    outputs = channels_df[0]['true_phi'].values\n",
    "    return (np.asarray(inputs), outputs)"
   ]
  },
  {
   "cell_type": "code",
   "execution_count": 218,
   "id": "7ebf1996-4d19-4f2a-b6f6-361851c5d69d",
   "metadata": {},
   "outputs": [],
   "source": [
    "inputs, outputs = create_raw_data(df,1)"
   ]
  },
  {
   "cell_type": "code",
   "execution_count": 9,
   "id": "0dd29741-8bc7-48e8-845d-ac801c422ec4",
   "metadata": {},
   "outputs": [],
   "source": [
    "    features = ['pdda_input_real_1', 'power', 'pdda_input_real_2', 'pdda_input_imag_2','pdda_input_real_3', 'pdda_input_imag_3', \n",
    "                'pdda_input_real_4', 'pdda_input_imag_4', 'pdda_input_real_5','pdda_input_imag_5']"
   ]
  },
  {
   "cell_type": "code",
   "execution_count": 85,
   "id": "de92a5aa-f054-43c6-ab54-eb6ee7509680",
   "metadata": {},
   "outputs": [],
   "source": [
    "x =df[features].values[0]"
   ]
  },
  {
   "cell_type": "code",
   "execution_count": 86,
   "id": "00ec8b92-98d7-415d-a604-fcb85a515ebc",
   "metadata": {},
   "outputs": [],
   "source": [
    "x = x.reshape(10,1)"
   ]
  },
  {
   "cell_type": "code",
   "execution_count": 91,
   "id": "a8bd0bc3-5618-4017-bf88-dd328ab9e094",
   "metadata": {},
   "outputs": [],
   "source": [
    "y = np.concatenate((x,x),axis=1)"
   ]
  },
  {
   "cell_type": "code",
   "execution_count": 93,
   "id": "0da4eebf-41a6-4f8f-8fd7-86cfa69e2b43",
   "metadata": {},
   "outputs": [
    {
     "data": {
      "text/plain": [
       "array([[ 0.04427273,  0.04427273],\n",
       "       [-0.11066281, -0.11066281],\n",
       "       [ 0.03148414,  0.03148414],\n",
       "       [-0.00494671, -0.00494671],\n",
       "       [ 0.02086481,  0.02086481],\n",
       "       [-0.01246791, -0.01246791],\n",
       "       [ 0.06138766,  0.06138766],\n",
       "       [ 0.04403653,  0.04403653],\n",
       "       [ 0.10470526,  0.10470526],\n",
       "       [ 0.02641372,  0.02641372]])"
      ]
     },
     "execution_count": 93,
     "metadata": {},
     "output_type": "execute_result"
    }
   ],
   "source": [
    "y"
   ]
  },
  {
   "cell_type": "code",
   "execution_count": 95,
   "id": "f10d9122-e0d6-4358-bb92-0d0b65143419",
   "metadata": {},
   "outputs": [
    {
     "data": {
      "text/plain": [
       "array([[0., 0., 0., 0., 0., 0., 0., 0., 0., 0.],\n",
       "       [0., 0., 0., 0., 0., 0., 0., 0., 0., 0.],\n",
       "       [0., 0., 0., 0., 0., 0., 0., 0., 0., 0.],\n",
       "       [0., 0., 0., 0., 0., 0., 0., 0., 0., 0.],\n",
       "       [0., 0., 0., 0., 0., 0., 0., 0., 0., 0.],\n",
       "       [0., 0., 0., 0., 0., 0., 0., 0., 0., 0.],\n",
       "       [0., 0., 0., 0., 0., 0., 0., 0., 0., 0.],\n",
       "       [0., 0., 0., 0., 0., 0., 0., 0., 0., 0.],\n",
       "       [0., 0., 0., 0., 0., 0., 0., 0., 0., 0.],\n",
       "       [0., 0., 0., 0., 0., 0., 0., 0., 0., 0.]])"
      ]
     },
     "execution_count": 95,
     "metadata": {},
     "output_type": "execute_result"
    }
   ],
   "source": [
    "np.cov(y)"
   ]
  },
  {
   "cell_type": "code",
   "execution_count": 75,
   "id": "f24fd28e-d8ac-4f0f-a1df-f2c7ba4a6981",
   "metadata": {},
   "outputs": [
    {
     "data": {
      "text/plain": [
       "array([[ 0.04427273, -0.11066281],\n",
       "       [ 0.03148414, -0.00494671],\n",
       "       [ 0.02086481, -0.01246791],\n",
       "       [ 0.06138766,  0.04403653],\n",
       "       [ 0.10470526,  0.02641372],\n",
       "       [ 0.04427273, -0.11066281],\n",
       "       [ 0.03148414, -0.00494671],\n",
       "       [ 0.02086481, -0.01246791],\n",
       "       [ 0.06138766,  0.04403653],\n",
       "       [ 0.10470526,  0.02641372]])"
      ]
     },
     "execution_count": 75,
     "metadata": {},
     "output_type": "execute_result"
    }
   ],
   "source": [
    "y.reshape(10,2)"
   ]
  },
  {
   "cell_type": "code",
   "execution_count": 96,
   "id": "ec5d8ddc-ac48-42ac-baf8-e24583fdea41",
   "metadata": {},
   "outputs": [],
   "source": [
    "# np.cov(x,x)"
   ]
  },
  {
   "cell_type": "code",
   "execution_count": 219,
   "id": "82034e14-ce4e-4d80-992c-3694681405bb",
   "metadata": {},
   "outputs": [],
   "source": [
    "X_test, y_test = create_raw_data(mid_concrete,1.0)\n",
    "X_train, y_train = create_raw_data(rest, 1.0)"
   ]
  },
  {
   "cell_type": "code",
   "execution_count": 220,
   "id": "a19eb980-85c8-4f09-8f8a-420bf124abaa",
   "metadata": {},
   "outputs": [
    {
     "data": {
      "text/plain": [
       "(29364, 18)"
      ]
     },
     "execution_count": 220,
     "metadata": {},
     "output_type": "execute_result"
    }
   ],
   "source": [
    "X_train.shape"
   ]
  },
  {
   "cell_type": "code",
   "execution_count": 221,
   "id": "6f456539-2b46-4073-8f35-230e4438ba8a",
   "metadata": {},
   "outputs": [
    {
     "data": {
      "text/plain": [
       "(9788, 18)"
      ]
     },
     "execution_count": 221,
     "metadata": {},
     "output_type": "execute_result"
    }
   ],
   "source": [
    "X_test.shape"
   ]
  },
  {
   "cell_type": "code",
   "execution_count": null,
   "id": "646de55f-dd4c-4876-88f0-e939b2e0a71e",
   "metadata": {},
   "outputs": [],
   "source": []
  },
  {
   "cell_type": "code",
   "execution_count": 12,
   "id": "df59de92-1acd-4bb5-a283-37c0ff76ab81",
   "metadata": {},
   "outputs": [
    {
     "name": "stdout",
     "output_type": "stream",
     "text": [
      "9788\n",
      "(9788, 5, 5)\n",
      "29364\n",
      "(29364, 5, 5)\n"
     ]
    }
   ],
   "source": [
    "X_test, y_test = create_cnn_data(mid_concrete,1.0)\n",
    "X_train, y_train = create_cnn_data(rest, 1.0)"
   ]
  },
  {
   "cell_type": "code",
   "execution_count": 13,
   "id": "5647c7f6-2af6-4e12-adc6-d21fb195ac21",
   "metadata": {},
   "outputs": [
    {
     "data": {
      "text/plain": [
       "(9788,)"
      ]
     },
     "execution_count": 13,
     "metadata": {},
     "output_type": "execute_result"
    }
   ],
   "source": [
    "y_test.shape"
   ]
  },
  {
   "cell_type": "code",
   "execution_count": 14,
   "id": "67dcc6a2-41a6-420e-be0b-449c797514d6",
   "metadata": {},
   "outputs": [],
   "source": [
    "# X, y = create_cnn_data(mid_concrete, 1.0)"
   ]
  },
  {
   "cell_type": "code",
   "execution_count": 15,
   "id": "32c32f8c-d162-4b80-aece-bb93d72a0fd7",
   "metadata": {},
   "outputs": [],
   "source": [
    "assert X_test.shape[0]*X_test.shape[1] == mid_concrete.shape[0]\n",
    "assert X_train.shape[0]*X_train.shape[1] == rest.shape[0]"
   ]
  },
  {
   "cell_type": "code",
   "execution_count": 103,
   "id": "34285a86-0e0e-4f79-8e64-b3642e748bd1",
   "metadata": {},
   "outputs": [
    {
     "data": {
      "text/plain": [
       "29364"
      ]
     },
     "execution_count": 103,
     "metadata": {},
     "output_type": "execute_result"
    }
   ],
   "source": [
    "X_train.shape[0]"
   ]
  },
  {
   "cell_type": "code",
   "execution_count": 226,
   "id": "a70ba9b5-095c-4386-aa4d-22b41e0874dd",
   "metadata": {},
   "outputs": [
    {
     "data": {
      "text/plain": [
       "torch.Size([29364, 3, 5, 5])"
      ]
     },
     "execution_count": 226,
     "metadata": {},
     "output_type": "execute_result"
    }
   ],
   "source": [
    "train_x = torch.Tensor(X_train.astype(np.float32)) # transform to torch tensor\n",
    "train_x.shape"
   ]
  },
  {
   "cell_type": "code",
   "execution_count": 222,
   "id": "26e899b5-cab3-40c9-b0a8-8bea7433e518",
   "metadata": {},
   "outputs": [],
   "source": [
    "X_train = X_train.reshape(29364,3,3,2)"
   ]
  },
  {
   "cell_type": "code",
   "execution_count": 223,
   "id": "53b49965-86d9-415c-91fe-b46ad043225f",
   "metadata": {},
   "outputs": [],
   "source": [
    "X_test = X_test.reshape(9788,3,3,2)"
   ]
  },
  {
   "cell_type": "code",
   "execution_count": 232,
   "id": "fd6b874e-0a42-4bff-ae86-09e8ac343e89",
   "metadata": {},
   "outputs": [],
   "source": [
    "# train_x = torch.Tensor(X_train.reshape(X_train.shape[0],X_train.shape[1],2,5).astype(np.float32)) # transform to torch tensor\n",
    "# train_y = torch.Tensor(y_train.astype(np.float32))\n",
    "train_x = torch.Tensor(X_train.astype(np.float32))\n",
    "train_y = torch.Tensor(y_train.astype(np.float32))\n",
    "train_dataset = TensorDataset(train_x,train_y)\n",
    "\n",
    "# test_x = torch.Tensor(X_test.reshape(X_test.shape[0],X_test.shape[1],2,5).astype(np.float32)) # transform to torch tensor\n",
    "test_x = torch.Tensor(X_test.astype(np.float32))\n",
    "test_y = torch.Tensor(y_test.astype(np.float32))\n",
    "test_dataset = TensorDataset(test_x,test_y)\n",
    "BATCH_SIZE = 512\n",
    "train_dataloader = DataLoader(train_dataset,batch_size=BATCH_SIZE,shuffle=True)\n",
    "test_dataloader = DataLoader(test_dataset, batch_size=test_x.shape[0],shuffle=True)"
   ]
  },
  {
   "cell_type": "code",
   "execution_count": null,
   "id": "a604659a-1bf8-4e35-b937-9c8d4d48d395",
   "metadata": {},
   "outputs": [],
   "source": []
  },
  {
   "cell_type": "code",
   "execution_count": null,
   "id": "3d555ec5-16a9-4348-9a40-99318adfc2d5",
   "metadata": {},
   "outputs": [],
   "source": []
  },
  {
   "cell_type": "code",
   "execution_count": 52,
   "id": "91d71e00-7914-4680-8e6d-7af8d371464f",
   "metadata": {},
   "outputs": [
    {
     "data": {
      "text/plain": [
       "torch.Size([29364, 3, 5, 5])"
      ]
     },
     "execution_count": 52,
     "metadata": {},
     "output_type": "execute_result"
    }
   ],
   "source": [
    "train_x.shape"
   ]
  },
  {
   "cell_type": "code",
   "execution_count": 53,
   "id": "988afb00-0648-4bb5-9203-010a8c78d9f2",
   "metadata": {},
   "outputs": [
    {
     "data": {
      "text/plain": [
       "torch.Size([29364])"
      ]
     },
     "execution_count": 53,
     "metadata": {},
     "output_type": "execute_result"
    }
   ],
   "source": [
    "train_y.shape"
   ]
  },
  {
   "cell_type": "code",
   "execution_count": 19,
   "id": "d1cf08d8-ec88-4c71-92ee-f2419e39d147",
   "metadata": {},
   "outputs": [
    {
     "data": {
      "text/plain": [
       "torch.Size([9788, 3, 5, 5])"
      ]
     },
     "execution_count": 19,
     "metadata": {},
     "output_type": "execute_result"
    }
   ],
   "source": [
    "test_x.shape"
   ]
  },
  {
   "cell_type": "code",
   "execution_count": 259,
   "id": "68f94ee4-2c6e-4a50-b062-fbe45e370c33",
   "metadata": {},
   "outputs": [
    {
     "ename": "NameError",
     "evalue": "name 'X' is not defined",
     "output_type": "error",
     "traceback": [
      "\u001b[0;31m---------------------------------------------------------------------------\u001b[0m",
      "\u001b[0;31mNameError\u001b[0m                                 Traceback (most recent call last)",
      "Cell \u001b[0;32mIn [259], line 1\u001b[0m\n\u001b[0;32m----> 1\u001b[0m X \u001b[38;5;241m=\u001b[39m torch\u001b[38;5;241m.\u001b[39mTensor(\u001b[43mX\u001b[49m\u001b[38;5;241m.\u001b[39mreshape(X\u001b[38;5;241m.\u001b[39mshape[\u001b[38;5;241m0\u001b[39m],X\u001b[38;5;241m.\u001b[39mshape[\u001b[38;5;241m1\u001b[39m],\u001b[38;5;241m2\u001b[39m,\u001b[38;5;241m5\u001b[39m)\u001b[38;5;241m.\u001b[39mastype(np\u001b[38;5;241m.\u001b[39mfloat32)) \u001b[38;5;66;03m# transform to torch tensor\u001b[39;00m\n\u001b[1;32m      2\u001b[0m y \u001b[38;5;241m=\u001b[39m torch\u001b[38;5;241m.\u001b[39mTensor(y\u001b[38;5;241m.\u001b[39mastype(np\u001b[38;5;241m.\u001b[39mfloat32))\n\u001b[1;32m      3\u001b[0m full_dataset \u001b[38;5;241m=\u001b[39m TensorDataset(X,y)\n",
      "\u001b[0;31mNameError\u001b[0m: name 'X' is not defined"
     ]
    }
   ],
   "source": [
    "X = torch.Tensor(X.reshape(X.shape[0],X.shape[1],2,5).astype(np.float32)) # transform to torch tensor\n",
    "y = torch.Tensor(y.astype(np.float32))\n",
    "full_dataset = TensorDataset(X,y)"
   ]
  },
  {
   "cell_type": "code",
   "execution_count": 260,
   "id": "3518fadf-8943-47c6-a161-ec9f9effff69",
   "metadata": {},
   "outputs": [
    {
     "ename": "NameError",
     "evalue": "name 'full_dataset' is not defined",
     "output_type": "error",
     "traceback": [
      "\u001b[0;31m---------------------------------------------------------------------------\u001b[0m",
      "\u001b[0;31mNameError\u001b[0m                                 Traceback (most recent call last)",
      "Cell \u001b[0;32mIn [260], line 1\u001b[0m\n\u001b[0;32m----> 1\u001b[0m train_size \u001b[38;5;241m=\u001b[39m \u001b[38;5;28mint\u001b[39m(\u001b[38;5;241m0.66\u001b[39m \u001b[38;5;241m*\u001b[39m \u001b[38;5;28mlen\u001b[39m(\u001b[43mfull_dataset\u001b[49m))\n\u001b[1;32m      2\u001b[0m test_size \u001b[38;5;241m=\u001b[39m \u001b[38;5;28mlen\u001b[39m(full_dataset) \u001b[38;5;241m-\u001b[39m train_size\n\u001b[1;32m      3\u001b[0m train_dataset, test_dataset \u001b[38;5;241m=\u001b[39m torch\u001b[38;5;241m.\u001b[39mutils\u001b[38;5;241m.\u001b[39mdata\u001b[38;5;241m.\u001b[39mrandom_split(full_dataset, [train_size, test_size])\n",
      "\u001b[0;31mNameError\u001b[0m: name 'full_dataset' is not defined"
     ]
    }
   ],
   "source": [
    "train_size = int(0.66 * len(full_dataset))\n",
    "test_size = len(full_dataset) - train_size\n",
    "train_dataset, test_dataset = torch.utils.data.random_split(full_dataset, [train_size, test_size])"
   ]
  },
  {
   "cell_type": "code",
   "execution_count": 261,
   "id": "831e0505-81fa-4e5d-80e9-f2e7daa30ca0",
   "metadata": {},
   "outputs": [
    {
     "ename": "NameError",
     "evalue": "name 'train_size' is not defined",
     "output_type": "error",
     "traceback": [
      "\u001b[0;31m---------------------------------------------------------------------------\u001b[0m",
      "\u001b[0;31mNameError\u001b[0m                                 Traceback (most recent call last)",
      "Cell \u001b[0;32mIn [261], line 1\u001b[0m\n\u001b[0;32m----> 1\u001b[0m \u001b[43mtrain_size\u001b[49m\n",
      "\u001b[0;31mNameError\u001b[0m: name 'train_size' is not defined"
     ]
    }
   ],
   "source": [
    "train_size"
   ]
  },
  {
   "cell_type": "code",
   "execution_count": 194,
   "id": "461227bb-aeee-4e7f-82c4-ad9f299e76dc",
   "metadata": {},
   "outputs": [
    {
     "data": {
      "text/plain": [
       "3328"
      ]
     },
     "execution_count": 194,
     "metadata": {},
     "output_type": "execute_result"
    }
   ],
   "source": [
    "test_size"
   ]
  },
  {
   "cell_type": "code",
   "execution_count": 195,
   "id": "ba1a5439-f51e-4b5b-8216-051891d5a62d",
   "metadata": {},
   "outputs": [],
   "source": [
    "BATCH_SIZE = 128\n",
    "train_dataloader = DataLoader(train_dataset,batch_size=BATCH_SIZE,shuffle=True)\n",
    "test_dataloader = DataLoader(test_dataset, batch_size=test_x.shape[0],shuffle=True)"
   ]
  },
  {
   "cell_type": "code",
   "execution_count": 34,
   "id": "502cf479-4af4-4ecd-a041-101b77a404c6",
   "metadata": {},
   "outputs": [],
   "source": [
    "# CNN1 512, kernel=3 × 3 [B, 2, 2, 512]\n",
    "# BN n/a [B, 2, 2, 512]\n",
    "# Activation Activation=‘ReLU’ [B, 2, 2, 512]\n",
    "# MaxPool pool size=2 × 2 [B, 1, 1, 512]\n",
    "# FC2 1024 [B, 1024]\n",
    "# Dropout2 rate = 0.2 [B, 1024]\n",
    "# FC3 1024 [B, 1024]\n",
    "# Dropout3 rate = 0.2 [B, 1024]\n",
    "# FC4 512 [B, 512]\n",
    "# Dropout4 rate = 0.2 [B, 512]\n",
    "\n",
    "# in_channels (int) – Number of channels in the input image\n",
    "\n",
    "# out_channels (int) – Number of channels produced by the convolution\n",
    "\n",
    "# kernel_size (int or tuple) – Size of the convolving kernel"
   ]
  },
  {
   "cell_type": "code",
   "execution_count": 297,
   "id": "70661ac3-c732-4c54-aa85-65bd16a8b2c4",
   "metadata": {},
   "outputs": [],
   "source": [
    "class DeepAoA(nn.Module):\n",
    "    input_channels = 3\n",
    "    channels_conv1 = 512\n",
    "    kernel_conv1 = [3, 2]\n",
    "    \n",
    "    def __init__(self):\n",
    "        super(DeepAoA, self).__init__()\n",
    "        self.conv1 = nn.Conv2d(self.input_channels, self.channels_conv1, self.kernel_conv1)\n",
    "        self.b1 = nn.BatchNorm2d(self.channels_conv1)\n",
    "        self.fc1 = nn.Linear(512, 1024) \n",
    "        self.fc2 = nn.Linear(1024, 1024) \n",
    "        self.fc3 = nn.Linear(1024, 512)\n",
    "        self.fc4 = nn.Linear(512, 1)\n",
    "        # self.dropout = nn.Dropout(0.2)\n",
    "\n",
    "    def forward(self,x):\n",
    "        out = self.conv1(x)\n",
    "        out = self.b1(out)\n",
    "        out = F.relu(out)\n",
    "        out = F.max_pool2d(out, (1,1))\n",
    "        out = torch.flatten(out, 1)\n",
    "        out = self.fc1(out)\n",
    "        out = F.relu(out)\n",
    "        # out = self.dropout(out)\n",
    "        out = self.fc2(out)\n",
    "        out = F.relu(out)\n",
    "        # out = self.dropout(out)\n",
    "        out = self.fc3(out)\n",
    "        out = F.relu(out)\n",
    "        # out = self.dropout(out)\n",
    "        out = self.fc4(out)\n",
    "        return out"
   ]
  },
  {
   "cell_type": "code",
   "execution_count": 298,
   "id": "3a04e186-4210-42eb-b5c1-daeeb160c463",
   "metadata": {},
   "outputs": [],
   "source": [
    "aoa = DeepAoA()"
   ]
  },
  {
   "cell_type": "code",
   "execution_count": 299,
   "id": "abd7d0c5-0487-4e1c-8cad-f0de1daf203c",
   "metadata": {},
   "outputs": [
    {
     "data": {
      "text/plain": [
       "DeepAoA(\n",
       "  (conv1): Conv2d(3, 512, kernel_size=(3, 2), stride=(1, 1))\n",
       "  (b1): BatchNorm2d(512, eps=1e-05, momentum=0.1, affine=True, track_running_stats=True)\n",
       "  (fc1): Linear(in_features=512, out_features=1024, bias=True)\n",
       "  (fc2): Linear(in_features=1024, out_features=1024, bias=True)\n",
       "  (fc3): Linear(in_features=1024, out_features=512, bias=True)\n",
       "  (fc4): Linear(in_features=512, out_features=1, bias=True)\n",
       ")"
      ]
     },
     "execution_count": 299,
     "metadata": {},
     "output_type": "execute_result"
    }
   ],
   "source": [
    "aoa"
   ]
  },
  {
   "cell_type": "code",
   "execution_count": 300,
   "id": "57be099b-a652-41f2-9003-ceec15eea1d2",
   "metadata": {},
   "outputs": [],
   "source": [
    "criterion = nn.MSELoss()\n",
    "optimizer = optim.Adam(aoa.parameters(),lr=0.001)"
   ]
  },
  {
   "cell_type": "code",
   "execution_count": 301,
   "id": "0d0ae553-e77f-403d-b2ee-5257e85032e2",
   "metadata": {},
   "outputs": [],
   "source": [
    "def train(epoch):\n",
    "    print('Epoch : %d'%epoch)\n",
    "\n",
    "    aoa.train()\n",
    "    running_loss = 0.0\n",
    "    for i, data in enumerate(train_dataloader, 0):\n",
    "        # get the inputs; data is a list of [inputs, labels]\n",
    "        inputs, labels = data\n",
    "\n",
    "        # zero the parameter gradients\n",
    "        optimizer.zero_grad()\n",
    "\n",
    "        # forward + backward + optimize\n",
    "        outputs = aoa(inputs)\n",
    "        \n",
    "        loss = criterion(outputs[:,0], labels)\n",
    "        loss.backward()\n",
    "        optimizer.step()\n",
    "\n",
    "        # print statistics\n",
    "        running_loss += loss.item()\n",
    "        # if i % 500 == 499:    # print every 2000 mini-batches\n",
    "        #     print(f'[{epoch + 1}, {i + 1:5d}] loss: {running_loss / 2000:.3f}')\n",
    "        #     running_loss = 0.0\n",
    "    train_loss=running_loss/len(train_dataloader)\n",
    "    print(f'[{epoch + 1}] loss: {running_loss / 2000:.3f}')\n",
    "    print(train_loss)\n",
    "    # print(len(train_dataloader))\n",
    "    train_accu.append(train_loss)\n",
    "    return"
   ]
  },
  {
   "cell_type": "code",
   "execution_count": 302,
   "id": "8546fb87-f819-4c2d-af3c-05b533f1986f",
   "metadata": {},
   "outputs": [],
   "source": [
    "def test(epoch):\n",
    "    aoa.eval()\n",
    "    running_loss=0\n",
    "    with torch.no_grad():\n",
    "        for data in test_dataloader: \n",
    "            inputs, labels = data \n",
    "            predicted_outputs = aoa(inputs) \n",
    "            loss = criterion(predicted_outputs[:,0], labels)\n",
    "            running_loss += loss\n",
    "        test_loss=running_loss/len(test_dataloader)\n",
    "        test_accu.append(test_loss)\n",
    "    return"
   ]
  },
  {
   "cell_type": "code",
   "execution_count": 303,
   "id": "a4996453-d896-45fa-9b40-49f537ae54a4",
   "metadata": {},
   "outputs": [
    {
     "name": "stdout",
     "output_type": "stream",
     "text": [
      "Epoch : 0\n",
      "[1] loss: 22.034\n",
      "759.7821318527748\n",
      "Epoch : 1\n",
      "[2] loss: 21.980\n",
      "757.9450673070447\n",
      "Epoch : 2\n",
      "[3] loss: 21.959\n",
      "757.2075290022225\n",
      "Epoch : 3\n",
      "[4] loss: 21.914\n",
      "755.6712688577586\n",
      "Epoch : 4\n",
      "[5] loss: 21.857\n",
      "753.7011308341191\n",
      "Epoch : 5\n",
      "[6] loss: 21.795\n",
      "751.5492259058459\n",
      "Epoch : 6\n",
      "[7] loss: 21.658\n",
      "746.8175585516568\n",
      "Epoch : 7\n",
      "[8] loss: 21.590\n",
      "744.4706347235318\n",
      "Epoch : 8\n",
      "[9] loss: 21.502\n",
      "741.4387838429418\n",
      "Epoch : 9\n",
      "[10] loss: 21.386\n",
      "737.4361835348195\n"
     ]
    }
   ],
   "source": [
    "test_accu = []\n",
    "train_accu = []\n",
    "for i in range(10):\n",
    "    train(i)\n",
    "    test(i)"
   ]
  },
  {
   "cell_type": "code",
   "execution_count": 304,
   "id": "8651d58a-d17b-4c91-88f2-b9d612e0ccd3",
   "metadata": {},
   "outputs": [
    {
     "data": {
      "image/png": "[encoded data removed]",
      "text/plain": [
       "<Figure size 960x640 with 1 Axes>"
      ]
     },
     "metadata": {},
     "output_type": "display_data"
    }
   ],
   "source": [
    "figure(figsize=(12, 8), dpi=80)\n",
    "plt.plot(train_accu,'-o')\n",
    "plt.plot(test_accu,'-o')\n",
    "\n",
    "plt.xlabel('epoch')\n",
    "plt.ylabel('Mean Squared Loss')\n",
    "plt.legend(['Train','Test'])\n",
    "plt.title('Train vs Test Accuracy Covariance Matrix')\n",
    "# plt.savefig('train_test_m_cov.png')\n",
    "plt.show()"
   ]
  },
  {
   "cell_type": "code",
   "execution_count": 247,
   "id": "5af671c9-a6cd-44df-961e-d491b86c5f92",
   "metadata": {},
   "outputs": [
    {
     "data": {
      "image/png": "[encoded data removed]",
      "text/plain": [
       "<Figure size 960x640 with 1 Axes>"
      ]
     },
     "metadata": {},
     "output_type": "display_data"
    }
   ],
   "source": [
    "figure(figsize=(12, 8), dpi=80)\n",
    "plt.plot(train_accu,'-o')\n",
    "# plt.plot(test_accu,'-o')\n",
    "\n",
    "plt.xlabel('epoch')\n",
    "plt.ylabel('Mean Squared Loss')\n",
    "plt.legend(['Train','Test'])\n",
    "plt.title('Model Convergence')\n",
    "# plt.savefig('model_conv_mid.png',bbox=\"tight\")\n",
    "plt.show()"
   ]
  },
  {
   "cell_type": "code",
   "execution_count": 147,
   "id": "994d9215-d96e-440f-8911-3c8ab2230802",
   "metadata": {},
   "outputs": [],
   "source": [
    "results = {\"mid_rest_mae\": 11.87}"
   ]
  },
  {
   "cell_type": "code",
   "execution_count": 148,
   "id": "f58c744e-5162-4d37-80dc-fd60a6aa3910",
   "metadata": {},
   "outputs": [],
   "source": [
    "mae = nn.L1Loss()"
   ]
  },
  {
   "cell_type": "code",
   "execution_count": 149,
   "id": "a4d3ac53-9477-46da-81d0-2a1b6b75740f",
   "metadata": {},
   "outputs": [
    {
     "name": "stdout",
     "output_type": "stream",
     "text": [
      "torch.Size([9788, 1])\n",
      "torch.Size([9788])\n",
      "tensor(23.9557)\n",
      "torch.Size([9788])\n"
     ]
    }
   ],
   "source": [
    "aoa.eval()\n",
    "preds = pd.DataFrame()\n",
    "gt = pd.DataFrame()\n",
    "with torch.no_grad(): \n",
    "    for data in test_dataloader: \n",
    "        inputs, outputs = data \n",
    "        predicted_outputs = aoa(inputs) \n",
    "        print(predicted_outputs.shape)\n",
    "        print(outputs.shape)\n",
    "        print(mae(predicted_outputs[:,0], outputs))\n",
    "        preds['preds'] = predicted_outputs[:,0]\n",
    "        preds['Model'] = 'DeepAoANet Covariance'\n",
    "        print(outputs.shape)\n",
    "        gt['true'] = outputs\n",
    "        gt['Model'] = 'Ground Truth'\n",
    "        "
   ]
  },
  {
   "cell_type": "code",
   "execution_count": 150,
   "id": "1a178475-887f-4ebd-8ba2-4d2f7999930c",
   "metadata": {},
   "outputs": [
    {
     "name": "stderr",
     "output_type": "stream",
     "text": [
      "/var/folders/l_/cjgh4zp97tx6xy5fhn4tzw9w0000gn/T/ipykernel_49758/2886205985.py:9: MatplotlibDeprecationWarning: savefig() got unexpected keyword argument \"bbox\" which is no longer supported as of 3.3 and will become an error in 3.6\n",
      "  plt.savefig('model_conv_mid_densities_cov.png',bbox='tight')\n"
     ]
    },
    {
     "data": {
      "text/plain": [
       "<Figure size 960x640 with 0 Axes>"
      ]
     },
     "metadata": {},
     "output_type": "display_data"
    },
    {
     "data": {
      "image/png": "[encoded data removed]",
      "text/plain": [
       "<Figure size 725.375x500 with 1 Axes>"
      ]
     },
     "metadata": {},
     "output_type": "display_data"
    }
   ],
   "source": [
    "# recast into long format \n",
    "res = pd.DataFrame()\n",
    "# sns.set(rc={'figure.figsize':(12,8.27)})\n",
    "figure(figsize=(12, 8), dpi=80)\n",
    "sns.set_theme(style='white')\n",
    "res['value'] = pd.concat([preds['preds'], gt['true']],axis=0)\n",
    "res['Model'] = pd.concat([preds['Model'], gt['Model']], axis=0)\n",
    "sns.displot(x=res['value'], kind=\"kde\", hue=res['Model'])\n",
    "plt.savefig('model_conv_mid_densities_cov.png',bbox='tight')\n",
    "plt.show()"
   ]
  },
  {
   "cell_type": "code",
   "execution_count": 151,
   "id": "68c6ee44-a616-48ef-96bf-b8cc1e4ab41b",
   "metadata": {},
   "outputs": [
    {
     "data": {
      "text/html": [
       "<div>\n",
       "<style scoped>\n",
       "    .dataframe tbody tr th:only-of-type {\n",
       "        vertical-align: middle;\n",
       "    }\n",
       "\n",
       "    .dataframe tbody tr th {\n",
       "        vertical-align: top;\n",
       "    }\n",
       "\n",
       "    .dataframe thead th {\n",
       "        text-align: right;\n",
       "    }\n",
       "</style>\n",
       "<table border=\"1\" class=\"dataframe\">\n",
       "  <thead>\n",
       "    <tr style=\"text-align: right;\">\n",
       "      <th></th>\n",
       "      <th>value</th>\n",
       "      <th>Model</th>\n",
       "    </tr>\n",
       "  </thead>\n",
       "  <tbody>\n",
       "    <tr>\n",
       "      <th>0</th>\n",
       "      <td>1.984799</td>\n",
       "      <td>DeepAoANet Covariance</td>\n",
       "    </tr>\n",
       "    <tr>\n",
       "      <th>1</th>\n",
       "      <td>3.714398</td>\n",
       "      <td>DeepAoANet Covariance</td>\n",
       "    </tr>\n",
       "    <tr>\n",
       "      <th>2</th>\n",
       "      <td>-1.415913</td>\n",
       "      <td>DeepAoANet Covariance</td>\n",
       "    </tr>\n",
       "    <tr>\n",
       "      <th>3</th>\n",
       "      <td>1.530011</td>\n",
       "      <td>DeepAoANet Covariance</td>\n",
       "    </tr>\n",
       "    <tr>\n",
       "      <th>4</th>\n",
       "      <td>-1.517265</td>\n",
       "      <td>DeepAoANet Covariance</td>\n",
       "    </tr>\n",
       "  </tbody>\n",
       "</table>\n",
       "</div>"
      ],
      "text/plain": [
       "      value                  Model\n",
       "0  1.984799  DeepAoANet Covariance\n",
       "1  3.714398  DeepAoANet Covariance\n",
       "2 -1.415913  DeepAoANet Covariance\n",
       "3  1.530011  DeepAoANet Covariance\n",
       "4 -1.517265  DeepAoANet Covariance"
      ]
     },
     "execution_count": 151,
     "metadata": {},
     "output_type": "execute_result"
    }
   ],
   "source": [
    "res.head()"
   ]
  },
  {
   "cell_type": "code",
   "execution_count": 25,
   "id": "5d08f46d-c591-4d82-bfab-6fc8d1ce44ae",
   "metadata": {},
   "outputs": [],
   "source": [
    "from torchviz import make_dot"
   ]
  },
  {
   "cell_type": "code",
   "execution_count": 29,
   "id": "352d705a-d7ce-4c22-9a5a-8bd1eadf813e",
   "metadata": {},
   "outputs": [
    {
     "ename": "ExecutableNotFound",
     "evalue": "failed to execute PosixPath('dot'), make sure the Graphviz executables are on your systems' PATH",
     "output_type": "error",
     "traceback": [
      "\u001b[0;31m---------------------------------------------------------------------------\u001b[0m",
      "\u001b[0;31mFileNotFoundError\u001b[0m                         Traceback (most recent call last)",
      "File \u001b[0;32m/opt/homebrew/Caskroom/miniconda/base/envs/AoA/lib/python3.10/site-packages/graphviz/backend/execute.py:79\u001b[0m, in \u001b[0;36mrun_check\u001b[0;34m(cmd, input_lines, encoding, quiet, **kwargs)\u001b[0m\n\u001b[1;32m     78\u001b[0m         kwargs[\u001b[38;5;124m'\u001b[39m\u001b[38;5;124mstdout\u001b[39m\u001b[38;5;124m'\u001b[39m] \u001b[38;5;241m=\u001b[39m kwargs[\u001b[38;5;124m'\u001b[39m\u001b[38;5;124mstderr\u001b[39m\u001b[38;5;124m'\u001b[39m] \u001b[38;5;241m=\u001b[39m subprocess\u001b[38;5;241m.\u001b[39mPIPE\n\u001b[0;32m---> 79\u001b[0m     proc \u001b[38;5;241m=\u001b[39m \u001b[43m_run_input_lines\u001b[49m\u001b[43m(\u001b[49m\u001b[43mcmd\u001b[49m\u001b[43m,\u001b[49m\u001b[43m \u001b[49m\u001b[43minput_lines\u001b[49m\u001b[43m,\u001b[49m\u001b[43m \u001b[49m\u001b[43mkwargs\u001b[49m\u001b[38;5;241;43m=\u001b[39;49m\u001b[43mkwargs\u001b[49m\u001b[43m)\u001b[49m\n\u001b[1;32m     80\u001b[0m \u001b[38;5;28;01melse\u001b[39;00m:\n",
      "File \u001b[0;32m/opt/homebrew/Caskroom/miniconda/base/envs/AoA/lib/python3.10/site-packages/graphviz/backend/execute.py:99\u001b[0m, in \u001b[0;36m_run_input_lines\u001b[0;34m(cmd, input_lines, kwargs)\u001b[0m\n\u001b[1;32m     98\u001b[0m \u001b[38;5;28;01mdef\u001b[39;00m \u001b[38;5;21m_run_input_lines\u001b[39m(cmd, input_lines, \u001b[38;5;241m*\u001b[39m, kwargs):\n\u001b[0;32m---> 99\u001b[0m     popen \u001b[38;5;241m=\u001b[39m \u001b[43msubprocess\u001b[49m\u001b[38;5;241;43m.\u001b[39;49m\u001b[43mPopen\u001b[49m\u001b[43m(\u001b[49m\u001b[43mcmd\u001b[49m\u001b[43m,\u001b[49m\u001b[43m \u001b[49m\u001b[43mstdin\u001b[49m\u001b[38;5;241;43m=\u001b[39;49m\u001b[43msubprocess\u001b[49m\u001b[38;5;241;43m.\u001b[39;49m\u001b[43mPIPE\u001b[49m\u001b[43m,\u001b[49m\u001b[43m \u001b[49m\u001b[38;5;241;43m*\u001b[39;49m\u001b[38;5;241;43m*\u001b[39;49m\u001b[43mkwargs\u001b[49m\u001b[43m)\u001b[49m\n\u001b[1;32m    101\u001b[0m     stdin_write \u001b[38;5;241m=\u001b[39m popen\u001b[38;5;241m.\u001b[39mstdin\u001b[38;5;241m.\u001b[39mwrite\n",
      "File \u001b[0;32m/opt/homebrew/Caskroom/miniconda/base/envs/AoA/lib/python3.10/subprocess.py:966\u001b[0m, in \u001b[0;36mPopen.__init__\u001b[0;34m(self, args, bufsize, executable, stdin, stdout, stderr, preexec_fn, close_fds, shell, cwd, env, universal_newlines, startupinfo, creationflags, restore_signals, start_new_session, pass_fds, user, group, extra_groups, encoding, errors, text, umask, pipesize)\u001b[0m\n\u001b[1;32m    963\u001b[0m             \u001b[38;5;28mself\u001b[39m\u001b[38;5;241m.\u001b[39mstderr \u001b[38;5;241m=\u001b[39m io\u001b[38;5;241m.\u001b[39mTextIOWrapper(\u001b[38;5;28mself\u001b[39m\u001b[38;5;241m.\u001b[39mstderr,\n\u001b[1;32m    964\u001b[0m                     encoding\u001b[38;5;241m=\u001b[39mencoding, errors\u001b[38;5;241m=\u001b[39merrors)\n\u001b[0;32m--> 966\u001b[0m     \u001b[38;5;28;43mself\u001b[39;49m\u001b[38;5;241;43m.\u001b[39;49m\u001b[43m_execute_child\u001b[49m\u001b[43m(\u001b[49m\u001b[43margs\u001b[49m\u001b[43m,\u001b[49m\u001b[43m \u001b[49m\u001b[43mexecutable\u001b[49m\u001b[43m,\u001b[49m\u001b[43m \u001b[49m\u001b[43mpreexec_fn\u001b[49m\u001b[43m,\u001b[49m\u001b[43m \u001b[49m\u001b[43mclose_fds\u001b[49m\u001b[43m,\u001b[49m\n\u001b[1;32m    967\u001b[0m \u001b[43m                        \u001b[49m\u001b[43mpass_fds\u001b[49m\u001b[43m,\u001b[49m\u001b[43m \u001b[49m\u001b[43mcwd\u001b[49m\u001b[43m,\u001b[49m\u001b[43m \u001b[49m\u001b[43menv\u001b[49m\u001b[43m,\u001b[49m\n\u001b[1;32m    968\u001b[0m \u001b[43m                        \u001b[49m\u001b[43mstartupinfo\u001b[49m\u001b[43m,\u001b[49m\u001b[43m \u001b[49m\u001b[43mcreationflags\u001b[49m\u001b[43m,\u001b[49m\u001b[43m \u001b[49m\u001b[43mshell\u001b[49m\u001b[43m,\u001b[49m\n\u001b[1;32m    969\u001b[0m \u001b[43m                        \u001b[49m\u001b[43mp2cread\u001b[49m\u001b[43m,\u001b[49m\u001b[43m \u001b[49m\u001b[43mp2cwrite\u001b[49m\u001b[43m,\u001b[49m\n\u001b[1;32m    970\u001b[0m \u001b[43m                        \u001b[49m\u001b[43mc2pread\u001b[49m\u001b[43m,\u001b[49m\u001b[43m \u001b[49m\u001b[43mc2pwrite\u001b[49m\u001b[43m,\u001b[49m\n\u001b[1;32m    971\u001b[0m \u001b[43m                        \u001b[49m\u001b[43merrread\u001b[49m\u001b[43m,\u001b[49m\u001b[43m \u001b[49m\u001b[43merrwrite\u001b[49m\u001b[43m,\u001b[49m\n\u001b[1;32m    972\u001b[0m \u001b[43m                        \u001b[49m\u001b[43mrestore_signals\u001b[49m\u001b[43m,\u001b[49m\n\u001b[1;32m    973\u001b[0m \u001b[43m                        \u001b[49m\u001b[43mgid\u001b[49m\u001b[43m,\u001b[49m\u001b[43m \u001b[49m\u001b[43mgids\u001b[49m\u001b[43m,\u001b[49m\u001b[43m \u001b[49m\u001b[43muid\u001b[49m\u001b[43m,\u001b[49m\u001b[43m \u001b[49m\u001b[43mumask\u001b[49m\u001b[43m,\u001b[49m\n\u001b[1;32m    974\u001b[0m \u001b[43m                        \u001b[49m\u001b[43mstart_new_session\u001b[49m\u001b[43m)\u001b[49m\n\u001b[1;32m    975\u001b[0m \u001b[38;5;28;01mexcept\u001b[39;00m:\n\u001b[1;32m    976\u001b[0m     \u001b[38;5;66;03m# Cleanup if the child failed starting.\u001b[39;00m\n",
      "File \u001b[0;32m/opt/homebrew/Caskroom/miniconda/base/envs/AoA/lib/python3.10/subprocess.py:1842\u001b[0m, in \u001b[0;36mPopen._execute_child\u001b[0;34m(self, args, executable, preexec_fn, close_fds, pass_fds, cwd, env, startupinfo, creationflags, shell, p2cread, p2cwrite, c2pread, c2pwrite, errread, errwrite, restore_signals, gid, gids, uid, umask, start_new_session)\u001b[0m\n\u001b[1;32m   1841\u001b[0m         err_msg \u001b[38;5;241m=\u001b[39m os\u001b[38;5;241m.\u001b[39mstrerror(errno_num)\n\u001b[0;32m-> 1842\u001b[0m     \u001b[38;5;28;01mraise\u001b[39;00m child_exception_type(errno_num, err_msg, err_filename)\n\u001b[1;32m   1843\u001b[0m \u001b[38;5;28;01mraise\u001b[39;00m child_exception_type(err_msg)\n",
      "\u001b[0;31mFileNotFoundError\u001b[0m: [Errno 2] No such file or directory: PosixPath('dot')",
      "\nThe above exception was the direct cause of the following exception:\n",
      "\u001b[0;31mExecutableNotFound\u001b[0m                        Traceback (most recent call last)",
      "File \u001b[0;32m/opt/homebrew/Caskroom/miniconda/base/envs/AoA/lib/python3.10/site-packages/IPython/core/formatters.py:973\u001b[0m, in \u001b[0;36mMimeBundleFormatter.__call__\u001b[0;34m(self, obj, include, exclude)\u001b[0m\n\u001b[1;32m    970\u001b[0m     method \u001b[38;5;241m=\u001b[39m get_real_method(obj, \u001b[38;5;28mself\u001b[39m\u001b[38;5;241m.\u001b[39mprint_method)\n\u001b[1;32m    972\u001b[0m     \u001b[38;5;28;01mif\u001b[39;00m method \u001b[38;5;129;01mis\u001b[39;00m \u001b[38;5;129;01mnot\u001b[39;00m \u001b[38;5;28;01mNone\u001b[39;00m:\n\u001b[0;32m--> 973\u001b[0m         \u001b[38;5;28;01mreturn\u001b[39;00m \u001b[43mmethod\u001b[49m\u001b[43m(\u001b[49m\u001b[43minclude\u001b[49m\u001b[38;5;241;43m=\u001b[39;49m\u001b[43minclude\u001b[49m\u001b[43m,\u001b[49m\u001b[43m \u001b[49m\u001b[43mexclude\u001b[49m\u001b[38;5;241;43m=\u001b[39;49m\u001b[43mexclude\u001b[49m\u001b[43m)\u001b[49m\n\u001b[1;32m    974\u001b[0m     \u001b[38;5;28;01mreturn\u001b[39;00m \u001b[38;5;28;01mNone\u001b[39;00m\n\u001b[1;32m    975\u001b[0m \u001b[38;5;28;01melse\u001b[39;00m:\n",
      "File \u001b[0;32m/opt/homebrew/Caskroom/miniconda/base/envs/AoA/lib/python3.10/site-packages/graphviz/jupyter_integration.py:98\u001b[0m, in \u001b[0;36mJupyterIntegration._repr_mimebundle_\u001b[0;34m(self, include, exclude, **_)\u001b[0m\n\u001b[1;32m     96\u001b[0m include \u001b[38;5;241m=\u001b[39m \u001b[38;5;28mset\u001b[39m(include) \u001b[38;5;28;01mif\u001b[39;00m include \u001b[38;5;129;01mis\u001b[39;00m \u001b[38;5;129;01mnot\u001b[39;00m \u001b[38;5;28;01mNone\u001b[39;00m \u001b[38;5;28;01melse\u001b[39;00m {\u001b[38;5;28mself\u001b[39m\u001b[38;5;241m.\u001b[39m_jupyter_mimetype}\n\u001b[1;32m     97\u001b[0m include \u001b[38;5;241m-\u001b[39m\u001b[38;5;241m=\u001b[39m \u001b[38;5;28mset\u001b[39m(exclude \u001b[38;5;129;01mor\u001b[39;00m [])\n\u001b[0;32m---> 98\u001b[0m \u001b[38;5;28;01mreturn\u001b[39;00m {mimetype: \u001b[38;5;28mgetattr\u001b[39m(\u001b[38;5;28mself\u001b[39m, method_name)()\n\u001b[1;32m     99\u001b[0m         \u001b[38;5;28;01mfor\u001b[39;00m mimetype, method_name \u001b[38;5;129;01min\u001b[39;00m MIME_TYPES\u001b[38;5;241m.\u001b[39mitems()\n\u001b[1;32m    100\u001b[0m         \u001b[38;5;28;01mif\u001b[39;00m mimetype \u001b[38;5;129;01min\u001b[39;00m include}\n",
      "File \u001b[0;32m/opt/homebrew/Caskroom/miniconda/base/envs/AoA/lib/python3.10/site-packages/graphviz/jupyter_integration.py:98\u001b[0m, in \u001b[0;36m<dictcomp>\u001b[0;34m(.0)\u001b[0m\n\u001b[1;32m     96\u001b[0m include \u001b[38;5;241m=\u001b[39m \u001b[38;5;28mset\u001b[39m(include) \u001b[38;5;28;01mif\u001b[39;00m include \u001b[38;5;129;01mis\u001b[39;00m \u001b[38;5;129;01mnot\u001b[39;00m \u001b[38;5;28;01mNone\u001b[39;00m \u001b[38;5;28;01melse\u001b[39;00m {\u001b[38;5;28mself\u001b[39m\u001b[38;5;241m.\u001b[39m_jupyter_mimetype}\n\u001b[1;32m     97\u001b[0m include \u001b[38;5;241m-\u001b[39m\u001b[38;5;241m=\u001b[39m \u001b[38;5;28mset\u001b[39m(exclude \u001b[38;5;129;01mor\u001b[39;00m [])\n\u001b[0;32m---> 98\u001b[0m \u001b[38;5;28;01mreturn\u001b[39;00m {mimetype: \u001b[38;5;28;43mgetattr\u001b[39;49m\u001b[43m(\u001b[49m\u001b[38;5;28;43mself\u001b[39;49m\u001b[43m,\u001b[49m\u001b[43m \u001b[49m\u001b[43mmethod_name\u001b[49m\u001b[43m)\u001b[49m\u001b[43m(\u001b[49m\u001b[43m)\u001b[49m\n\u001b[1;32m     99\u001b[0m         \u001b[38;5;28;01mfor\u001b[39;00m mimetype, method_name \u001b[38;5;129;01min\u001b[39;00m MIME_TYPES\u001b[38;5;241m.\u001b[39mitems()\n\u001b[1;32m    100\u001b[0m         \u001b[38;5;28;01mif\u001b[39;00m mimetype \u001b[38;5;129;01min\u001b[39;00m include}\n",
      "File \u001b[0;32m/opt/homebrew/Caskroom/miniconda/base/envs/AoA/lib/python3.10/site-packages/graphviz/jupyter_integration.py:112\u001b[0m, in \u001b[0;36mJupyterIntegration._repr_image_svg_xml\u001b[0;34m(self)\u001b[0m\n\u001b[1;32m    110\u001b[0m \u001b[38;5;28;01mdef\u001b[39;00m \u001b[38;5;21m_repr_image_svg_xml\u001b[39m(\u001b[38;5;28mself\u001b[39m) \u001b[38;5;241m-\u001b[39m\u001b[38;5;241m>\u001b[39m \u001b[38;5;28mstr\u001b[39m:\n\u001b[1;32m    111\u001b[0m     \u001b[38;5;124;03m\"\"\"Return the rendered graph as SVG string.\"\"\"\u001b[39;00m\n\u001b[0;32m--> 112\u001b[0m     \u001b[38;5;28;01mreturn\u001b[39;00m \u001b[38;5;28;43mself\u001b[39;49m\u001b[38;5;241;43m.\u001b[39;49m\u001b[43mpipe\u001b[49m\u001b[43m(\u001b[49m\u001b[38;5;28;43mformat\u001b[39;49m\u001b[38;5;241;43m=\u001b[39;49m\u001b[38;5;124;43m'\u001b[39;49m\u001b[38;5;124;43msvg\u001b[39;49m\u001b[38;5;124;43m'\u001b[39;49m\u001b[43m,\u001b[49m\u001b[43m \u001b[49m\u001b[43mencoding\u001b[49m\u001b[38;5;241;43m=\u001b[39;49m\u001b[43mSVG_ENCODING\u001b[49m\u001b[43m)\u001b[49m\n",
      "File \u001b[0;32m/opt/homebrew/Caskroom/miniconda/base/envs/AoA/lib/python3.10/site-packages/graphviz/piping.py:104\u001b[0m, in \u001b[0;36mPipe.pipe\u001b[0;34m(self, format, renderer, formatter, neato_no_op, quiet, engine, encoding)\u001b[0m\n\u001b[1;32m     55\u001b[0m \u001b[38;5;28;01mdef\u001b[39;00m \u001b[38;5;21mpipe\u001b[39m(\u001b[38;5;28mself\u001b[39m,\n\u001b[1;32m     56\u001b[0m          \u001b[38;5;28mformat\u001b[39m: typing\u001b[38;5;241m.\u001b[39mOptional[\u001b[38;5;28mstr\u001b[39m] \u001b[38;5;241m=\u001b[39m \u001b[38;5;28;01mNone\u001b[39;00m,\n\u001b[1;32m     57\u001b[0m          renderer: typing\u001b[38;5;241m.\u001b[39mOptional[\u001b[38;5;28mstr\u001b[39m] \u001b[38;5;241m=\u001b[39m \u001b[38;5;28;01mNone\u001b[39;00m,\n\u001b[0;32m   (...)\u001b[0m\n\u001b[1;32m     61\u001b[0m          engine: typing\u001b[38;5;241m.\u001b[39mOptional[\u001b[38;5;28mstr\u001b[39m] \u001b[38;5;241m=\u001b[39m \u001b[38;5;28;01mNone\u001b[39;00m,\n\u001b[1;32m     62\u001b[0m          encoding: typing\u001b[38;5;241m.\u001b[39mOptional[\u001b[38;5;28mstr\u001b[39m] \u001b[38;5;241m=\u001b[39m \u001b[38;5;28;01mNone\u001b[39;00m) \u001b[38;5;241m-\u001b[39m\u001b[38;5;241m>\u001b[39m typing\u001b[38;5;241m.\u001b[39mUnion[\u001b[38;5;28mbytes\u001b[39m, \u001b[38;5;28mstr\u001b[39m]:\n\u001b[1;32m     63\u001b[0m     \u001b[38;5;124;03m\"\"\"Return the source piped through the Graphviz layout command.\u001b[39;00m\n\u001b[1;32m     64\u001b[0m \n\u001b[1;32m     65\u001b[0m \u001b[38;5;124;03m    Args:\u001b[39;00m\n\u001b[0;32m   (...)\u001b[0m\n\u001b[1;32m    102\u001b[0m \u001b[38;5;124;03m        '<?xml version='\u001b[39;00m\n\u001b[1;32m    103\u001b[0m \u001b[38;5;124;03m    \"\"\"\u001b[39;00m\n\u001b[0;32m--> 104\u001b[0m     \u001b[38;5;28;01mreturn\u001b[39;00m \u001b[38;5;28;43mself\u001b[39;49m\u001b[38;5;241;43m.\u001b[39;49m\u001b[43m_pipe_legacy\u001b[49m\u001b[43m(\u001b[49m\u001b[38;5;28;43mformat\u001b[39;49m\u001b[43m,\u001b[49m\n\u001b[1;32m    105\u001b[0m \u001b[43m                             \u001b[49m\u001b[43mrenderer\u001b[49m\u001b[38;5;241;43m=\u001b[39;49m\u001b[43mrenderer\u001b[49m\u001b[43m,\u001b[49m\n\u001b[1;32m    106\u001b[0m \u001b[43m                             \u001b[49m\u001b[43mformatter\u001b[49m\u001b[38;5;241;43m=\u001b[39;49m\u001b[43mformatter\u001b[49m\u001b[43m,\u001b[49m\n\u001b[1;32m    107\u001b[0m \u001b[43m                             \u001b[49m\u001b[43mneato_no_op\u001b[49m\u001b[38;5;241;43m=\u001b[39;49m\u001b[43mneato_no_op\u001b[49m\u001b[43m,\u001b[49m\n\u001b[1;32m    108\u001b[0m \u001b[43m                             \u001b[49m\u001b[43mquiet\u001b[49m\u001b[38;5;241;43m=\u001b[39;49m\u001b[43mquiet\u001b[49m\u001b[43m,\u001b[49m\n\u001b[1;32m    109\u001b[0m \u001b[43m                             \u001b[49m\u001b[43mengine\u001b[49m\u001b[38;5;241;43m=\u001b[39;49m\u001b[43mengine\u001b[49m\u001b[43m,\u001b[49m\n\u001b[1;32m    110\u001b[0m \u001b[43m                             \u001b[49m\u001b[43mencoding\u001b[49m\u001b[38;5;241;43m=\u001b[39;49m\u001b[43mencoding\u001b[49m\u001b[43m)\u001b[49m\n",
      "File \u001b[0;32m/opt/homebrew/Caskroom/miniconda/base/envs/AoA/lib/python3.10/site-packages/graphviz/_tools.py:171\u001b[0m, in \u001b[0;36mdeprecate_positional_args.<locals>.decorator.<locals>.wrapper\u001b[0;34m(*args, **kwargs)\u001b[0m\n\u001b[1;32m    162\u001b[0m     wanted \u001b[38;5;241m=\u001b[39m \u001b[38;5;124m'\u001b[39m\u001b[38;5;124m, \u001b[39m\u001b[38;5;124m'\u001b[39m\u001b[38;5;241m.\u001b[39mjoin(\u001b[38;5;124mf\u001b[39m\u001b[38;5;124m'\u001b[39m\u001b[38;5;132;01m{\u001b[39;00mname\u001b[38;5;132;01m}\u001b[39;00m\u001b[38;5;124m=\u001b[39m\u001b[38;5;132;01m{\u001b[39;00mvalue\u001b[38;5;132;01m!r}\u001b[39;00m\u001b[38;5;124m'\u001b[39m\n\u001b[1;32m    163\u001b[0m                        \u001b[38;5;28;01mfor\u001b[39;00m name, value \u001b[38;5;129;01min\u001b[39;00m deprecated\u001b[38;5;241m.\u001b[39mitems())\n\u001b[1;32m    164\u001b[0m     warnings\u001b[38;5;241m.\u001b[39mwarn(\u001b[38;5;124mf\u001b[39m\u001b[38;5;124m'\u001b[39m\u001b[38;5;124mThe signature of \u001b[39m\u001b[38;5;132;01m{\u001b[39;00mfunc\u001b[38;5;241m.\u001b[39m\u001b[38;5;18m__name__\u001b[39m\u001b[38;5;132;01m}\u001b[39;00m\u001b[38;5;124m will be reduced\u001b[39m\u001b[38;5;124m'\u001b[39m\n\u001b[1;32m    165\u001b[0m                   \u001b[38;5;124mf\u001b[39m\u001b[38;5;124m'\u001b[39m\u001b[38;5;124m to \u001b[39m\u001b[38;5;132;01m{\u001b[39;00msupported_number\u001b[38;5;132;01m}\u001b[39;00m\u001b[38;5;124m positional args\u001b[39m\u001b[38;5;124m'\u001b[39m\n\u001b[1;32m    166\u001b[0m                   \u001b[38;5;124mf\u001b[39m\u001b[38;5;124m'\u001b[39m\u001b[38;5;124m \u001b[39m\u001b[38;5;132;01m{\u001b[39;00m\u001b[38;5;28mlist\u001b[39m(supported)\u001b[38;5;132;01m}\u001b[39;00m\u001b[38;5;124m: pass \u001b[39m\u001b[38;5;132;01m{\u001b[39;00mwanted\u001b[38;5;132;01m}\u001b[39;00m\u001b[38;5;124m'\u001b[39m\n\u001b[1;32m    167\u001b[0m                   \u001b[38;5;124m'\u001b[39m\u001b[38;5;124m as keyword arg(s)\u001b[39m\u001b[38;5;124m'\u001b[39m,\n\u001b[1;32m    168\u001b[0m                   stacklevel\u001b[38;5;241m=\u001b[39mstacklevel,\n\u001b[1;32m    169\u001b[0m                   category\u001b[38;5;241m=\u001b[39mcategory)\n\u001b[0;32m--> 171\u001b[0m \u001b[38;5;28;01mreturn\u001b[39;00m \u001b[43mfunc\u001b[49m\u001b[43m(\u001b[49m\u001b[38;5;241;43m*\u001b[39;49m\u001b[43margs\u001b[49m\u001b[43m,\u001b[49m\u001b[43m \u001b[49m\u001b[38;5;241;43m*\u001b[39;49m\u001b[38;5;241;43m*\u001b[39;49m\u001b[43mkwargs\u001b[49m\u001b[43m)\u001b[49m\n",
      "File \u001b[0;32m/opt/homebrew/Caskroom/miniconda/base/envs/AoA/lib/python3.10/site-packages/graphviz/piping.py:121\u001b[0m, in \u001b[0;36mPipe._pipe_legacy\u001b[0;34m(self, format, renderer, formatter, neato_no_op, quiet, engine, encoding)\u001b[0m\n\u001b[1;32m    112\u001b[0m \u001b[38;5;129m@_tools\u001b[39m\u001b[38;5;241m.\u001b[39mdeprecate_positional_args(supported_number\u001b[38;5;241m=\u001b[39m\u001b[38;5;241m2\u001b[39m)\n\u001b[1;32m    113\u001b[0m \u001b[38;5;28;01mdef\u001b[39;00m \u001b[38;5;21m_pipe_legacy\u001b[39m(\u001b[38;5;28mself\u001b[39m,\n\u001b[1;32m    114\u001b[0m                  \u001b[38;5;28mformat\u001b[39m: typing\u001b[38;5;241m.\u001b[39mOptional[\u001b[38;5;28mstr\u001b[39m] \u001b[38;5;241m=\u001b[39m \u001b[38;5;28;01mNone\u001b[39;00m,\n\u001b[0;32m   (...)\u001b[0m\n\u001b[1;32m    119\u001b[0m                  engine: typing\u001b[38;5;241m.\u001b[39mOptional[\u001b[38;5;28mstr\u001b[39m] \u001b[38;5;241m=\u001b[39m \u001b[38;5;28;01mNone\u001b[39;00m,\n\u001b[1;32m    120\u001b[0m                  encoding: typing\u001b[38;5;241m.\u001b[39mOptional[\u001b[38;5;28mstr\u001b[39m] \u001b[38;5;241m=\u001b[39m \u001b[38;5;28;01mNone\u001b[39;00m) \u001b[38;5;241m-\u001b[39m\u001b[38;5;241m>\u001b[39m typing\u001b[38;5;241m.\u001b[39mUnion[\u001b[38;5;28mbytes\u001b[39m, \u001b[38;5;28mstr\u001b[39m]:\n\u001b[0;32m--> 121\u001b[0m     \u001b[38;5;28;01mreturn\u001b[39;00m \u001b[38;5;28;43mself\u001b[39;49m\u001b[38;5;241;43m.\u001b[39;49m\u001b[43m_pipe_future\u001b[49m\u001b[43m(\u001b[49m\u001b[38;5;28;43mformat\u001b[39;49m\u001b[43m,\u001b[49m\n\u001b[1;32m    122\u001b[0m \u001b[43m                             \u001b[49m\u001b[43mrenderer\u001b[49m\u001b[38;5;241;43m=\u001b[39;49m\u001b[43mrenderer\u001b[49m\u001b[43m,\u001b[49m\n\u001b[1;32m    123\u001b[0m \u001b[43m                             \u001b[49m\u001b[43mformatter\u001b[49m\u001b[38;5;241;43m=\u001b[39;49m\u001b[43mformatter\u001b[49m\u001b[43m,\u001b[49m\n\u001b[1;32m    124\u001b[0m \u001b[43m                             \u001b[49m\u001b[43mneato_no_op\u001b[49m\u001b[38;5;241;43m=\u001b[39;49m\u001b[43mneato_no_op\u001b[49m\u001b[43m,\u001b[49m\n\u001b[1;32m    125\u001b[0m \u001b[43m                             \u001b[49m\u001b[43mquiet\u001b[49m\u001b[38;5;241;43m=\u001b[39;49m\u001b[43mquiet\u001b[49m\u001b[43m,\u001b[49m\n\u001b[1;32m    126\u001b[0m \u001b[43m                             \u001b[49m\u001b[43mengine\u001b[49m\u001b[38;5;241;43m=\u001b[39;49m\u001b[43mengine\u001b[49m\u001b[43m,\u001b[49m\n\u001b[1;32m    127\u001b[0m \u001b[43m                             \u001b[49m\u001b[43mencoding\u001b[49m\u001b[38;5;241;43m=\u001b[39;49m\u001b[43mencoding\u001b[49m\u001b[43m)\u001b[49m\n",
      "File \u001b[0;32m/opt/homebrew/Caskroom/miniconda/base/envs/AoA/lib/python3.10/site-packages/graphviz/piping.py:149\u001b[0m, in \u001b[0;36mPipe._pipe_future\u001b[0;34m(self, format, renderer, formatter, neato_no_op, quiet, engine, encoding)\u001b[0m\n\u001b[1;32m    146\u001b[0m \u001b[38;5;28;01mif\u001b[39;00m encoding \u001b[38;5;129;01mis\u001b[39;00m \u001b[38;5;129;01mnot\u001b[39;00m \u001b[38;5;28;01mNone\u001b[39;00m:\n\u001b[1;32m    147\u001b[0m     \u001b[38;5;28;01mif\u001b[39;00m codecs\u001b[38;5;241m.\u001b[39mlookup(encoding) \u001b[38;5;129;01mis\u001b[39;00m codecs\u001b[38;5;241m.\u001b[39mlookup(\u001b[38;5;28mself\u001b[39m\u001b[38;5;241m.\u001b[39mencoding):\n\u001b[1;32m    148\u001b[0m         \u001b[38;5;66;03m# common case: both stdin and stdout need the same encoding\u001b[39;00m\n\u001b[0;32m--> 149\u001b[0m         \u001b[38;5;28;01mreturn\u001b[39;00m \u001b[38;5;28;43mself\u001b[39;49m\u001b[38;5;241;43m.\u001b[39;49m\u001b[43m_pipe_lines_string\u001b[49m\u001b[43m(\u001b[49m\u001b[38;5;241;43m*\u001b[39;49m\u001b[43margs\u001b[49m\u001b[43m,\u001b[49m\u001b[43m \u001b[49m\u001b[43mencoding\u001b[49m\u001b[38;5;241;43m=\u001b[39;49m\u001b[43mencoding\u001b[49m\u001b[43m,\u001b[49m\u001b[43m \u001b[49m\u001b[38;5;241;43m*\u001b[39;49m\u001b[38;5;241;43m*\u001b[39;49m\u001b[43mkwargs\u001b[49m\u001b[43m)\u001b[49m\n\u001b[1;32m    150\u001b[0m     \u001b[38;5;28;01mtry\u001b[39;00m:\n\u001b[1;32m    151\u001b[0m         raw \u001b[38;5;241m=\u001b[39m \u001b[38;5;28mself\u001b[39m\u001b[38;5;241m.\u001b[39m_pipe_lines(\u001b[38;5;241m*\u001b[39margs, input_encoding\u001b[38;5;241m=\u001b[39m\u001b[38;5;28mself\u001b[39m\u001b[38;5;241m.\u001b[39mencoding, \u001b[38;5;241m*\u001b[39m\u001b[38;5;241m*\u001b[39mkwargs)\n",
      "File \u001b[0;32m/opt/homebrew/Caskroom/miniconda/base/envs/AoA/lib/python3.10/site-packages/graphviz/backend/piping.py:212\u001b[0m, in \u001b[0;36mpipe_lines_string\u001b[0;34m(engine, format, input_lines, encoding, renderer, formatter, neato_no_op, quiet)\u001b[0m\n\u001b[1;32m    206\u001b[0m cmd \u001b[38;5;241m=\u001b[39m dot_command\u001b[38;5;241m.\u001b[39mcommand(engine, \u001b[38;5;28mformat\u001b[39m,\n\u001b[1;32m    207\u001b[0m                           renderer\u001b[38;5;241m=\u001b[39mrenderer,\n\u001b[1;32m    208\u001b[0m                           formatter\u001b[38;5;241m=\u001b[39mformatter,\n\u001b[1;32m    209\u001b[0m                           neato_no_op\u001b[38;5;241m=\u001b[39mneato_no_op)\n\u001b[1;32m    210\u001b[0m kwargs \u001b[38;5;241m=\u001b[39m {\u001b[38;5;124m'\u001b[39m\u001b[38;5;124minput_lines\u001b[39m\u001b[38;5;124m'\u001b[39m: input_lines, \u001b[38;5;124m'\u001b[39m\u001b[38;5;124mencoding\u001b[39m\u001b[38;5;124m'\u001b[39m: encoding}\n\u001b[0;32m--> 212\u001b[0m proc \u001b[38;5;241m=\u001b[39m \u001b[43mexecute\u001b[49m\u001b[38;5;241;43m.\u001b[39;49m\u001b[43mrun_check\u001b[49m\u001b[43m(\u001b[49m\u001b[43mcmd\u001b[49m\u001b[43m,\u001b[49m\u001b[43m \u001b[49m\u001b[43mcapture_output\u001b[49m\u001b[38;5;241;43m=\u001b[39;49m\u001b[38;5;28;43;01mTrue\u001b[39;49;00m\u001b[43m,\u001b[49m\u001b[43m \u001b[49m\u001b[43mquiet\u001b[49m\u001b[38;5;241;43m=\u001b[39;49m\u001b[43mquiet\u001b[49m\u001b[43m,\u001b[49m\u001b[43m \u001b[49m\u001b[38;5;241;43m*\u001b[39;49m\u001b[38;5;241;43m*\u001b[39;49m\u001b[43mkwargs\u001b[49m\u001b[43m)\u001b[49m\n\u001b[1;32m    213\u001b[0m \u001b[38;5;28;01mreturn\u001b[39;00m proc\u001b[38;5;241m.\u001b[39mstdout\n",
      "File \u001b[0;32m/opt/homebrew/Caskroom/miniconda/base/envs/AoA/lib/python3.10/site-packages/graphviz/backend/execute.py:84\u001b[0m, in \u001b[0;36mrun_check\u001b[0;34m(cmd, input_lines, encoding, quiet, **kwargs)\u001b[0m\n\u001b[1;32m     82\u001b[0m \u001b[38;5;28;01mexcept\u001b[39;00m \u001b[38;5;167;01mOSError\u001b[39;00m \u001b[38;5;28;01mas\u001b[39;00m e:\n\u001b[1;32m     83\u001b[0m     \u001b[38;5;28;01mif\u001b[39;00m e\u001b[38;5;241m.\u001b[39merrno \u001b[38;5;241m==\u001b[39m errno\u001b[38;5;241m.\u001b[39mENOENT:\n\u001b[0;32m---> 84\u001b[0m         \u001b[38;5;28;01mraise\u001b[39;00m ExecutableNotFound(cmd) \u001b[38;5;28;01mfrom\u001b[39;00m \u001b[38;5;21;01me\u001b[39;00m\n\u001b[1;32m     85\u001b[0m     \u001b[38;5;28;01mraise\u001b[39;00m\n\u001b[1;32m     87\u001b[0m \u001b[38;5;28;01mif\u001b[39;00m \u001b[38;5;129;01mnot\u001b[39;00m quiet \u001b[38;5;129;01mand\u001b[39;00m proc\u001b[38;5;241m.\u001b[39mstderr:\n",
      "\u001b[0;31mExecutableNotFound\u001b[0m: failed to execute PosixPath('dot'), make sure the Graphviz executables are on your systems' PATH"
     ]
    },
    {
     "data": {
      "text/plain": [
       "<graphviz.graphs.Digraph at 0x2e5b90250>"
      ]
     },
     "execution_count": 29,
     "metadata": {},
     "output_type": "execute_result"
    }
   ],
   "source": [
    "aoa.eval()\n",
    "with torch.no_grad(): \n",
    "    for data in test_dataloader: \n",
    "        inputs, outputs = data \n",
    "        # predicted_outputs = aoa(inputs) \n",
    "        \n",
    "        y = aoa(inputs) \n",
    "        break\n",
    "make_dot(y.mean(), params=dict(aoa.named_parameters()))\n",
    "    "
   ]
  },
  {
   "cell_type": "code",
   "execution_count": 88,
   "id": "49ff0b93-e805-42d0-9e27-0a39d287ca3a",
   "metadata": {},
   "outputs": [],
   "source": [
    "predicted_outputs = aoa(inputs) "
   ]
  },
  {
   "cell_type": "code",
   "execution_count": 89,
   "id": "b54c9dda-e3d2-4412-a5f2-420906ed72c8",
   "metadata": {},
   "outputs": [
    {
     "data": {
      "text/plain": [
       "tensor([ 29.6880, -34.9713, -33.8857,  66.4720,  35.4059, -20.4038, -37.5289,\n",
       "         40.0270,  30.0361, -21.0583], grad_fn=<SliceBackward0>)"
      ]
     },
     "execution_count": 89,
     "metadata": {},
     "output_type": "execute_result"
    }
   ],
   "source": [
    "predicted_outputs[:,0][:10]"
   ]
  },
  {
   "cell_type": "code",
   "execution_count": 90,
   "id": "2e3e91e9-cc57-4aba-b953-d2f849edc80a",
   "metadata": {},
   "outputs": [
    {
     "data": {
      "text/plain": [
       "tensor([ 45.0000, -19.1000, -46.7000, 135.0000,  44.2000, -19.8000, -46.8000,\n",
       "         90.0000,  43.3000, -20.5000])"
      ]
     },
     "execution_count": 90,
     "metadata": {},
     "output_type": "execute_result"
    }
   ],
   "source": [
    "outputs[:10]"
   ]
  },
  {
   "cell_type": "code",
   "execution_count": null,
   "id": "eb5282d8-ca72-4cea-bda3-79e15d9b6800",
   "metadata": {},
   "outputs": [],
   "source": []
  }
 ],
 "metadata": {
  "kernelspec": {
   "display_name": "Python 3 (ipykernel)",
   "language": "python",
   "name": "python3"
  },
  "language_info": {
   "codemirror_mode": {
    "name": "ipython",
    "version": 3
   },
   "file_extension": ".py",
   "mimetype": "text/x-python",
   "name": "python",
   "nbconvert_exporter": "python",
   "pygments_lexer": "ipython3",
   "version": "3.10.4"
  }
 },
 "nbformat": 4,
 "nbformat_minor": 5
}
