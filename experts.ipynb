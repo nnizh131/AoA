{
 "cells": [
  {
   "cell_type": "code",
   "execution_count": 71,
   "id": "3f82af23-a3e7-4416-92da-37b21909387c",
   "metadata": {},
   "outputs": [],
   "source": [
    "import torch\n",
    "from torch import nn\n",
    "from torch.utils.data import DataLoader\n",
    "from mixture_of_experts import MoE\n",
    "import pandas as pd\n",
    "import numpy as np\n",
    "from utils import get_data_per_anchor\n",
    "from sklearn.utils import shuffle\n",
    "from sklearn.model_selection import GroupKFold\n",
    "from sklearn.model_selection import GroupShuffleSplit\n",
    "from sklearn.ensemble import RandomForestRegressor\n",
    "from sklearn.metrics import mean_absolute_error\n",
    "from micromlgen import port"
   ]
  },
  {
   "cell_type": "code",
   "execution_count": 72,
   "id": "9d47c874-2cb5-4891-b299-7361411e0934",
   "metadata": {},
   "outputs": [],
   "source": [
    "df = pd.read_pickle(\"mid_concrete.pkl\")\n",
    "pd.set_option('display.max_columns', None)\n",
    "pd.set_option('display.max_rows', None)\n",
    "features = ['power', 'pdda_input_real_1', 'pdda_input_real_2', 'pdda_input_imag_2', 'pdda_input_real_3', 'pdda_input_imag_3', 'pdda_input_real_4', 'pdda_input_imag_4',\n",
    "           'pdda_input_real_5', 'pdda_input_imag_5']\n",
    "# theta does not change, make predictions for phi only, azimuth angles \n",
    "# predict only for phi, \n",
    "targets = ['true_phi']\n",
    "location = ['x_tag', 'y_tag']\n",
    "pdda_angle = ['pdda_angle']"
   ]
  },
  {
   "cell_type": "code",
   "execution_count": 73,
   "id": "d234dd16-1cfa-469b-8e78-222da2eac17a",
   "metadata": {},
   "outputs": [],
   "source": [
    "params = {\n",
    "    \"test_size\":0.33,\n",
    "    \"random_state\":42,\n",
    "    \"splits\":1,\n",
    "}"
   ]
  },
  {
   "cell_type": "code",
   "execution_count": 74,
   "id": "d564a4fa-78bb-4eaa-a3ce-39ba630f425e",
   "metadata": {},
   "outputs": [
    {
     "name": "stdout",
     "output_type": "stream",
     "text": [
      "7.274951750758204\n"
     ]
    }
   ],
   "source": [
    "anchor_df = get_data_per_anchor(df,1.0)\n",
    "X = anchor_df[features].values\n",
    "y = anchor_df[targets].values\n",
    "gss = GroupShuffleSplit(n_splits=params[\"splits\"], test_size=params[\"test_size\"], random_state=params[\"random_state\"])\n",
    "fold = 1\n",
    "for train_idx, test_idx in gss.split(X, y, groups=anchor_df.point):\n",
    "    train_idx = shuffle(train_idx, random_state=params['random_state'])\n",
    "    test_idx = shuffle(test_idx, random_state=params['random_state'])\n",
    "    train = anchor_df.iloc[train_idx]\n",
    "    test = anchor_df.iloc[test_idx]\n",
    "    assert round(test.shape[0]/(train.shape[0]+test.shape[0]), 2) == params[\"test_size\"]\n",
    "    assert len(set(train.point) & set(test.point)) == 0\n",
    "    X_train = train[features].values\n",
    "    y_train = train[targets].values\n",
    "    X_test = test[features].values\n",
    "    y_test = test[targets].values\n",
    "    regr = RandomForestRegressor(random_state=params['random_state'],n_estimators=3)\n",
    "    regr.fit(X_train,y_train.ravel())\n",
    "    preds = regr.predict(X_test)\n",
    "    mae = mean_absolute_error(preds, y_test)\n",
    "    print(mae)"
   ]
  },
  {
   "cell_type": "code",
   "execution_count": 75,
   "id": "35e26d02-a973-497a-bc8c-2b166e035c06",
   "metadata": {},
   "outputs": [
    {
     "data": {
      "text/html": [
       "<style>#sk-container-id-4 {color: black;background-color: white;}#sk-container-id-4 pre{padding: 0;}#sk-container-id-4 div.sk-toggleable {background-color: white;}#sk-container-id-4 label.sk-toggleable__label {cursor: pointer;display: block;width: 100%;margin-bottom: 0;padding: 0.3em;box-sizing: border-box;text-align: center;}#sk-container-id-4 label.sk-toggleable__label-arrow:before {content: \"▸\";float: left;margin-right: 0.25em;color: #696969;}#sk-container-id-4 label.sk-toggleable__label-arrow:hover:before {color: black;}#sk-container-id-4 div.sk-estimator:hover label.sk-toggleable__label-arrow:before {color: black;}#sk-container-id-4 div.sk-toggleable__content {max-height: 0;max-width: 0;overflow: hidden;text-align: left;background-color: #f0f8ff;}#sk-container-id-4 div.sk-toggleable__content pre {margin: 0.2em;color: black;border-radius: 0.25em;background-color: #f0f8ff;}#sk-container-id-4 input.sk-toggleable__control:checked~div.sk-toggleable__content {max-height: 200px;max-width: 100%;overflow: auto;}#sk-container-id-4 input.sk-toggleable__control:checked~label.sk-toggleable__label-arrow:before {content: \"▾\";}#sk-container-id-4 div.sk-estimator input.sk-toggleable__control:checked~label.sk-toggleable__label {background-color: #d4ebff;}#sk-container-id-4 div.sk-label input.sk-toggleable__control:checked~label.sk-toggleable__label {background-color: #d4ebff;}#sk-container-id-4 input.sk-hidden--visually {border: 0;clip: rect(1px 1px 1px 1px);clip: rect(1px, 1px, 1px, 1px);height: 1px;margin: -1px;overflow: hidden;padding: 0;position: absolute;width: 1px;}#sk-container-id-4 div.sk-estimator {font-family: monospace;background-color: #f0f8ff;border: 1px dotted black;border-radius: 0.25em;box-sizing: border-box;margin-bottom: 0.5em;}#sk-container-id-4 div.sk-estimator:hover {background-color: #d4ebff;}#sk-container-id-4 div.sk-parallel-item::after {content: \"\";width: 100%;border-bottom: 1px solid gray;flex-grow: 1;}#sk-container-id-4 div.sk-label:hover label.sk-toggleable__label {background-color: #d4ebff;}#sk-container-id-4 div.sk-serial::before {content: \"\";position: absolute;border-left: 1px solid gray;box-sizing: border-box;top: 0;bottom: 0;left: 50%;z-index: 0;}#sk-container-id-4 div.sk-serial {display: flex;flex-direction: column;align-items: center;background-color: white;padding-right: 0.2em;padding-left: 0.2em;position: relative;}#sk-container-id-4 div.sk-item {position: relative;z-index: 1;}#sk-container-id-4 div.sk-parallel {display: flex;align-items: stretch;justify-content: center;background-color: white;position: relative;}#sk-container-id-4 div.sk-item::before, #sk-container-id-4 div.sk-parallel-item::before {content: \"\";position: absolute;border-left: 1px solid gray;box-sizing: border-box;top: 0;bottom: 0;left: 50%;z-index: -1;}#sk-container-id-4 div.sk-parallel-item {display: flex;flex-direction: column;z-index: 1;position: relative;background-color: white;}#sk-container-id-4 div.sk-parallel-item:first-child::after {align-self: flex-end;width: 50%;}#sk-container-id-4 div.sk-parallel-item:last-child::after {align-self: flex-start;width: 50%;}#sk-container-id-4 div.sk-parallel-item:only-child::after {width: 0;}#sk-container-id-4 div.sk-dashed-wrapped {border: 1px dashed gray;margin: 0 0.4em 0.5em 0.4em;box-sizing: border-box;padding-bottom: 0.4em;background-color: white;}#sk-container-id-4 div.sk-label label {font-family: monospace;font-weight: bold;display: inline-block;line-height: 1.2em;}#sk-container-id-4 div.sk-label-container {text-align: center;}#sk-container-id-4 div.sk-container {/* jupyter's `normalize.less` sets `[hidden] { display: none; }` but bootstrap.min.css set `[hidden] { display: none !important; }` so we also need the `!important` here to be able to override the default hidden behavior on the sphinx rendered scikit-learn.org. See: https://github.com/scikit-learn/scikit-learn/issues/21755 */display: inline-block !important;position: relative;}#sk-container-id-4 div.sk-text-repr-fallback {display: none;}</style><div id=\"sk-container-id-4\" class=\"sk-top-container\"><div class=\"sk-text-repr-fallback\"><pre>RandomForestRegressor(n_estimators=3, random_state=42)</pre><b>In a Jupyter environment, please rerun this cell to show the HTML representation or trust the notebook. <br />On GitHub, the HTML representation is unable to render, please try loading this page with nbviewer.org.</b></div><div class=\"sk-container\" hidden><div class=\"sk-item\"><div class=\"sk-estimator sk-toggleable\"><input class=\"sk-toggleable__control sk-hidden--visually\" id=\"sk-estimator-id-4\" type=\"checkbox\" checked><label for=\"sk-estimator-id-4\" class=\"sk-toggleable__label sk-toggleable__label-arrow\">RandomForestRegressor</label><div class=\"sk-toggleable__content\"><pre>RandomForestRegressor(n_estimators=3, random_state=42)</pre></div></div></div></div></div>"
      ],
      "text/plain": [
       "RandomForestRegressor(n_estimators=3, random_state=42)"
      ]
     },
     "execution_count": 75,
     "metadata": {},
     "output_type": "execute_result"
    }
   ],
   "source": [
    "regr"
   ]
  },
  {
   "cell_type": "code",
   "execution_count": 76,
   "id": "fbc09fb9-c2ba-4542-80e5-bf047d6ae810",
   "metadata": {},
   "outputs": [],
   "source": [
    "with open('RandomForestRegressor.h', 'w') as file:\n",
    "    file.write(port(regr))"
   ]
  },
  {
   "cell_type": "code",
   "execution_count": 77,
   "id": "7eaa48ce-230e-421f-b62f-751ca0e76d3a",
   "metadata": {},
   "outputs": [],
   "source": [
    "inputs = X_test[:20]\n",
    "preds = preds[:20]\n",
    "true = y_test[:20]"
   ]
  },
  {
   "cell_type": "code",
   "execution_count": 78,
   "id": "808eca04-6e1d-4446-9f92-7e36e54bfbfd",
   "metadata": {},
   "outputs": [],
   "source": [
    "np.set_printoptions(suppress=True)"
   ]
  },
  {
   "cell_type": "code",
   "execution_count": 87,
   "id": "8850ffff-22a3-4af8-9833-6b92e5565f48",
   "metadata": {},
   "outputs": [
    {
     "data": {
      "text/plain": [
       "array([ 17.3333,  41.4667,  -2.9333,  15.1667, -22.1333,  13.8   ,\n",
       "        43.5667, -20.5   ,  19.5667, -40.9333,  33.4333,  25.9667,\n",
       "        33.6333,  30.3333,  16.0333,  34.7333, -14.2333, -24.8333,\n",
       "        36.6667,  24.4667])"
      ]
     },
     "execution_count": 87,
     "metadata": {},
     "output_type": "execute_result"
    }
   ],
   "source": [
    "np.round(preds, 4)"
   ]
  },
  {
   "cell_type": "code",
   "execution_count": 43,
   "id": "705f2d0d-6a72-4243-8960-2bb10b84fb28",
   "metadata": {},
   "outputs": [
    {
     "data": {
      "text/plain": [
       "array([[ 28.9],\n",
       "       [ 22.5],\n",
       "       [  8.7],\n",
       "       [ 42.4],\n",
       "       [-28.1],\n",
       "       [ 23.5],\n",
       "       [  2.7],\n",
       "       [ -7.8],\n",
       "       [ -0. ],\n",
       "       [ -6.8],\n",
       "       [ 39.7],\n",
       "       [ 40.8],\n",
       "       [ 31.5],\n",
       "       [ 45. ],\n",
       "       [ 26.6],\n",
       "       [ 27.8],\n",
       "       [ 38.2],\n",
       "       [  0. ],\n",
       "       [ 14.7],\n",
       "       [ 31.5]])"
      ]
     },
     "execution_count": 43,
     "metadata": {},
     "output_type": "execute_result"
    }
   ],
   "source": [
    "true"
   ]
  },
  {
   "cell_type": "code",
   "execution_count": 44,
   "id": "5b01fd01-0d14-4a48-81ac-744ab35ad1b6",
   "metadata": {},
   "outputs": [
    {
     "data": {
      "text/plain": [
       "array([[-1.09224092e-01,  3.45719106e-02,  2.96304972e-02,\n",
       "        -5.72067603e-03,  2.08427706e-02, -1.64787595e-02,\n",
       "         8.16993320e-03, -4.34533289e-02, -3.56285834e-02,\n",
       "        -2.15640498e-02],\n",
       "       [-1.75237932e-01,  3.18694415e-02,  2.30166067e-02,\n",
       "         3.71943763e-03,  1.33030791e-02,  6.15046235e-03,\n",
       "         1.20642936e-02,  1.27320587e-02,  2.01076320e-03,\n",
       "         2.38694833e-02],\n",
       "       [-5.28740909e-03,  7.83443967e-02,  7.80335219e-02,\n",
       "        -2.30127868e-02,  7.65018285e-02, -4.72779721e-02,\n",
       "         9.75279754e-02, -1.93273720e-02,  1.13443881e-01,\n",
       "        -1.11667373e-02],\n",
       "       [ 5.79173307e-02,  1.50434723e-01,  1.30507119e-01,\n",
       "        -6.31178217e-03,  9.80656761e-02, -2.56494866e-02,\n",
       "         2.37100580e-02, -1.80389979e-01, -1.90593692e-01,\n",
       "        -4.44590057e-02],\n",
       "       [ 8.88174257e-02,  2.41465501e-01,  2.30023348e-01,\n",
       "        -6.28820264e-02,  1.51085220e-01, -1.29114127e-01,\n",
       "         1.07395320e-01,  1.26339282e-01, -1.04792133e-01,\n",
       "         9.77679955e-02],\n",
       "       [-2.41251771e-01,  4.99729927e-03,  6.72275127e-03,\n",
       "         7.45766823e-03,  8.42252939e-03,  1.92530595e-02,\n",
       "        -1.41568468e-03, -3.39847567e-03, -9.07702292e-03,\n",
       "        -6.96776361e-05],\n",
       "       [ 1.56235815e-01,  3.26903773e-01,  6.82219020e-02,\n",
       "        -9.03339509e-02, -1.17581520e-01, -2.96555885e-01,\n",
       "         3.42604687e-01, -6.82771287e-02,  2.96449509e-01,\n",
       "        -1.26243274e-01],\n",
       "       [ 3.54445343e-02,  1.31008128e-01,  1.13743365e-01,\n",
       "        -5.00117579e-02,  7.78165983e-02, -1.04208174e-01,\n",
       "         1.28941543e-01,  6.62257686e-03,  7.93480567e-02,\n",
       "         8.11007793e-02],\n",
       "       [ 4.54443931e-03,  1.40779864e-02, -3.12157853e-02,\n",
       "        -3.90657503e-02, -3.54792502e-02, -7.47399786e-02,\n",
       "         5.60920703e-02,  7.63552025e-02,  1.55122021e-01,\n",
       "         8.97934241e-02],\n",
       "       [-2.21420064e-02,  9.11594126e-02,  9.32576194e-02,\n",
       "        -1.88033090e-02,  8.27222059e-02, -3.07324315e-02,\n",
       "         5.21783759e-02, -4.67315429e-04,  3.20174068e-02,\n",
       "         4.26309296e-02],\n",
       "       [-4.46148027e-02,  3.87825373e-02,  3.04899546e-02,\n",
       "        -1.89369250e-03,  1.59209697e-02, -7.42679102e-03,\n",
       "         1.75738373e-02, -9.00771905e-02, -5.41073417e-02,\n",
       "        -6.81902109e-02],\n",
       "       [-1.65238073e-02,  5.65137612e-02,  7.14859552e-02,\n",
       "        -8.58346693e-03,  9.21596279e-02, -8.01403040e-03,\n",
       "         8.19643907e-03, -4.98782516e-02, -7.05793760e-02,\n",
       "        -1.31297897e-02],\n",
       "       [ 1.57808375e-02,  1.16621749e-01,  1.19990220e-01,\n",
       "        -2.55290580e-02,  1.18000549e-01, -4.70952377e-02,\n",
       "         5.69334214e-02, -9.00210815e-02, -4.95846447e-03,\n",
       "        -7.17580353e-02],\n",
       "       [ 8.74128759e-02,  1.91631831e-01,  1.09534652e-01,\n",
       "         1.79679857e-03,  2.30746781e-02, -1.77848737e-02,\n",
       "         6.07385848e-02, -2.12835743e-01, -1.83600981e-01,\n",
       "        -1.68553513e-01],\n",
       "       [-1.03605893e-01,  3.42237125e-02,  3.52404199e-02,\n",
       "         6.34343804e-03,  2.72422812e-02,  9.39594147e-03,\n",
       "         3.04476611e-02, -2.39934811e-02,  8.53022593e-03,\n",
       "        -3.19345979e-02],\n",
       "       [-9.09649452e-02,  1.13762428e-02, -3.04211950e-02,\n",
       "         1.30173997e-02, -5.16560354e-02,  1.40397760e-02,\n",
       "         1.37722272e-02, -3.28113602e-02, -1.25535735e-02,\n",
       "        -4.70735031e-02],\n",
       "       [ 6.63446293e-02,  1.11339305e-01,  1.37200426e-01,\n",
       "        -2.29895659e-02,  7.99518820e-02, -2.26772719e-02,\n",
       "         2.91987137e-02, -1.66705903e-01, -1.89896588e-01,\n",
       "        -1.04494964e-01],\n",
       "       [ 2.70172357e-02,  1.14060302e-01,  1.00050903e-01,\n",
       "        -5.28702880e-02,  7.44618739e-02, -9.11711442e-02,\n",
       "         1.49728459e-01, -8.52388067e-03,  8.73298901e-02,\n",
       "        -6.57527421e-02],\n",
       "       [ 1.15671882e-02,  9.19231859e-02,  6.86697348e-02,\n",
       "        -2.38015717e-02,  4.26144086e-02, -5.59708190e-02,\n",
       "         8.70275179e-02, -1.10398370e-01, -2.08378929e-02,\n",
       "        -8.62410014e-02],\n",
       "       [-8.11330968e-02,  2.68616381e-02,  4.55040752e-02,\n",
       "        -1.34247807e-02,  6.68306972e-02, -1.79309095e-02,\n",
       "         3.86560044e-02, -3.03118297e-02,  8.92034951e-03,\n",
       "        -3.88939348e-02]])"
      ]
     },
     "execution_count": 44,
     "metadata": {},
     "output_type": "execute_result"
    }
   ],
   "source": [
    "inputs"
   ]
  },
  {
   "cell_type": "code",
   "execution_count": null,
   "id": "ac2897b4-e3e4-40e8-a4c6-66e89efa3e5b",
   "metadata": {},
   "outputs": [],
   "source": [
    "# pdda and models box plot\n",
    "# pdda in the room and best model\n",
    "# clean up the code and add to github timon\n",
    "# mixture of experts"
   ]
  }
 ],
 "metadata": {
  "kernelspec": {
   "display_name": "Python 3 (ipykernel)",
   "language": "python",
   "name": "python3"
  },
  "language_info": {
   "codemirror_mode": {
    "name": "ipython",
    "version": 3
   },
   "file_extension": ".py",
   "mimetype": "text/x-python",
   "name": "python",
   "nbconvert_exporter": "python",
   "pygments_lexer": "ipython3",
   "version": "3.9.12"
  }
 },
 "nbformat": 4,
 "nbformat_minor": 5
}
