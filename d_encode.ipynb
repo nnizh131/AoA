{
 "cells": [
  {
   "cell_type": "code",
   "execution_count": 2,
   "id": "52221b47-43aa-4c30-8d94-bd414fb1344a",
   "metadata": {},
   "outputs": [],
   "source": [
    "import torch\n",
    "from torch import nn"
   ]
  },
  {
   "cell_type": "code",
   "execution_count": null,
   "id": "e7f0a5bb-3b18-4677-b04b-b10b17cf38ce",
   "metadata": {},
   "outputs": [],
   "source": [
    "class DABIL(nn.Module):\n",
    "    def __init__(self):\n",
    "        \n",
    "        \n",
    "    def forward:\n",
    "        \n",
    "    "
   ]
  }
 ],
 "metadata": {
  "kernelspec": {
   "display_name": "Python 3 (ipykernel)",
   "language": "python",
   "name": "python3"
  },
  "language_info": {
   "codemirror_mode": {
    "name": "ipython",
    "version": 3
   },
   "file_extension": ".py",
   "mimetype": "text/x-python",
   "name": "python",
   "nbconvert_exporter": "python",
   "pygments_lexer": "ipython3",
   "version": "3.9.12"
  }
 },
 "nbformat": 4,
 "nbformat_minor": 5
}
