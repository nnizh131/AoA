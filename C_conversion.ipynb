{
 "cells": [
  {
   "cell_type": "code",
   "execution_count": 15,
   "id": "3fb09804-31ed-4363-91a1-8ad06b9c1828",
   "metadata": {},
   "outputs": [],
   "source": [
    "from sklearn.ensemble import RandomForestRegressor\n",
    "from utils import get_data_per_anchor\n",
    "from sklearn.model_selection import GroupShuffleSplit\n",
    "import pandas as pd\n",
    "import numpy as np\n",
    "from micromlgen import port\n",
    "import emlearn\n",
    "from utils import get_data_per_anchor\n",
    "from sklearn.model_selection import GroupKFold"
   ]
  },
  {
   "cell_type": "code",
   "execution_count": 4,
   "id": "4f806199-1d62-46a4-b27d-9c92f29e9a55",
   "metadata": {},
   "outputs": [],
   "source": [
    "df = pd.read_pickle(\"mid_concrete.pkl\")\n",
    "pd.set_option('display.max_columns', None)\n",
    "pd.set_option('display.max_rows', None)"
   ]
  },
  {
   "cell_type": "code",
   "execution_count": 5,
   "id": "86ec827b-8ca8-4d0c-946a-eff6d2b0f132",
   "metadata": {},
   "outputs": [],
   "source": [
    "features = ['power', 'pdda_input_real_1', 'pdda_input_real_2', 'pdda_input_imag_2', 'pdda_input_real_3', 'pdda_input_imag_3', 'pdda_input_real_4', 'pdda_input_imag_4',\n",
    "           'pdda_input_real_5', 'pdda_input_imag_5']\n",
    "# theta does not change, make predictions for phi only, azimuth angles \n",
    "# predict only for phi, \n",
    "targets = ['true_phi']\n",
    "location = ['x_tag', 'y_tag']\n",
    "pdda_angle = ['pdda_angle']\n",
    "\n",
    "params = {\n",
    "    \"test_size\":0.33,\n",
    "    \"random_state\":42,\n",
    "    \"splits\":1,\n",
    "    \n",
    "}"
   ]
  },
  {
   "cell_type": "code",
   "execution_count": 33,
   "id": "0ef3525b-317e-45b2-a354-6be17781c4b7",
   "metadata": {},
   "outputs": [
    {
     "name": "stdout",
     "output_type": "stream",
     "text": [
      "TRAIN: [5570 5580 1460 ... 7308 5327 4405] TEST: [1047 2550 3443 ... 4798  953 6034]\n",
      "TRAIN: [6960 6986 5942 ...  720 6180 3283] TEST: [1733 6940  747 ... 6207 5179 7123]\n"
     ]
    }
   ],
   "source": [
    "from sklearn.model_selection import train_test_split\n",
    "from sklearn.utils import shuffle\n",
    "\n",
    "anchor_df = get_data_per_anchor(df,1.0)\n",
    "X = anchor_df[features].values\n",
    "y = anchor_df[targets].values\n",
    "\n",
    "group_kfold = GroupKFold(n_splits=2)\n",
    "# group_kfold.get_n_splits(X, y, anchor_df.point)\n",
    "\n",
    "for train_index, test_index in group_kfold.split(X, y, groups=anchor_df.point):\n",
    "    train_index = shuffle(train_index)\n",
    "    test_index = shuffle(test_index)\n",
    "    print(\"TRAIN:\", train_index, \"TEST:\", test_index)\n",
    "    \n"
   ]
  },
  {
   "cell_type": "code",
   "execution_count": 18,
   "id": "a5a139b6-c2d7-41b7-80f8-941989a6debc",
   "metadata": {},
   "outputs": [
    {
     "name": "stdout",
     "output_type": "stream",
     "text": [
      "a\n"
     ]
    }
   ],
   "source": [
    "for anchor in [1.0,2.0,3.0,4.0]:\n",
    "    anchor_df = get_data_per_anchor(df,anchor)\n",
    "    X = anchor_df[features].values\n",
    "    y = anchor_df[targets].values\n",
    "    gss = GroupShuffleSplit(n_splits=params[\"splits\"], test_size=params[\"test_size\"], random_state=params[\"random_state\"])\n",
    "    fold = 1\n",
    "    for train_idx, test_idx in gss.split(X, y, groups=anchor_df.point):\n",
    "        print('a')\n",
    "        train = anchor_df.iloc[train_idx]\n",
    "        test = anchor_df.iloc[test_idx]\n",
    "        assert round(test.shape[0]/(train.shape[0]+test.shape[0]), 2) == params[\"test_size\"]\n",
    "        assert len(set(train.point) & set(test.point)) == 0\n",
    "        X_train = train[features].values\n",
    "        y_train = train[targets].values\n",
    "        X_test = test[features].values\n",
    "        y_test = test[targets].values\n",
    "\n",
    "        regr = RandomForestRegressor(random_state=params['random_state'],n_estimators=3)\n",
    "        regr.fit(X_train,y_train.ravel())\n",
    "    break"
   ]
  },
  {
   "cell_type": "code",
   "execution_count": 19,
   "id": "8c8337b7-8271-4101-9c3f-20c3ec6ccc1f",
   "metadata": {},
   "outputs": [
    {
     "data": {
      "text/plain": [
       "array([[ 0.00313989,  0.11830609,  0.11470547, ..., -0.06965832,\n",
       "         0.00028239, -0.0272559 ],\n",
       "       [-0.0446148 ,  0.06654441,  0.07474081, ..., -0.01227114,\n",
       "        -0.04082246,  0.06268334],\n",
       "       [-0.02214201,  0.09091801,  0.09127097, ..., -0.03846562,\n",
       "        -0.02715925,  0.02049112],\n",
       "       ...,\n",
       "       [ 0.05229913,  0.12651584,  0.1174032 , ...,  0.14363903,\n",
       "        -0.17442854,  0.03641184],\n",
       "       [ 0.02280359,  0.05932768,  0.06124395, ...,  0.10409687,\n",
       "        -0.15449992,  0.01894717],\n",
       "       [ 0.06072643,  0.13848052,  0.0147295 , ...,  0.1500174 ,\n",
       "        -0.1242835 ,  0.03749986]])"
      ]
     },
     "execution_count": 19,
     "metadata": {},
     "output_type": "execute_result"
    }
   ],
   "source": [
    "X_test"
   ]
  },
  {
   "cell_type": "code",
   "execution_count": 9,
   "id": "3d01650b-c669-485c-9506-6be5d93d7ec1",
   "metadata": {},
   "outputs": [
    {
     "ename": "NameError",
     "evalue": "name 'niakslmasy_test' is not defined",
     "output_type": "error",
     "traceback": [
      "\u001b[1;31m---------------------------------------------------------------------------\u001b[0m",
      "\u001b[1;31mNameError\u001b[0m                                 Traceback (most recent call last)",
      "Input \u001b[1;32mIn [20]\u001b[0m, in \u001b[0;36m<cell line: 1>\u001b[1;34m()\u001b[0m\n\u001b[1;32m----> 1\u001b[0m \u001b[43mniakslmasy_test\u001b[49m\n",
      "\u001b[1;31mNameError\u001b[0m: name 'niakslmasy_test' is not defined"
     ]
    }
   ],
   "source": [
    "y_test"
   ]
  },
  {
   "cell_type": "code",
   "execution_count": 7,
   "id": "d129a3d9-2d56-4c39-9eb5-1340ff21eb52",
   "metadata": {},
   "outputs": [
    {
     "data": {
      "text/html": [
       "<style>#sk-container-id-1 {color: black;background-color: white;}#sk-container-id-1 pre{padding: 0;}#sk-container-id-1 div.sk-toggleable {background-color: white;}#sk-container-id-1 label.sk-toggleable__label {cursor: pointer;display: block;width: 100%;margin-bottom: 0;padding: 0.3em;box-sizing: border-box;text-align: center;}#sk-container-id-1 label.sk-toggleable__label-arrow:before {content: \"▸\";float: left;margin-right: 0.25em;color: #696969;}#sk-container-id-1 label.sk-toggleable__label-arrow:hover:before {color: black;}#sk-container-id-1 div.sk-estimator:hover label.sk-toggleable__label-arrow:before {color: black;}#sk-container-id-1 div.sk-toggleable__content {max-height: 0;max-width: 0;overflow: hidden;text-align: left;background-color: #f0f8ff;}#sk-container-id-1 div.sk-toggleable__content pre {margin: 0.2em;color: black;border-radius: 0.25em;background-color: #f0f8ff;}#sk-container-id-1 input.sk-toggleable__control:checked~div.sk-toggleable__content {max-height: 200px;max-width: 100%;overflow: auto;}#sk-container-id-1 input.sk-toggleable__control:checked~label.sk-toggleable__label-arrow:before {content: \"▾\";}#sk-container-id-1 div.sk-estimator input.sk-toggleable__control:checked~label.sk-toggleable__label {background-color: #d4ebff;}#sk-container-id-1 div.sk-label input.sk-toggleable__control:checked~label.sk-toggleable__label {background-color: #d4ebff;}#sk-container-id-1 input.sk-hidden--visually {border: 0;clip: rect(1px 1px 1px 1px);clip: rect(1px, 1px, 1px, 1px);height: 1px;margin: -1px;overflow: hidden;padding: 0;position: absolute;width: 1px;}#sk-container-id-1 div.sk-estimator {font-family: monospace;background-color: #f0f8ff;border: 1px dotted black;border-radius: 0.25em;box-sizing: border-box;margin-bottom: 0.5em;}#sk-container-id-1 div.sk-estimator:hover {background-color: #d4ebff;}#sk-container-id-1 div.sk-parallel-item::after {content: \"\";width: 100%;border-bottom: 1px solid gray;flex-grow: 1;}#sk-container-id-1 div.sk-label:hover label.sk-toggleable__label {background-color: #d4ebff;}#sk-container-id-1 div.sk-serial::before {content: \"\";position: absolute;border-left: 1px solid gray;box-sizing: border-box;top: 0;bottom: 0;left: 50%;z-index: 0;}#sk-container-id-1 div.sk-serial {display: flex;flex-direction: column;align-items: center;background-color: white;padding-right: 0.2em;padding-left: 0.2em;position: relative;}#sk-container-id-1 div.sk-item {position: relative;z-index: 1;}#sk-container-id-1 div.sk-parallel {display: flex;align-items: stretch;justify-content: center;background-color: white;position: relative;}#sk-container-id-1 div.sk-item::before, #sk-container-id-1 div.sk-parallel-item::before {content: \"\";position: absolute;border-left: 1px solid gray;box-sizing: border-box;top: 0;bottom: 0;left: 50%;z-index: -1;}#sk-container-id-1 div.sk-parallel-item {display: flex;flex-direction: column;z-index: 1;position: relative;background-color: white;}#sk-container-id-1 div.sk-parallel-item:first-child::after {align-self: flex-end;width: 50%;}#sk-container-id-1 div.sk-parallel-item:last-child::after {align-self: flex-start;width: 50%;}#sk-container-id-1 div.sk-parallel-item:only-child::after {width: 0;}#sk-container-id-1 div.sk-dashed-wrapped {border: 1px dashed gray;margin: 0 0.4em 0.5em 0.4em;box-sizing: border-box;padding-bottom: 0.4em;background-color: white;}#sk-container-id-1 div.sk-label label {font-family: monospace;font-weight: bold;display: inline-block;line-height: 1.2em;}#sk-container-id-1 div.sk-label-container {text-align: center;}#sk-container-id-1 div.sk-container {/* jupyter's `normalize.less` sets `[hidden] { display: none; }` but bootstrap.min.css set `[hidden] { display: none !important; }` so we also need the `!important` here to be able to override the default hidden behavior on the sphinx rendered scikit-learn.org. See: https://github.com/scikit-learn/scikit-learn/issues/21755 */display: inline-block !important;position: relative;}#sk-container-id-1 div.sk-text-repr-fallback {display: none;}</style><div id=\"sk-container-id-1\" class=\"sk-top-container\"><div class=\"sk-text-repr-fallback\"><pre>RandomForestRegressor(n_estimators=3, random_state=42)</pre><b>In a Jupyter environment, please rerun this cell to show the HTML representation or trust the notebook. <br />On GitHub, the HTML representation is unable to render, please try loading this page with nbviewer.org.</b></div><div class=\"sk-container\" hidden><div class=\"sk-item\"><div class=\"sk-estimator sk-toggleable\"><input class=\"sk-toggleable__control sk-hidden--visually\" id=\"sk-estimator-id-1\" type=\"checkbox\" checked><label for=\"sk-estimator-id-1\" class=\"sk-toggleable__label sk-toggleable__label-arrow\">RandomForestRegressor</label><div class=\"sk-toggleable__content\"><pre>RandomForestRegressor(n_estimators=3, random_state=42)</pre></div></div></div></div></div>"
      ],
      "text/plain": [
       "RandomForestRegressor(n_estimators=3, random_state=42)"
      ]
     },
     "execution_count": 7,
     "metadata": {},
     "output_type": "execute_result"
    }
   ],
   "source": [
    "regr"
   ]
  },
  {
   "cell_type": "markdown",
   "id": "73f330b0-9bbf-41a5-bfef-8d92bec266fe",
   "metadata": {},
   "source": [
    "## micromlgen"
   ]
  },
  {
   "cell_type": "code",
   "execution_count": 9,
   "id": "b97e6fd8-7178-470b-a4cc-a5943119cb35",
   "metadata": {},
   "outputs": [],
   "source": [
    "with open('RandomForestRegressor.h', 'w') as file:\n",
    "    file.write(port(regr))"
   ]
  },
  {
   "cell_type": "markdown",
   "id": "59a66350-911a-42da-97b6-1644d74c0269",
   "metadata": {},
   "source": [
    "## micromlgen -> creates a c++ header, not a c header"
   ]
  },
  {
   "cell_type": "markdown",
   "id": "7ad920e9-0bde-4d9e-b3f0-7f6f88bc6c33",
   "metadata": {},
   "source": [
    "## emlearn only supports classifiers"
   ]
  },
  {
   "cell_type": "code",
   "execution_count": 9,
   "id": "c418301d-b962-42dc-a645-dcf1f62fe433",
   "metadata": {},
   "outputs": [],
   "source": [
    "# cmodel = emlearn.convert(regr, method='inline')\n",
    "# cmodel.save(file='sonar.h')"
   ]
  },
  {
   "cell_type": "code",
   "execution_count": 10,
   "id": "0e597383-1425-440e-bac1-017e272bde8c",
   "metadata": {},
   "outputs": [],
   "source": [
    "rf = regr"
   ]
  },
  {
   "cell_type": "code",
   "execution_count": 2,
   "id": "74a44c42-6c73-421b-b74f-49d53537644d",
   "metadata": {},
   "outputs": [
    {
     "ename": "NameError",
     "evalue": "name 'rf' is not defined",
     "output_type": "error",
     "traceback": [
      "\u001b[1;31m---------------------------------------------------------------------------\u001b[0m",
      "\u001b[1;31mNameError\u001b[0m                                 Traceback (most recent call last)",
      "\u001b[1;32m~\\AppData\\Local\\Temp/ipykernel_24324/596430722.py\u001b[0m in \u001b[0;36m<module>\u001b[1;34m\u001b[0m\n\u001b[1;32m----> 1\u001b[1;33m \u001b[1;32mfor\u001b[0m \u001b[0mi\u001b[0m \u001b[1;32min\u001b[0m \u001b[0mrange\u001b[0m\u001b[1;33m(\u001b[0m\u001b[0mlen\u001b[0m\u001b[1;33m(\u001b[0m\u001b[0mrf\u001b[0m\u001b[1;33m.\u001b[0m\u001b[0mestimators_\u001b[0m\u001b[1;33m)\u001b[0m\u001b[1;33m)\u001b[0m\u001b[1;33m:\u001b[0m\u001b[1;33m\u001b[0m\u001b[1;33m\u001b[0m\u001b[0m\n\u001b[0m\u001b[0;32m      2\u001b[0m     \u001b[0mtree\u001b[0m \u001b[1;33m=\u001b[0m \u001b[0mrf\u001b[0m\u001b[1;33m.\u001b[0m\u001b[0mestimators_\u001b[0m\u001b[1;33m[\u001b[0m\u001b[0mi\u001b[0m\u001b[1;33m]\u001b[0m\u001b[1;33m.\u001b[0m\u001b[0mtree_\u001b[0m\u001b[1;33m\u001b[0m\u001b[1;33m\u001b[0m\u001b[0m\n\u001b[0;32m      3\u001b[0m     df = pd.DataFrame({\"Column\":tree.feature, \"Threshold\":tree.threshold,\n\u001b[0;32m      4\u001b[0m                         \u001b[1;34m\"LeftChild\"\u001b[0m\u001b[1;33m:\u001b[0m\u001b[0mtree\u001b[0m\u001b[1;33m.\u001b[0m\u001b[0mchildren_left\u001b[0m\u001b[1;33m,\u001b[0m \u001b[1;34m\"RightChild\"\u001b[0m\u001b[1;33m:\u001b[0m\u001b[0mtree\u001b[0m\u001b[1;33m.\u001b[0m\u001b[0mchildren_right\u001b[0m\u001b[1;33m,\u001b[0m\u001b[1;33m\u001b[0m\u001b[1;33m\u001b[0m\u001b[0m\n\u001b[0;32m      5\u001b[0m                         \"Value\":tree.value.reshape(-1)})\n",
      "\u001b[1;31mNameError\u001b[0m: name 'rf' is not defined"
     ]
    }
   ],
   "source": [
    "for i in range(len(rf.estimators_)):\n",
    "    tree = rf.estimators_[i].tree_\n",
    "    df = pd.DataFrame({\"Column\":tree.feature, \"Threshold\":tree.threshold,\n",
    "                        \"LeftChild\":tree.children_left, \"RightChild\":tree.children_right,\n",
    "                        \"Value\":tree.value.reshape(-1)})\n",
    "    df = df[[\"Column\",\"Threshold\", \"LeftChild\", \"RightChild\", \"Value\"]]\n",
    "    df_string = f\"{len(df)}\\n{df.to_csv(header=False, index=False)}\"\n",
    "    with open(f\"tree{i}.csv\", \"w\") as f:\n",
    "        f.write(df_string)"
   ]
  },
  {
   "cell_type": "code",
   "execution_count": 16,
   "id": "c8ba207c-5fb4-47b2-9bbc-d58f27b82685",
   "metadata": {},
   "outputs": [
    {
     "data": {
      "text/html": [
       "<div>\n",
       "<style scoped>\n",
       "    .dataframe tbody tr th:only-of-type {\n",
       "        vertical-align: middle;\n",
       "    }\n",
       "\n",
       "    .dataframe tbody tr th {\n",
       "        vertical-align: top;\n",
       "    }\n",
       "\n",
       "    .dataframe thead th {\n",
       "        text-align: right;\n",
       "    }\n",
       "</style>\n",
       "<table border=\"1\" class=\"dataframe\">\n",
       "  <thead>\n",
       "    <tr style=\"text-align: right;\">\n",
       "      <th></th>\n",
       "      <th>power</th>\n",
       "      <th>pdda_input_real_1</th>\n",
       "      <th>pdda_input_real_2</th>\n",
       "      <th>pdda_input_imag_2</th>\n",
       "      <th>pdda_input_real_3</th>\n",
       "      <th>pdda_input_imag_3</th>\n",
       "      <th>pdda_input_real_4</th>\n",
       "      <th>pdda_input_imag_4</th>\n",
       "      <th>pdda_input_real_5</th>\n",
       "      <th>pdda_input_imag_5</th>\n",
       "    </tr>\n",
       "  </thead>\n",
       "  <tbody>\n",
       "    <tr>\n",
       "      <th>0</th>\n",
       "      <td>-0.251084</td>\n",
       "      <td>0.011985</td>\n",
       "      <td>-0.004184</td>\n",
       "      <td>0.011310</td>\n",
       "      <td>-0.009187</td>\n",
       "      <td>-0.007796</td>\n",
       "      <td>0.011729</td>\n",
       "      <td>0.002421</td>\n",
       "      <td>0.011187</td>\n",
       "      <td>0.004386</td>\n",
       "    </tr>\n",
       "    <tr>\n",
       "      <th>1</th>\n",
       "      <td>-0.251084</td>\n",
       "      <td>0.012268</td>\n",
       "      <td>-0.004163</td>\n",
       "      <td>0.011728</td>\n",
       "      <td>-0.009701</td>\n",
       "      <td>-0.007943</td>\n",
       "      <td>0.012262</td>\n",
       "      <td>0.002381</td>\n",
       "      <td>0.011548</td>\n",
       "      <td>0.004437</td>\n",
       "    </tr>\n",
       "    <tr>\n",
       "      <th>2</th>\n",
       "      <td>-0.252488</td>\n",
       "      <td>0.011138</td>\n",
       "      <td>-0.003596</td>\n",
       "      <td>0.010398</td>\n",
       "      <td>-0.008614</td>\n",
       "      <td>-0.006782</td>\n",
       "      <td>0.010879</td>\n",
       "      <td>0.001815</td>\n",
       "      <td>0.010350</td>\n",
       "      <td>0.003906</td>\n",
       "    </tr>\n",
       "    <tr>\n",
       "      <th>3</th>\n",
       "      <td>-0.071301</td>\n",
       "      <td>0.027557</td>\n",
       "      <td>0.037822</td>\n",
       "      <td>-0.007849</td>\n",
       "      <td>0.049091</td>\n",
       "      <td>-0.012876</td>\n",
       "      <td>-0.003899</td>\n",
       "      <td>0.023019</td>\n",
       "      <td>-0.075814</td>\n",
       "      <td>-0.030990</td>\n",
       "    </tr>\n",
       "    <tr>\n",
       "      <th>4</th>\n",
       "      <td>-0.210352</td>\n",
       "      <td>0.008001</td>\n",
       "      <td>0.012124</td>\n",
       "      <td>-0.000136</td>\n",
       "      <td>0.013350</td>\n",
       "      <td>-0.001056</td>\n",
       "      <td>-0.003787</td>\n",
       "      <td>-0.016711</td>\n",
       "      <td>-0.018601</td>\n",
       "      <td>-0.007845</td>\n",
       "    </tr>\n",
       "  </tbody>\n",
       "</table>\n",
       "</div>"
      ],
      "text/plain": [
       "      power  pdda_input_real_1  pdda_input_real_2  pdda_input_imag_2  \\\n",
       "0 -0.251084           0.011985          -0.004184           0.011310   \n",
       "1 -0.251084           0.012268          -0.004163           0.011728   \n",
       "2 -0.252488           0.011138          -0.003596           0.010398   \n",
       "3 -0.071301           0.027557           0.037822          -0.007849   \n",
       "4 -0.210352           0.008001           0.012124          -0.000136   \n",
       "\n",
       "   pdda_input_real_3  pdda_input_imag_3  pdda_input_real_4  pdda_input_imag_4  \\\n",
       "0          -0.009187          -0.007796           0.011729           0.002421   \n",
       "1          -0.009701          -0.007943           0.012262           0.002381   \n",
       "2          -0.008614          -0.006782           0.010879           0.001815   \n",
       "3           0.049091          -0.012876          -0.003899           0.023019   \n",
       "4           0.013350          -0.001056          -0.003787          -0.016711   \n",
       "\n",
       "   pdda_input_real_5  pdda_input_imag_5  \n",
       "0           0.011187           0.004386  \n",
       "1           0.011548           0.004437  \n",
       "2           0.010350           0.003906  \n",
       "3          -0.075814          -0.030990  \n",
       "4          -0.018601          -0.007845  "
      ]
     },
     "execution_count": 16,
     "metadata": {},
     "output_type": "execute_result"
    }
   ],
   "source": [
    "df[features].head()"
   ]
  },
  {
   "cell_type": "code",
   "execution_count": null,
   "id": "55b48880-67d7-43d5-8b58-f587b5c8db16",
   "metadata": {},
   "outputs": [],
   "source": []
  }
 ],
 "metadata": {
  "kernelspec": {
   "display_name": "Python 3 (ipykernel)",
   "language": "python",
   "name": "python3"
  },
  "language_info": {
   "codemirror_mode": {
    "name": "ipython",
    "version": 3
   },
   "file_extension": ".py",
   "mimetype": "text/x-python",
   "name": "python",
   "nbconvert_exporter": "python",
   "pygments_lexer": "ipython3",
   "version": "3.9.12"
  }
 },
 "nbformat": 4,
 "nbformat_minor": 5
}
