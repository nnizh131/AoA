{
 "cells": [
  {
   "cell_type": "code",
   "execution_count": 28,
   "id": "88f3a671-4316-4ab0-b285-33d85f3d134f",
   "metadata": {},
   "outputs": [],
   "source": [
    "import pandas as pd\n",
    "import numpy as np\n",
    "from sklearn.model_selection import train_test_split\n",
    "import autokeras as ak\n",
    "from tensorflow.keras.models import load_model\n",
    "\n",
    "from tensorflow import keras\n",
    "from tensorflow.keras import layers\n",
    "from keras.utils.vis_utils import plot_model\n",
    "from sklearn.model_selection import GroupShuffleSplit"
   ]
  },
  {
   "cell_type": "code",
   "execution_count": 2,
   "id": "f4362a77-1405-46a7-a0f2-0fff0bcbc086",
   "metadata": {},
   "outputs": [],
   "source": [
    "params = {\n",
    "    \"test_size\":0.33,\n",
    "    \"random_state\":42,\n",
    "    \"splits\":1,\n",
    "    \n",
    "}"
   ]
  },
  {
   "cell_type": "code",
   "execution_count": null,
   "id": "3011b50b-5add-4fa5-9664-fad861684d59",
   "metadata": {},
   "outputs": [],
   "source": []
  },
  {
   "cell_type": "code",
   "execution_count": 3,
   "id": "8f3fded7-c0de-445f-8698-7cfd86307dbc",
   "metadata": {},
   "outputs": [],
   "source": [
    "df = pd.read_pickle(\"mid_concrete.pkl\")"
   ]
  },
  {
   "cell_type": "code",
   "execution_count": 4,
   "id": "fc3d0c75-67d6-4af2-9a52-62d3a7d600af",
   "metadata": {},
   "outputs": [
    {
     "data": {
      "text/plain": [
       "'C:\\\\Users\\\\nini\\\\Desktop\\\\Libra\\\\sensors-positioning'"
      ]
     },
     "execution_count": 4,
     "metadata": {},
     "output_type": "execute_result"
    }
   ],
   "source": [
    "import os\n",
    "os.getcwd()"
   ]
  },
  {
   "cell_type": "code",
   "execution_count": 5,
   "id": "fea0ec66-04fd-407f-8451-4d3131f6873b",
   "metadata": {},
   "outputs": [
    {
     "data": {
      "text/plain": [
       "(29268, 17)"
      ]
     },
     "execution_count": 5,
     "metadata": {},
     "output_type": "execute_result"
    }
   ],
   "source": [
    "df.shape"
   ]
  },
  {
   "cell_type": "code",
   "execution_count": 6,
   "id": "d2ba7a4b-1117-4ebe-a574-b778b91b5d2c",
   "metadata": {},
   "outputs": [
    {
     "data": {
      "text/plain": [
       "point                  int64\n",
       "anchor                 int64\n",
       "channel               object\n",
       "x_tag                float64\n",
       "y_tag                float64\n",
       "true_theta           float64\n",
       "true_phi             float64\n",
       "power                float64\n",
       "pdda_input_real_1    float64\n",
       "pdda_input_real_2    float64\n",
       "pdda_input_imag_2    float64\n",
       "pdda_input_real_3    float64\n",
       "pdda_input_imag_3    float64\n",
       "pdda_input_real_4    float64\n",
       "pdda_input_imag_4    float64\n",
       "pdda_input_real_5    float64\n",
       "pdda_input_imag_5    float64\n",
       "dtype: object"
      ]
     },
     "execution_count": 6,
     "metadata": {},
     "output_type": "execute_result"
    }
   ],
   "source": [
    "df.dtypes"
   ]
  },
  {
   "cell_type": "code",
   "execution_count": 7,
   "id": "e71e4eb6-fe11-4fdc-ad0d-6ab2a78da674",
   "metadata": {},
   "outputs": [],
   "source": [
    "df['channel'] = df['channel'].astype(str).astype(float)"
   ]
  },
  {
   "cell_type": "code",
   "execution_count": 8,
   "id": "70b781d2-a5ae-4655-a13f-4a735b7251d9",
   "metadata": {},
   "outputs": [],
   "source": [
    "# df.drop(['point', 'anchor', 'channel'], axis=1,inplace=True)"
   ]
  },
  {
   "cell_type": "code",
   "execution_count": 45,
   "id": "d69d4204-6c03-47e0-ba8b-2aba50831c3e",
   "metadata": {},
   "outputs": [],
   "source": [
    "features = ['power', 'pdda_input_real_1', 'pdda_input_real_2', 'pdda_input_imag_2', 'pdda_input_real_3', 'pdda_input_imag_3', 'pdda_input_real_4', 'pdda_input_imag_4',\n",
    "           'pdda_input_real_5', 'pdda_input_imag_5']\n",
    "targets = ['true_phi']"
   ]
  },
  {
   "cell_type": "code",
   "execution_count": 46,
   "id": "6b724044-a4c4-438b-808d-4527a79c5bc8",
   "metadata": {},
   "outputs": [],
   "source": [
    "gs = GroupShuffleSplit(n_splits=params[\"splits\"], test_size=params[\"test_size\"], random_state=params[\"random_state\"])\n",
    "train_idx, test_idx = next(gs.split(X, y, groups=df.point))"
   ]
  },
  {
   "cell_type": "code",
   "execution_count": 47,
   "id": "ba554859-efac-49e5-9c26-3a36e1a67d0e",
   "metadata": {},
   "outputs": [],
   "source": [
    "train = df.iloc[train_idx]\n",
    "test = df.iloc[test_idx]\n",
    "assert round(train.shape[0]/(train.shape[0]+test.shape[0]), 2) == 0.67\n",
    "assert len(set(train.point) & set(test.point)) == 0"
   ]
  },
  {
   "cell_type": "code",
   "execution_count": 48,
   "id": "a7229516-936b-4750-ae35-05ae94e5720d",
   "metadata": {},
   "outputs": [
    {
     "data": {
      "text/plain": [
       "(19614, 17)"
      ]
     },
     "execution_count": 48,
     "metadata": {},
     "output_type": "execute_result"
    }
   ],
   "source": [
    "train.shape"
   ]
  },
  {
   "cell_type": "code",
   "execution_count": null,
   "id": "db8a4492-f87f-4c4a-8c94-a75c6708db66",
   "metadata": {},
   "outputs": [],
   "source": []
  },
  {
   "cell_type": "code",
   "execution_count": 49,
   "id": "ee013d63-7112-4968-a2ce-e259e6a5fcce",
   "metadata": {},
   "outputs": [
    {
     "data": {
      "text/html": [
       "<div>\n",
       "<style scoped>\n",
       "    .dataframe tbody tr th:only-of-type {\n",
       "        vertical-align: middle;\n",
       "    }\n",
       "\n",
       "    .dataframe tbody tr th {\n",
       "        vertical-align: top;\n",
       "    }\n",
       "\n",
       "    .dataframe thead th {\n",
       "        text-align: right;\n",
       "    }\n",
       "</style>\n",
       "<table border=\"1\" class=\"dataframe\">\n",
       "  <thead>\n",
       "    <tr style=\"text-align: right;\">\n",
       "      <th></th>\n",
       "      <th>point</th>\n",
       "      <th>anchor</th>\n",
       "      <th>channel</th>\n",
       "      <th>x_tag</th>\n",
       "      <th>y_tag</th>\n",
       "      <th>true_theta</th>\n",
       "      <th>true_phi</th>\n",
       "      <th>power</th>\n",
       "      <th>pdda_input_real_1</th>\n",
       "      <th>pdda_input_real_2</th>\n",
       "      <th>pdda_input_imag_2</th>\n",
       "      <th>pdda_input_real_3</th>\n",
       "      <th>pdda_input_imag_3</th>\n",
       "      <th>pdda_input_real_4</th>\n",
       "      <th>pdda_input_imag_4</th>\n",
       "      <th>pdda_input_real_5</th>\n",
       "      <th>pdda_input_imag_5</th>\n",
       "    </tr>\n",
       "  </thead>\n",
       "  <tbody>\n",
       "    <tr>\n",
       "      <th>0</th>\n",
       "      <td>36</td>\n",
       "      <td>4</td>\n",
       "      <td>37.0</td>\n",
       "      <td>44.3</td>\n",
       "      <td>43.1</td>\n",
       "      <td>-78.7</td>\n",
       "      <td>-135.0</td>\n",
       "      <td>0.234891</td>\n",
       "      <td>0.607840</td>\n",
       "      <td>-0.043681</td>\n",
       "      <td>-0.623505</td>\n",
       "      <td>-0.687046</td>\n",
       "      <td>0.444869</td>\n",
       "      <td>0.539495</td>\n",
       "      <td>0.154464</td>\n",
       "      <td>0.374791</td>\n",
       "      <td>0.435915</td>\n",
       "    </tr>\n",
       "    <tr>\n",
       "      <th>1</th>\n",
       "      <td>36</td>\n",
       "      <td>4</td>\n",
       "      <td>38.0</td>\n",
       "      <td>44.3</td>\n",
       "      <td>43.1</td>\n",
       "      <td>-78.7</td>\n",
       "      <td>-135.0</td>\n",
       "      <td>0.241913</td>\n",
       "      <td>0.769467</td>\n",
       "      <td>-0.096220</td>\n",
       "      <td>-0.640024</td>\n",
       "      <td>-0.699148</td>\n",
       "      <td>0.398192</td>\n",
       "      <td>0.650191</td>\n",
       "      <td>0.195234</td>\n",
       "      <td>0.408465</td>\n",
       "      <td>0.452313</td>\n",
       "    </tr>\n",
       "    <tr>\n",
       "      <th>2</th>\n",
       "      <td>36</td>\n",
       "      <td>4</td>\n",
       "      <td>39.0</td>\n",
       "      <td>44.3</td>\n",
       "      <td>43.1</td>\n",
       "      <td>-78.7</td>\n",
       "      <td>-135.0</td>\n",
       "      <td>0.255959</td>\n",
       "      <td>0.726323</td>\n",
       "      <td>-0.436676</td>\n",
       "      <td>-0.479011</td>\n",
       "      <td>-0.484936</td>\n",
       "      <td>0.606550</td>\n",
       "      <td>0.731353</td>\n",
       "      <td>0.097643</td>\n",
       "      <td>0.614667</td>\n",
       "      <td>0.263012</td>\n",
       "    </tr>\n",
       "    <tr>\n",
       "      <th>3</th>\n",
       "      <td>35</td>\n",
       "      <td>3</td>\n",
       "      <td>37.0</td>\n",
       "      <td>44.1</td>\n",
       "      <td>49.9</td>\n",
       "      <td>-77.4</td>\n",
       "      <td>-108.4</td>\n",
       "      <td>0.104267</td>\n",
       "      <td>0.154127</td>\n",
       "      <td>-0.007433</td>\n",
       "      <td>-0.088215</td>\n",
       "      <td>-0.060157</td>\n",
       "      <td>0.121371</td>\n",
       "      <td>0.000587</td>\n",
       "      <td>0.152934</td>\n",
       "      <td>-0.070711</td>\n",
       "      <td>0.335963</td>\n",
       "    </tr>\n",
       "    <tr>\n",
       "      <th>4</th>\n",
       "      <td>35</td>\n",
       "      <td>3</td>\n",
       "      <td>38.0</td>\n",
       "      <td>44.1</td>\n",
       "      <td>49.9</td>\n",
       "      <td>-77.4</td>\n",
       "      <td>-108.4</td>\n",
       "      <td>0.123931</td>\n",
       "      <td>0.238340</td>\n",
       "      <td>-0.130614</td>\n",
       "      <td>-0.132987</td>\n",
       "      <td>-0.056824</td>\n",
       "      <td>0.197203</td>\n",
       "      <td>0.063315</td>\n",
       "      <td>0.106936</td>\n",
       "      <td>-0.053913</td>\n",
       "      <td>0.271928</td>\n",
       "    </tr>\n",
       "  </tbody>\n",
       "</table>\n",
       "</div>"
      ],
      "text/plain": [
       "   point  anchor  channel  x_tag  y_tag  true_theta  true_phi     power  \\\n",
       "0     36       4     37.0   44.3   43.1       -78.7    -135.0  0.234891   \n",
       "1     36       4     38.0   44.3   43.1       -78.7    -135.0  0.241913   \n",
       "2     36       4     39.0   44.3   43.1       -78.7    -135.0  0.255959   \n",
       "3     35       3     37.0   44.1   49.9       -77.4    -108.4  0.104267   \n",
       "4     35       3     38.0   44.1   49.9       -77.4    -108.4  0.123931   \n",
       "\n",
       "   pdda_input_real_1  pdda_input_real_2  pdda_input_imag_2  pdda_input_real_3  \\\n",
       "0           0.607840          -0.043681          -0.623505          -0.687046   \n",
       "1           0.769467          -0.096220          -0.640024          -0.699148   \n",
       "2           0.726323          -0.436676          -0.479011          -0.484936   \n",
       "3           0.154127          -0.007433          -0.088215          -0.060157   \n",
       "4           0.238340          -0.130614          -0.132987          -0.056824   \n",
       "\n",
       "   pdda_input_imag_3  pdda_input_real_4  pdda_input_imag_4  pdda_input_real_5  \\\n",
       "0           0.444869           0.539495           0.154464           0.374791   \n",
       "1           0.398192           0.650191           0.195234           0.408465   \n",
       "2           0.606550           0.731353           0.097643           0.614667   \n",
       "3           0.121371           0.000587           0.152934          -0.070711   \n",
       "4           0.197203           0.063315           0.106936          -0.053913   \n",
       "\n",
       "   pdda_input_imag_5  \n",
       "0           0.435915  \n",
       "1           0.452313  \n",
       "2           0.263012  \n",
       "3           0.335963  \n",
       "4           0.271928  "
      ]
     },
     "execution_count": 49,
     "metadata": {},
     "output_type": "execute_result"
    }
   ],
   "source": [
    "train.head()"
   ]
  },
  {
   "cell_type": "code",
   "execution_count": 180,
   "id": "8503c4c7-677e-4bad-bc27-b1f0396833fe",
   "metadata": {},
   "outputs": [],
   "source": [
    "train.to_csv('train.csv')"
   ]
  },
  {
   "cell_type": "code",
   "execution_count": 50,
   "id": "ad67b360-d4dd-4269-b0fd-295fdbf32f34",
   "metadata": {
    "tags": []
   },
   "outputs": [
    {
     "name": "stderr",
     "output_type": "stream",
     "text": [
      "C:\\Users\\nini\\AppData\\Local\\Temp\\ipykernel_20628\\1560788409.py:1: SettingWithCopyWarning: \n",
      "A value is trying to be set on a copy of a slice from a DataFrame\n",
      "\n",
      "See the caveats in the documentation: https://pandas.pydata.org/pandas-docs/stable/user_guide/indexing.html#returning-a-view-versus-a-copy\n",
      "  train.drop(['point', 'anchor', 'channel'], axis=1,inplace=True)\n"
     ]
    }
   ],
   "source": [
    "train.drop(['point', 'anchor', 'channel'], axis=1,inplace=True)"
   ]
  },
  {
   "cell_type": "code",
   "execution_count": 56,
   "id": "eb2c4dde-7b83-42af-bd8d-c6fb285bc538",
   "metadata": {},
   "outputs": [],
   "source": [
    "X = df[features].values\n",
    "y = df[targets].values"
   ]
  },
  {
   "cell_type": "code",
   "execution_count": 58,
   "id": "73cb862c-2fe4-4c78-8e24-dbc64d0f532d",
   "metadata": {},
   "outputs": [],
   "source": [
    "X_train = train[features].values\n",
    "y_train = train[targets].values\n",
    "X_test = test[features].values\n",
    "y_test = test[targets].values"
   ]
  },
  {
   "cell_type": "code",
   "execution_count": 21,
   "id": "71cd6ed9-160f-4f29-a871-2534e89b3949",
   "metadata": {},
   "outputs": [
    {
     "data": {
      "text/plain": [
       "(19614, 10)"
      ]
     },
     "execution_count": 21,
     "metadata": {},
     "output_type": "execute_result"
    }
   ],
   "source": [
    "X_train.shape"
   ]
  },
  {
   "cell_type": "code",
   "execution_count": 186,
   "id": "89dcaa92-d8aa-4fad-9d4a-9806de3c7023",
   "metadata": {},
   "outputs": [],
   "source": [
    "X_train = np.expand_dims(\n",
    "    X_train, axis=2\n",
    ")  # This step it's very important an CNN will only accept this data shape"
   ]
  },
  {
   "cell_type": "code",
   "execution_count": 188,
   "id": "e875ff1d-8231-4d58-845e-141fc8b209fa",
   "metadata": {},
   "outputs": [
    {
     "data": {
      "text/plain": [
       "[[0.23489060198671224],\n",
       " [0.6078395947945477],\n",
       " [-0.04368084298452837],\n",
       " [-0.6235046787764795],\n",
       " [-0.6870458734119732],\n",
       " [0.4448685067832727],\n",
       " [0.5394947619541639],\n",
       " [0.15446367315333404],\n",
       " [0.3747913343437288],\n",
       " [0.43591494181875357]]"
      ]
     },
     "execution_count": 188,
     "metadata": {},
     "output_type": "execute_result"
    }
   ],
   "source": [
    "X_train.tolist()[0]"
   ]
  },
  {
   "cell_type": "code",
   "execution_count": 145,
   "id": "e3aacd33-46e5-42a5-bfe6-91045b748c10",
   "metadata": {},
   "outputs": [
    {
     "data": {
      "text/plain": [
       "(19614, 2)"
      ]
     },
     "execution_count": 145,
     "metadata": {},
     "output_type": "execute_result"
    }
   ],
   "source": [
    "y_train.shape"
   ]
  },
  {
   "cell_type": "code",
   "execution_count": 146,
   "id": "0d362bb5-0ed4-42cd-96be-153c5fea94b7",
   "metadata": {},
   "outputs": [],
   "source": [
    "input_node = ak.Input()\n",
    "output_node = ak.Normalization()(input_node)\n",
    "\n",
    "output_node = ak.ConvBlock()(output_node)\n",
    "output_node = ak.SpatialReduction()(output_node)\n",
    "output_node = ak.DenseBlock()(output_node)\n",
    "\n",
    "output_node = ak.RegressionHead(loss=\"mean_absolute_error\", metrics=\"mean_absolute_error\")(output_node)\n",
    "\n",
    "reg = ak.AutoModel(\n",
    "    inputs=input_node, \n",
    "    outputs=output_node, \n",
    "    max_trials=100, \n",
    "    overwrite=True,\n",
    "    tuner='greedy'\n",
    ")\n"
   ]
  },
  {
   "cell_type": "code",
   "execution_count": 147,
   "id": "ce15eb4a-b7ab-4a46-af2b-0d05f25aed33",
   "metadata": {},
   "outputs": [
    {
     "name": "stdout",
     "output_type": "stream",
     "text": [
      "\n",
      "Search: Running Trial #1\n",
      "\n",
      "Value             |Best Value So Far |Hyperparameter\n",
      "3                 |?                 |conv_block_1/kernel_size\n",
      "False             |?                 |conv_block_1/separable\n",
      "True              |?                 |conv_block_1/max_pooling\n",
      "2                 |?                 |conv_block_1/num_blocks\n",
      "2                 |?                 |conv_block_1/num_layers\n",
      "32                |?                 |conv_block_1/filters_0_0\n",
      "32                |?                 |conv_block_1/filters_0_1\n",
      "0                 |?                 |conv_block_1/dropout\n",
      "32                |?                 |conv_block_1/filters_1_0\n",
      "32                |?                 |conv_block_1/filters_1_1\n",
      "flatten           |?                 |spatial_reduction_1/reduction_type\n",
      "False             |?                 |dense_block_1/use_batchnorm\n",
      "2                 |?                 |dense_block_1/num_layers\n",
      "32                |?                 |dense_block_1/units_0\n",
      "0                 |?                 |dense_block_1/dropout\n",
      "512               |?                 |dense_block_1/units_1\n",
      "0                 |?                 |regression_head_1/dropout\n",
      "adam              |?                 |optimizer\n",
      "0.001             |?                 |learning_rate\n",
      "\n",
      "Epoch 1/20\n",
      "491/491 [==============================] - 3s 5ms/step - loss: 3.8176 - mean_absolute_error: 3.8176 - val_loss: 5.5677 - val_mean_absolute_error: 5.5677\n",
      "Epoch 2/20\n",
      "491/491 [==============================] - 2s 4ms/step - loss: 3.4006 - mean_absolute_error: 3.4006 - val_loss: 6.1935 - val_mean_absolute_error: 6.1935\n",
      "Epoch 3/20\n",
      "  1/491 [..............................] - ETA: 3s - loss: 60.5278 - mean_absolute_error: 60.5278"
     ]
    },
    {
     "ename": "KeyboardInterrupt",
     "evalue": "",
     "output_type": "error",
     "traceback": [
      "\u001b[1;31m---------------------------------------------------------------------------\u001b[0m",
      "\u001b[1;31mKeyboardInterrupt\u001b[0m                         Traceback (most recent call last)",
      "Input \u001b[1;32mIn [147]\u001b[0m, in \u001b[0;36m<cell line: 1>\u001b[1;34m()\u001b[0m\n\u001b[1;32m----> 1\u001b[0m \u001b[43mreg\u001b[49m\u001b[38;5;241;43m.\u001b[39;49m\u001b[43mfit\u001b[49m\u001b[43m(\u001b[49m\u001b[43mX_train\u001b[49m\u001b[43m,\u001b[49m\u001b[43m \u001b[49m\u001b[43my_train\u001b[49m\u001b[43m,\u001b[49m\u001b[43m \u001b[49m\u001b[43mbatch_size\u001b[49m\u001b[38;5;241;43m=\u001b[39;49m\u001b[38;5;241;43m32\u001b[39;49m\u001b[43m,\u001b[49m\u001b[43m \u001b[49m\u001b[43mepochs\u001b[49m\u001b[38;5;241;43m=\u001b[39;49m\u001b[38;5;241;43m20\u001b[39;49m\u001b[43m)\u001b[49m\n",
      "File \u001b[1;32m~\\Anaconda3\\envs\\libra\\lib\\site-packages\\autokeras\\auto_model.py:292\u001b[0m, in \u001b[0;36mAutoModel.fit\u001b[1;34m(self, x, y, batch_size, epochs, callbacks, validation_split, validation_data, verbose, **kwargs)\u001b[0m\n\u001b[0;32m    287\u001b[0m \u001b[38;5;28;01mif\u001b[39;00m validation_data \u001b[38;5;129;01mis\u001b[39;00m \u001b[38;5;28;01mNone\u001b[39;00m \u001b[38;5;129;01mand\u001b[39;00m validation_split:\n\u001b[0;32m    288\u001b[0m     dataset, validation_data \u001b[38;5;241m=\u001b[39m data_utils\u001b[38;5;241m.\u001b[39msplit_dataset(\n\u001b[0;32m    289\u001b[0m         dataset, validation_split\n\u001b[0;32m    290\u001b[0m     )\n\u001b[1;32m--> 292\u001b[0m history \u001b[38;5;241m=\u001b[39m \u001b[38;5;28mself\u001b[39m\u001b[38;5;241m.\u001b[39mtuner\u001b[38;5;241m.\u001b[39msearch(\n\u001b[0;32m    293\u001b[0m     x\u001b[38;5;241m=\u001b[39mdataset,\n\u001b[0;32m    294\u001b[0m     epochs\u001b[38;5;241m=\u001b[39mepochs,\n\u001b[0;32m    295\u001b[0m     callbacks\u001b[38;5;241m=\u001b[39mcallbacks,\n\u001b[0;32m    296\u001b[0m     validation_data\u001b[38;5;241m=\u001b[39mvalidation_data,\n\u001b[0;32m    297\u001b[0m     validation_split\u001b[38;5;241m=\u001b[39mvalidation_split,\n\u001b[0;32m    298\u001b[0m     verbose\u001b[38;5;241m=\u001b[39mverbose,\n\u001b[0;32m    299\u001b[0m     \u001b[38;5;241m*\u001b[39m\u001b[38;5;241m*\u001b[39mkwargs\n\u001b[0;32m    300\u001b[0m )\n\u001b[0;32m    302\u001b[0m \u001b[38;5;28;01mreturn\u001b[39;00m history\n",
      "File \u001b[1;32m~\\Anaconda3\\envs\\libra\\lib\\site-packages\\autokeras\\engine\\tuner.py:193\u001b[0m, in \u001b[0;36mAutoTuner.search\u001b[1;34m(self, epochs, callbacks, validation_split, verbose, **fit_kwargs)\u001b[0m\n\u001b[0;32m    191\u001b[0m \u001b[38;5;28mself\u001b[39m\u001b[38;5;241m.\u001b[39m_try_build(hp)\n\u001b[0;32m    192\u001b[0m \u001b[38;5;28mself\u001b[39m\u001b[38;5;241m.\u001b[39moracle\u001b[38;5;241m.\u001b[39mupdate_space(hp)\n\u001b[1;32m--> 193\u001b[0m \u001b[38;5;28msuper\u001b[39m()\u001b[38;5;241m.\u001b[39msearch(\n\u001b[0;32m    194\u001b[0m     epochs\u001b[38;5;241m=\u001b[39mepochs, callbacks\u001b[38;5;241m=\u001b[39mnew_callbacks, verbose\u001b[38;5;241m=\u001b[39mverbose, \u001b[38;5;241m*\u001b[39m\u001b[38;5;241m*\u001b[39mfit_kwargs\n\u001b[0;32m    195\u001b[0m )\n\u001b[0;32m    197\u001b[0m \u001b[38;5;66;03m# Train the best model use validation data.\u001b[39;00m\n\u001b[0;32m    198\u001b[0m \u001b[38;5;66;03m# Train the best model with enough number of epochs.\u001b[39;00m\n\u001b[0;32m    199\u001b[0m \u001b[38;5;28;01mif\u001b[39;00m validation_split \u001b[38;5;241m>\u001b[39m \u001b[38;5;241m0\u001b[39m \u001b[38;5;129;01mor\u001b[39;00m early_stopping_inserted:\n",
      "File \u001b[1;32m~\\Anaconda3\\envs\\libra\\lib\\site-packages\\keras_tuner\\engine\\base_tuner.py:179\u001b[0m, in \u001b[0;36mBaseTuner.search\u001b[1;34m(self, *fit_args, **fit_kwargs)\u001b[0m\n\u001b[0;32m    176\u001b[0m     \u001b[38;5;28;01mcontinue\u001b[39;00m\n\u001b[0;32m    178\u001b[0m \u001b[38;5;28mself\u001b[39m\u001b[38;5;241m.\u001b[39mon_trial_begin(trial)\n\u001b[1;32m--> 179\u001b[0m results \u001b[38;5;241m=\u001b[39m \u001b[38;5;28mself\u001b[39m\u001b[38;5;241m.\u001b[39mrun_trial(trial, \u001b[38;5;241m*\u001b[39mfit_args, \u001b[38;5;241m*\u001b[39m\u001b[38;5;241m*\u001b[39mfit_kwargs)\n\u001b[0;32m    180\u001b[0m \u001b[38;5;66;03m# `results` is None indicates user updated oracle in `run_trial()`.\u001b[39;00m\n\u001b[0;32m    181\u001b[0m \u001b[38;5;28;01mif\u001b[39;00m results \u001b[38;5;129;01mis\u001b[39;00m \u001b[38;5;28;01mNone\u001b[39;00m:\n",
      "File \u001b[1;32m~\\Anaconda3\\envs\\libra\\lib\\site-packages\\keras_tuner\\engine\\tuner.py:294\u001b[0m, in \u001b[0;36mTuner.run_trial\u001b[1;34m(self, trial, *args, **kwargs)\u001b[0m\n\u001b[0;32m    292\u001b[0m     callbacks\u001b[38;5;241m.\u001b[39mappend(model_checkpoint)\n\u001b[0;32m    293\u001b[0m     copied_kwargs[\u001b[38;5;124m\"\u001b[39m\u001b[38;5;124mcallbacks\u001b[39m\u001b[38;5;124m\"\u001b[39m] \u001b[38;5;241m=\u001b[39m callbacks\n\u001b[1;32m--> 294\u001b[0m     obj_value \u001b[38;5;241m=\u001b[39m \u001b[38;5;28mself\u001b[39m\u001b[38;5;241m.\u001b[39m_build_and_fit_model(trial, \u001b[38;5;241m*\u001b[39margs, \u001b[38;5;241m*\u001b[39m\u001b[38;5;241m*\u001b[39mcopied_kwargs)\n\u001b[0;32m    296\u001b[0m     histories\u001b[38;5;241m.\u001b[39mappend(obj_value)\n\u001b[0;32m    297\u001b[0m \u001b[38;5;28;01mreturn\u001b[39;00m histories\n",
      "File \u001b[1;32m~\\Anaconda3\\envs\\libra\\lib\\site-packages\\autokeras\\engine\\tuner.py:101\u001b[0m, in \u001b[0;36mAutoTuner._build_and_fit_model\u001b[1;34m(self, trial, *args, **kwargs)\u001b[0m\n\u001b[0;32m     97\u001b[0m pipeline\u001b[38;5;241m.\u001b[39msave(\u001b[38;5;28mself\u001b[39m\u001b[38;5;241m.\u001b[39m_pipeline_path(trial\u001b[38;5;241m.\u001b[39mtrial_id))\n\u001b[0;32m     99\u001b[0m \u001b[38;5;28mself\u001b[39m\u001b[38;5;241m.\u001b[39madapt(model, kwargs[\u001b[38;5;124m\"\u001b[39m\u001b[38;5;124mx\u001b[39m\u001b[38;5;124m\"\u001b[39m])\n\u001b[1;32m--> 101\u001b[0m _, history \u001b[38;5;241m=\u001b[39m utils\u001b[38;5;241m.\u001b[39mfit_with_adaptive_batch_size(\n\u001b[0;32m    102\u001b[0m     model, \u001b[38;5;28mself\u001b[39m\u001b[38;5;241m.\u001b[39mhypermodel\u001b[38;5;241m.\u001b[39mbatch_size, \u001b[38;5;241m*\u001b[39m\u001b[38;5;241m*\u001b[39mkwargs\n\u001b[0;32m    103\u001b[0m )\n\u001b[0;32m    104\u001b[0m \u001b[38;5;28;01mreturn\u001b[39;00m history\n",
      "File \u001b[1;32m~\\Anaconda3\\envs\\libra\\lib\\site-packages\\autokeras\\utils\\utils.py:88\u001b[0m, in \u001b[0;36mfit_with_adaptive_batch_size\u001b[1;34m(model, batch_size, **fit_kwargs)\u001b[0m\n\u001b[0;32m     87\u001b[0m \u001b[38;5;28;01mdef\u001b[39;00m \u001b[38;5;21mfit_with_adaptive_batch_size\u001b[39m(model, batch_size, \u001b[38;5;241m*\u001b[39m\u001b[38;5;241m*\u001b[39mfit_kwargs):\n\u001b[1;32m---> 88\u001b[0m     history \u001b[38;5;241m=\u001b[39m run_with_adaptive_batch_size(\n\u001b[0;32m     89\u001b[0m         batch_size, \u001b[38;5;28;01mlambda\u001b[39;00m \u001b[38;5;241m*\u001b[39m\u001b[38;5;241m*\u001b[39mkwargs: model\u001b[38;5;241m.\u001b[39mfit(\u001b[38;5;241m*\u001b[39m\u001b[38;5;241m*\u001b[39mkwargs), \u001b[38;5;241m*\u001b[39m\u001b[38;5;241m*\u001b[39mfit_kwargs\n\u001b[0;32m     90\u001b[0m     )\n\u001b[0;32m     91\u001b[0m     \u001b[38;5;28;01mreturn\u001b[39;00m model, history\n",
      "File \u001b[1;32m~\\Anaconda3\\envs\\libra\\lib\\site-packages\\autokeras\\utils\\utils.py:101\u001b[0m, in \u001b[0;36mrun_with_adaptive_batch_size\u001b[1;34m(batch_size, func, **fit_kwargs)\u001b[0m\n\u001b[0;32m     99\u001b[0m \u001b[38;5;28;01mwhile\u001b[39;00m batch_size \u001b[38;5;241m>\u001b[39m \u001b[38;5;241m0\u001b[39m:\n\u001b[0;32m    100\u001b[0m     \u001b[38;5;28;01mtry\u001b[39;00m:\n\u001b[1;32m--> 101\u001b[0m         history \u001b[38;5;241m=\u001b[39m func(x\u001b[38;5;241m=\u001b[39mx, validation_data\u001b[38;5;241m=\u001b[39mvalidation_data, \u001b[38;5;241m*\u001b[39m\u001b[38;5;241m*\u001b[39mfit_kwargs)\n\u001b[0;32m    102\u001b[0m         \u001b[38;5;28;01mbreak\u001b[39;00m\n\u001b[0;32m    103\u001b[0m     \u001b[38;5;28;01mexcept\u001b[39;00m tf\u001b[38;5;241m.\u001b[39merrors\u001b[38;5;241m.\u001b[39mResourceExhaustedError \u001b[38;5;28;01mas\u001b[39;00m e:\n",
      "File \u001b[1;32m~\\Anaconda3\\envs\\libra\\lib\\site-packages\\autokeras\\utils\\utils.py:89\u001b[0m, in \u001b[0;36mfit_with_adaptive_batch_size.<locals>.<lambda>\u001b[1;34m(**kwargs)\u001b[0m\n\u001b[0;32m     87\u001b[0m \u001b[38;5;28;01mdef\u001b[39;00m \u001b[38;5;21mfit_with_adaptive_batch_size\u001b[39m(model, batch_size, \u001b[38;5;241m*\u001b[39m\u001b[38;5;241m*\u001b[39mfit_kwargs):\n\u001b[0;32m     88\u001b[0m     history \u001b[38;5;241m=\u001b[39m run_with_adaptive_batch_size(\n\u001b[1;32m---> 89\u001b[0m         batch_size, \u001b[38;5;28;01mlambda\u001b[39;00m \u001b[38;5;241m*\u001b[39m\u001b[38;5;241m*\u001b[39mkwargs: model\u001b[38;5;241m.\u001b[39mfit(\u001b[38;5;241m*\u001b[39m\u001b[38;5;241m*\u001b[39mkwargs), \u001b[38;5;241m*\u001b[39m\u001b[38;5;241m*\u001b[39mfit_kwargs\n\u001b[0;32m     90\u001b[0m     )\n\u001b[0;32m     91\u001b[0m     \u001b[38;5;28;01mreturn\u001b[39;00m model, history\n",
      "File \u001b[1;32m~\\Anaconda3\\envs\\libra\\lib\\site-packages\\keras\\utils\\traceback_utils.py:64\u001b[0m, in \u001b[0;36mfilter_traceback.<locals>.error_handler\u001b[1;34m(*args, **kwargs)\u001b[0m\n\u001b[0;32m     62\u001b[0m filtered_tb \u001b[38;5;241m=\u001b[39m \u001b[38;5;28;01mNone\u001b[39;00m\n\u001b[0;32m     63\u001b[0m \u001b[38;5;28;01mtry\u001b[39;00m:\n\u001b[1;32m---> 64\u001b[0m   \u001b[38;5;28;01mreturn\u001b[39;00m fn(\u001b[38;5;241m*\u001b[39margs, \u001b[38;5;241m*\u001b[39m\u001b[38;5;241m*\u001b[39mkwargs)\n\u001b[0;32m     65\u001b[0m \u001b[38;5;28;01mexcept\u001b[39;00m \u001b[38;5;167;01mException\u001b[39;00m \u001b[38;5;28;01mas\u001b[39;00m e:  \u001b[38;5;66;03m# pylint: disable=broad-except\u001b[39;00m\n\u001b[0;32m     66\u001b[0m   filtered_tb \u001b[38;5;241m=\u001b[39m _process_traceback_frames(e\u001b[38;5;241m.\u001b[39m__traceback__)\n",
      "File \u001b[1;32m~\\Anaconda3\\envs\\libra\\lib\\site-packages\\keras\\engine\\training.py:1409\u001b[0m, in \u001b[0;36mModel.fit\u001b[1;34m(self, x, y, batch_size, epochs, verbose, callbacks, validation_split, validation_data, shuffle, class_weight, sample_weight, initial_epoch, steps_per_epoch, validation_steps, validation_batch_size, validation_freq, max_queue_size, workers, use_multiprocessing)\u001b[0m\n\u001b[0;32m   1402\u001b[0m \u001b[38;5;28;01mwith\u001b[39;00m tf\u001b[38;5;241m.\u001b[39mprofiler\u001b[38;5;241m.\u001b[39mexperimental\u001b[38;5;241m.\u001b[39mTrace(\n\u001b[0;32m   1403\u001b[0m     \u001b[38;5;124m'\u001b[39m\u001b[38;5;124mtrain\u001b[39m\u001b[38;5;124m'\u001b[39m,\n\u001b[0;32m   1404\u001b[0m     epoch_num\u001b[38;5;241m=\u001b[39mepoch,\n\u001b[0;32m   1405\u001b[0m     step_num\u001b[38;5;241m=\u001b[39mstep,\n\u001b[0;32m   1406\u001b[0m     batch_size\u001b[38;5;241m=\u001b[39mbatch_size,\n\u001b[0;32m   1407\u001b[0m     _r\u001b[38;5;241m=\u001b[39m\u001b[38;5;241m1\u001b[39m):\n\u001b[0;32m   1408\u001b[0m   callbacks\u001b[38;5;241m.\u001b[39mon_train_batch_begin(step)\n\u001b[1;32m-> 1409\u001b[0m   tmp_logs \u001b[38;5;241m=\u001b[39m \u001b[38;5;28;43mself\u001b[39;49m\u001b[38;5;241;43m.\u001b[39;49m\u001b[43mtrain_function\u001b[49m\u001b[43m(\u001b[49m\u001b[43miterator\u001b[49m\u001b[43m)\u001b[49m\n\u001b[0;32m   1410\u001b[0m   \u001b[38;5;28;01mif\u001b[39;00m data_handler\u001b[38;5;241m.\u001b[39mshould_sync:\n\u001b[0;32m   1411\u001b[0m     context\u001b[38;5;241m.\u001b[39masync_wait()\n",
      "File \u001b[1;32m~\\Anaconda3\\envs\\libra\\lib\\site-packages\\tensorflow\\python\\util\\traceback_utils.py:150\u001b[0m, in \u001b[0;36mfilter_traceback.<locals>.error_handler\u001b[1;34m(*args, **kwargs)\u001b[0m\n\u001b[0;32m    148\u001b[0m filtered_tb \u001b[38;5;241m=\u001b[39m \u001b[38;5;28;01mNone\u001b[39;00m\n\u001b[0;32m    149\u001b[0m \u001b[38;5;28;01mtry\u001b[39;00m:\n\u001b[1;32m--> 150\u001b[0m   \u001b[38;5;28;01mreturn\u001b[39;00m fn(\u001b[38;5;241m*\u001b[39margs, \u001b[38;5;241m*\u001b[39m\u001b[38;5;241m*\u001b[39mkwargs)\n\u001b[0;32m    151\u001b[0m \u001b[38;5;28;01mexcept\u001b[39;00m \u001b[38;5;167;01mException\u001b[39;00m \u001b[38;5;28;01mas\u001b[39;00m e:\n\u001b[0;32m    152\u001b[0m   filtered_tb \u001b[38;5;241m=\u001b[39m _process_traceback_frames(e\u001b[38;5;241m.\u001b[39m__traceback__)\n",
      "File \u001b[1;32m~\\Anaconda3\\envs\\libra\\lib\\site-packages\\tensorflow\\python\\eager\\def_function.py:915\u001b[0m, in \u001b[0;36mFunction.__call__\u001b[1;34m(self, *args, **kwds)\u001b[0m\n\u001b[0;32m    912\u001b[0m compiler \u001b[38;5;241m=\u001b[39m \u001b[38;5;124m\"\u001b[39m\u001b[38;5;124mxla\u001b[39m\u001b[38;5;124m\"\u001b[39m \u001b[38;5;28;01mif\u001b[39;00m \u001b[38;5;28mself\u001b[39m\u001b[38;5;241m.\u001b[39m_jit_compile \u001b[38;5;28;01melse\u001b[39;00m \u001b[38;5;124m\"\u001b[39m\u001b[38;5;124mnonXla\u001b[39m\u001b[38;5;124m\"\u001b[39m\n\u001b[0;32m    914\u001b[0m \u001b[38;5;28;01mwith\u001b[39;00m OptionalXlaContext(\u001b[38;5;28mself\u001b[39m\u001b[38;5;241m.\u001b[39m_jit_compile):\n\u001b[1;32m--> 915\u001b[0m   result \u001b[38;5;241m=\u001b[39m \u001b[38;5;28mself\u001b[39m\u001b[38;5;241m.\u001b[39m_call(\u001b[38;5;241m*\u001b[39margs, \u001b[38;5;241m*\u001b[39m\u001b[38;5;241m*\u001b[39mkwds)\n\u001b[0;32m    917\u001b[0m new_tracing_count \u001b[38;5;241m=\u001b[39m \u001b[38;5;28mself\u001b[39m\u001b[38;5;241m.\u001b[39mexperimental_get_tracing_count()\n\u001b[0;32m    918\u001b[0m without_tracing \u001b[38;5;241m=\u001b[39m (tracing_count \u001b[38;5;241m==\u001b[39m new_tracing_count)\n",
      "File \u001b[1;32m~\\Anaconda3\\envs\\libra\\lib\\site-packages\\tensorflow\\python\\eager\\def_function.py:947\u001b[0m, in \u001b[0;36mFunction._call\u001b[1;34m(self, *args, **kwds)\u001b[0m\n\u001b[0;32m    944\u001b[0m   \u001b[38;5;28mself\u001b[39m\u001b[38;5;241m.\u001b[39m_lock\u001b[38;5;241m.\u001b[39mrelease()\n\u001b[0;32m    945\u001b[0m   \u001b[38;5;66;03m# In this case we have created variables on the first call, so we run the\u001b[39;00m\n\u001b[0;32m    946\u001b[0m   \u001b[38;5;66;03m# defunned version which is guaranteed to never create variables.\u001b[39;00m\n\u001b[1;32m--> 947\u001b[0m   \u001b[38;5;28;01mreturn\u001b[39;00m \u001b[38;5;28mself\u001b[39m\u001b[38;5;241m.\u001b[39m_stateless_fn(\u001b[38;5;241m*\u001b[39margs, \u001b[38;5;241m*\u001b[39m\u001b[38;5;241m*\u001b[39mkwds)  \u001b[38;5;66;03m# pylint: disable=not-callable\u001b[39;00m\n\u001b[0;32m    948\u001b[0m \u001b[38;5;28;01melif\u001b[39;00m \u001b[38;5;28mself\u001b[39m\u001b[38;5;241m.\u001b[39m_stateful_fn \u001b[38;5;129;01mis\u001b[39;00m \u001b[38;5;129;01mnot\u001b[39;00m \u001b[38;5;28;01mNone\u001b[39;00m:\n\u001b[0;32m    949\u001b[0m   \u001b[38;5;66;03m# Release the lock early so that multiple threads can perform the call\u001b[39;00m\n\u001b[0;32m    950\u001b[0m   \u001b[38;5;66;03m# in parallel.\u001b[39;00m\n\u001b[0;32m    951\u001b[0m   \u001b[38;5;28mself\u001b[39m\u001b[38;5;241m.\u001b[39m_lock\u001b[38;5;241m.\u001b[39mrelease()\n",
      "File \u001b[1;32m~\\Anaconda3\\envs\\libra\\lib\\site-packages\\tensorflow\\python\\eager\\function.py:2453\u001b[0m, in \u001b[0;36mFunction.__call__\u001b[1;34m(self, *args, **kwargs)\u001b[0m\n\u001b[0;32m   2450\u001b[0m \u001b[38;5;28;01mwith\u001b[39;00m \u001b[38;5;28mself\u001b[39m\u001b[38;5;241m.\u001b[39m_lock:\n\u001b[0;32m   2451\u001b[0m   (graph_function,\n\u001b[0;32m   2452\u001b[0m    filtered_flat_args) \u001b[38;5;241m=\u001b[39m \u001b[38;5;28mself\u001b[39m\u001b[38;5;241m.\u001b[39m_maybe_define_function(args, kwargs)\n\u001b[1;32m-> 2453\u001b[0m \u001b[38;5;28;01mreturn\u001b[39;00m \u001b[43mgraph_function\u001b[49m\u001b[38;5;241;43m.\u001b[39;49m\u001b[43m_call_flat\u001b[49m\u001b[43m(\u001b[49m\n\u001b[0;32m   2454\u001b[0m \u001b[43m    \u001b[49m\u001b[43mfiltered_flat_args\u001b[49m\u001b[43m,\u001b[49m\u001b[43m \u001b[49m\u001b[43mcaptured_inputs\u001b[49m\u001b[38;5;241;43m=\u001b[39;49m\u001b[43mgraph_function\u001b[49m\u001b[38;5;241;43m.\u001b[39;49m\u001b[43mcaptured_inputs\u001b[49m\u001b[43m)\u001b[49m\n",
      "File \u001b[1;32m~\\Anaconda3\\envs\\libra\\lib\\site-packages\\tensorflow\\python\\eager\\function.py:1860\u001b[0m, in \u001b[0;36mConcreteFunction._call_flat\u001b[1;34m(self, args, captured_inputs, cancellation_manager)\u001b[0m\n\u001b[0;32m   1856\u001b[0m possible_gradient_type \u001b[38;5;241m=\u001b[39m gradients_util\u001b[38;5;241m.\u001b[39mPossibleTapeGradientTypes(args)\n\u001b[0;32m   1857\u001b[0m \u001b[38;5;28;01mif\u001b[39;00m (possible_gradient_type \u001b[38;5;241m==\u001b[39m gradients_util\u001b[38;5;241m.\u001b[39mPOSSIBLE_GRADIENT_TYPES_NONE\n\u001b[0;32m   1858\u001b[0m     \u001b[38;5;129;01mand\u001b[39;00m executing_eagerly):\n\u001b[0;32m   1859\u001b[0m   \u001b[38;5;66;03m# No tape is watching; skip to running the function.\u001b[39;00m\n\u001b[1;32m-> 1860\u001b[0m   \u001b[38;5;28;01mreturn\u001b[39;00m \u001b[38;5;28mself\u001b[39m\u001b[38;5;241m.\u001b[39m_build_call_outputs(\u001b[38;5;28;43mself\u001b[39;49m\u001b[38;5;241;43m.\u001b[39;49m\u001b[43m_inference_function\u001b[49m\u001b[38;5;241;43m.\u001b[39;49m\u001b[43mcall\u001b[49m\u001b[43m(\u001b[49m\n\u001b[0;32m   1861\u001b[0m \u001b[43m      \u001b[49m\u001b[43mctx\u001b[49m\u001b[43m,\u001b[49m\u001b[43m \u001b[49m\u001b[43margs\u001b[49m\u001b[43m,\u001b[49m\u001b[43m \u001b[49m\u001b[43mcancellation_manager\u001b[49m\u001b[38;5;241;43m=\u001b[39;49m\u001b[43mcancellation_manager\u001b[49m\u001b[43m)\u001b[49m)\n\u001b[0;32m   1862\u001b[0m forward_backward \u001b[38;5;241m=\u001b[39m \u001b[38;5;28mself\u001b[39m\u001b[38;5;241m.\u001b[39m_select_forward_and_backward_functions(\n\u001b[0;32m   1863\u001b[0m     args,\n\u001b[0;32m   1864\u001b[0m     possible_gradient_type,\n\u001b[0;32m   1865\u001b[0m     executing_eagerly)\n\u001b[0;32m   1866\u001b[0m forward_function, args_with_tangents \u001b[38;5;241m=\u001b[39m forward_backward\u001b[38;5;241m.\u001b[39mforward()\n",
      "File \u001b[1;32m~\\Anaconda3\\envs\\libra\\lib\\site-packages\\tensorflow\\python\\eager\\function.py:497\u001b[0m, in \u001b[0;36m_EagerDefinedFunction.call\u001b[1;34m(self, ctx, args, cancellation_manager)\u001b[0m\n\u001b[0;32m    495\u001b[0m \u001b[38;5;28;01mwith\u001b[39;00m _InterpolateFunctionError(\u001b[38;5;28mself\u001b[39m):\n\u001b[0;32m    496\u001b[0m   \u001b[38;5;28;01mif\u001b[39;00m cancellation_manager \u001b[38;5;129;01mis\u001b[39;00m \u001b[38;5;28;01mNone\u001b[39;00m:\n\u001b[1;32m--> 497\u001b[0m     outputs \u001b[38;5;241m=\u001b[39m \u001b[43mexecute\u001b[49m\u001b[38;5;241;43m.\u001b[39;49m\u001b[43mexecute\u001b[49m\u001b[43m(\u001b[49m\n\u001b[0;32m    498\u001b[0m \u001b[43m        \u001b[49m\u001b[38;5;28;43mstr\u001b[39;49m\u001b[43m(\u001b[49m\u001b[38;5;28;43mself\u001b[39;49m\u001b[38;5;241;43m.\u001b[39;49m\u001b[43msignature\u001b[49m\u001b[38;5;241;43m.\u001b[39;49m\u001b[43mname\u001b[49m\u001b[43m)\u001b[49m\u001b[43m,\u001b[49m\n\u001b[0;32m    499\u001b[0m \u001b[43m        \u001b[49m\u001b[43mnum_outputs\u001b[49m\u001b[38;5;241;43m=\u001b[39;49m\u001b[38;5;28;43mself\u001b[39;49m\u001b[38;5;241;43m.\u001b[39;49m\u001b[43m_num_outputs\u001b[49m\u001b[43m,\u001b[49m\n\u001b[0;32m    500\u001b[0m \u001b[43m        \u001b[49m\u001b[43minputs\u001b[49m\u001b[38;5;241;43m=\u001b[39;49m\u001b[43margs\u001b[49m\u001b[43m,\u001b[49m\n\u001b[0;32m    501\u001b[0m \u001b[43m        \u001b[49m\u001b[43mattrs\u001b[49m\u001b[38;5;241;43m=\u001b[39;49m\u001b[43mattrs\u001b[49m\u001b[43m,\u001b[49m\n\u001b[0;32m    502\u001b[0m \u001b[43m        \u001b[49m\u001b[43mctx\u001b[49m\u001b[38;5;241;43m=\u001b[39;49m\u001b[43mctx\u001b[49m\u001b[43m)\u001b[49m\n\u001b[0;32m    503\u001b[0m   \u001b[38;5;28;01melse\u001b[39;00m:\n\u001b[0;32m    504\u001b[0m     outputs \u001b[38;5;241m=\u001b[39m execute\u001b[38;5;241m.\u001b[39mexecute_with_cancellation(\n\u001b[0;32m    505\u001b[0m         \u001b[38;5;28mstr\u001b[39m(\u001b[38;5;28mself\u001b[39m\u001b[38;5;241m.\u001b[39msignature\u001b[38;5;241m.\u001b[39mname),\n\u001b[0;32m    506\u001b[0m         num_outputs\u001b[38;5;241m=\u001b[39m\u001b[38;5;28mself\u001b[39m\u001b[38;5;241m.\u001b[39m_num_outputs,\n\u001b[1;32m   (...)\u001b[0m\n\u001b[0;32m    509\u001b[0m         ctx\u001b[38;5;241m=\u001b[39mctx,\n\u001b[0;32m    510\u001b[0m         cancellation_manager\u001b[38;5;241m=\u001b[39mcancellation_manager)\n",
      "File \u001b[1;32m~\\Anaconda3\\envs\\libra\\lib\\site-packages\\tensorflow\\python\\eager\\execute.py:54\u001b[0m, in \u001b[0;36mquick_execute\u001b[1;34m(op_name, num_outputs, inputs, attrs, ctx, name)\u001b[0m\n\u001b[0;32m     52\u001b[0m \u001b[38;5;28;01mtry\u001b[39;00m:\n\u001b[0;32m     53\u001b[0m   ctx\u001b[38;5;241m.\u001b[39mensure_initialized()\n\u001b[1;32m---> 54\u001b[0m   tensors \u001b[38;5;241m=\u001b[39m \u001b[43mpywrap_tfe\u001b[49m\u001b[38;5;241;43m.\u001b[39;49m\u001b[43mTFE_Py_Execute\u001b[49m\u001b[43m(\u001b[49m\u001b[43mctx\u001b[49m\u001b[38;5;241;43m.\u001b[39;49m\u001b[43m_handle\u001b[49m\u001b[43m,\u001b[49m\u001b[43m \u001b[49m\u001b[43mdevice_name\u001b[49m\u001b[43m,\u001b[49m\u001b[43m \u001b[49m\u001b[43mop_name\u001b[49m\u001b[43m,\u001b[49m\n\u001b[0;32m     55\u001b[0m \u001b[43m                                      \u001b[49m\u001b[43minputs\u001b[49m\u001b[43m,\u001b[49m\u001b[43m \u001b[49m\u001b[43mattrs\u001b[49m\u001b[43m,\u001b[49m\u001b[43m \u001b[49m\u001b[43mnum_outputs\u001b[49m\u001b[43m)\u001b[49m\n\u001b[0;32m     56\u001b[0m \u001b[38;5;28;01mexcept\u001b[39;00m core\u001b[38;5;241m.\u001b[39m_NotOkStatusException \u001b[38;5;28;01mas\u001b[39;00m e:\n\u001b[0;32m     57\u001b[0m   \u001b[38;5;28;01mif\u001b[39;00m name \u001b[38;5;129;01mis\u001b[39;00m \u001b[38;5;129;01mnot\u001b[39;00m \u001b[38;5;28;01mNone\u001b[39;00m:\n",
      "\u001b[1;31mKeyboardInterrupt\u001b[0m: "
     ]
    }
   ],
   "source": [
    "reg.fit(X_train, y_train, batch_size=32, epochs=20)"
   ]
  },
  {
   "cell_type": "code",
   "execution_count": 51,
   "id": "98b560df-0ea3-4502-9f3d-d441d5878d12",
   "metadata": {},
   "outputs": [
    {
     "name": "stdout",
     "output_type": "stream",
     "text": [
      "Model: \"model\"\n",
      "_________________________________________________________________\n",
      " Layer (type)                Output Shape              Param #   \n",
      "=================================================================\n",
      " input_1 (InputLayer)        [(None, 10, 1)]           0         \n",
      "                                                                 \n",
      " cast_to_float32 (CastToFloa  (None, 10, 1)            0         \n",
      " t32)                                                            \n",
      "                                                                 \n",
      " normalization (Normalizatio  (None, 10, 1)            3         \n",
      " n)                                                              \n",
      "                                                                 \n",
      " separable_conv1d (Separable  (None, 8, 32)            67        \n",
      " Conv1D)                                                         \n",
      "                                                                 \n",
      " separable_conv1d_1 (Separab  (None, 6, 32)            1152      \n",
      " leConv1D)                                                       \n",
      "                                                                 \n",
      " max_pooling1d (MaxPooling1D  (None, 3, 32)            0         \n",
      " )                                                               \n",
      "                                                                 \n",
      " separable_conv1d_2 (Separab  (None, 3, 32)            1152      \n",
      " leConv1D)                                                       \n",
      "                                                                 \n",
      " separable_conv1d_3 (Separab  (None, 3, 32)            1152      \n",
      " leConv1D)                                                       \n",
      "                                                                 \n",
      " max_pooling1d_1 (MaxPooling  (None, 2, 32)            0         \n",
      " 1D)                                                             \n",
      "                                                                 \n",
      " flatten (Flatten)           (None, 64)                0         \n",
      "                                                                 \n",
      " dense (Dense)               (None, 32)                2080      \n",
      "                                                                 \n",
      " re_lu (ReLU)                (None, 32)                0         \n",
      "                                                                 \n",
      " dense_1 (Dense)             (None, 32)                1056      \n",
      "                                                                 \n",
      " re_lu_1 (ReLU)              (None, 32)                0         \n",
      "                                                                 \n",
      " regression_head_1 (Dense)   (None, 2)                 66        \n",
      "                                                                 \n",
      "=================================================================\n",
      "Total params: 6,728\n",
      "Trainable params: 6,725\n",
      "Non-trainable params: 3\n",
      "_________________________________________________________________\n"
     ]
    }
   ],
   "source": [
    "model = reg.export_model()\n",
    "model.summary()"
   ]
  },
  {
   "cell_type": "code",
   "execution_count": null,
   "id": "639fc4d1-db7b-4e58-9688-3b0adc43d504",
   "metadata": {},
   "outputs": [],
   "source": []
  },
  {
   "cell_type": "code",
   "execution_count": 20,
   "id": "7a398a77-1f91-4837-951b-7e20fc0b3e72",
   "metadata": {},
   "outputs": [],
   "source": [
    "# plot_model(model, to_file='model_plot.png', show_shapes=True, show_layer_names=True)"
   ]
  },
  {
   "cell_type": "code",
   "execution_count": null,
   "id": "8eb95d7d-a57a-474c-94f2-5dc821dc57e9",
   "metadata": {},
   "outputs": [],
   "source": []
  },
  {
   "cell_type": "code",
   "execution_count": 21,
   "id": "00dbffe4-9565-46da-ad0c-f7e93e923677",
   "metadata": {},
   "outputs": [
    {
     "name": "stdout",
     "output_type": "stream",
     "text": [
      "302/302 [==============================] - 1s 3ms/step\n"
     ]
    }
   ],
   "source": [
    "# Predict with the best model.\n",
    "predicted_y = model.predict(X_test)"
   ]
  },
  {
   "cell_type": "code",
   "execution_count": 22,
   "id": "54a3b38b-ec5b-4450-8b95-7e660933f0cf",
   "metadata": {},
   "outputs": [
    {
     "name": "stdout",
     "output_type": "stream",
     "text": [
      "302/302 [==============================] - 1s 2ms/step - loss: 6.2333 - mean_squared_error: 124.6177\n",
      "[6.233319282531738, 124.61772918701172]\n"
     ]
    }
   ],
   "source": [
    "# Evaluate the best model with testing data.\n",
    "print(model.evaluate(X_test, y_test))"
   ]
  },
  {
   "cell_type": "code",
   "execution_count": 23,
   "id": "c5e07c17-af38-43e1-bce7-dfd9abbf4cf6",
   "metadata": {},
   "outputs": [
    {
     "name": "stdout",
     "output_type": "stream",
     "text": [
      "<class 'keras.engine.functional.Functional'>\n"
     ]
    }
   ],
   "source": [
    "\n",
    "print(type(model))"
   ]
  },
  {
   "cell_type": "code",
   "execution_count": 24,
   "id": "4c575a17-d420-49c0-a725-a3c8a4c4a16e",
   "metadata": {},
   "outputs": [
    {
     "name": "stderr",
     "output_type": "stream",
     "text": [
      "WARNING:absl:Found untraced functions such as _jit_compiled_convolution_op, _jit_compiled_convolution_op, _jit_compiled_convolution_op, _jit_compiled_convolution_op while saving (showing 4 of 4). These functions will not be directly callable after loading.\n"
     ]
    },
    {
     "name": "stdout",
     "output_type": "stream",
     "text": [
      "INFO:tensorflow:Assets written to: model_autokeras\\assets\n"
     ]
    },
    {
     "name": "stderr",
     "output_type": "stream",
     "text": [
      "INFO:tensorflow:Assets written to: model_autokeras\\assets\n"
     ]
    }
   ],
   "source": [
    "try:\n",
    "    model.save(\"model_autokeras\", save_format=\"tf\")\n",
    "except Exception:\n",
    "    print(Exception)"
   ]
  },
  {
   "cell_type": "code",
   "execution_count": 165,
   "id": "ad356d64-04d3-4425-983a-f0d12d40cdf6",
   "metadata": {},
   "outputs": [],
   "source": [
    "loaded_model = load_model(\"model_autokeras\")"
   ]
  },
  {
   "cell_type": "code",
   "execution_count": 166,
   "id": "5d87bcb5-b633-4216-a806-de4709b7d86f",
   "metadata": {},
   "outputs": [
    {
     "name": "stdout",
     "output_type": "stream",
     "text": [
      "302/302 [==============================] - 1s 3ms/step - loss: 4.6465 - mean_absolute_error: 4.6465\n",
      "[4.64654016494751, 4.64654016494751]\n"
     ]
    }
   ],
   "source": [
    "print(loaded_model.evaluate(X_test, y_test))"
   ]
  },
  {
   "cell_type": "code",
   "execution_count": 167,
   "id": "9cb38ae9-f1e6-4310-9a8b-6ff1139a0361",
   "metadata": {},
   "outputs": [
    {
     "name": "stdout",
     "output_type": "stream",
     "text": [
      "Model: \"model\"\n",
      "_________________________________________________________________\n",
      " Layer (type)                Output Shape              Param #   \n",
      "=================================================================\n",
      " input_1 (InputLayer)        [(None, 10, 1)]           0         \n",
      "                                                                 \n",
      " cast_to_float32 (CastToFloa  (None, 10, 1)            0         \n",
      " t32)                                                            \n",
      "                                                                 \n",
      " normalization (Normalizatio  (None, 10, 1)            3         \n",
      " n)                                                              \n",
      "                                                                 \n",
      " conv1d (Conv1D)             (None, 6, 32)             192       \n",
      "                                                                 \n",
      " conv1d_1 (Conv1D)           (None, 6, 256)            41216     \n",
      "                                                                 \n",
      " max_pooling1d (MaxPooling1D  (None, 2, 256)           0         \n",
      " )                                                               \n",
      "                                                                 \n",
      " conv1d_2 (Conv1D)           (None, 2, 256)            327936    \n",
      "                                                                 \n",
      " conv1d_3 (Conv1D)           (None, 2, 64)             81984     \n",
      "                                                                 \n",
      " max_pooling1d_1 (MaxPooling  (None, 1, 64)            0         \n",
      " 1D)                                                             \n",
      "                                                                 \n",
      " global_average_pooling1d (G  (None, 64)               0         \n",
      " lobalAveragePooling1D)                                          \n",
      "                                                                 \n",
      " dense (Dense)               (None, 32)                2080      \n",
      "                                                                 \n",
      " batch_normalization (BatchN  (None, 32)               128       \n",
      " ormalization)                                                   \n",
      "                                                                 \n",
      " re_lu (ReLU)                (None, 32)                0         \n",
      "                                                                 \n",
      " dense_1 (Dense)             (None, 256)               8448      \n",
      "                                                                 \n",
      " batch_normalization_1 (Batc  (None, 256)              1024      \n",
      " hNormalization)                                                 \n",
      "                                                                 \n",
      " re_lu_1 (ReLU)              (None, 256)               0         \n",
      "                                                                 \n",
      " regression_head_1 (Dense)   (None, 2)                 514       \n",
      "                                                                 \n",
      "=================================================================\n",
      "Total params: 463,525\n",
      "Trainable params: 462,946\n",
      "Non-trainable params: 579\n",
      "_________________________________________________________________\n"
     ]
    }
   ],
   "source": [
    "loaded_model.summary()"
   ]
  },
  {
   "cell_type": "code",
   "execution_count": 168,
   "id": "a8fe3453-c87c-4700-bf07-91d217bd2bdd",
   "metadata": {},
   "outputs": [
    {
     "name": "stdout",
     "output_type": "stream",
     "text": [
      "[None, 10, 1]\n",
      "[None, 10, 1]\n",
      "[None, 10, 1]\n",
      "[None, 6, 32]\n",
      "[None, 6, 256]\n",
      "[None, 2, 256]\n",
      "[None, 2, 256]\n",
      "[None, 2, 64]\n",
      "[None, 1, 64]\n",
      "[None, 64]\n",
      "[None, 32]\n",
      "[None, 32]\n",
      "[None, 32]\n",
      "[None, 256]\n",
      "[None, 256]\n",
      "[None, 256]\n",
      "[None, 2]\n"
     ]
    }
   ],
   "source": [
    "for layer in loaded_model.layers:\n",
    "    print(layer.get_output_at(0).get_shape().as_list())"
   ]
  },
  {
   "cell_type": "code",
   "execution_count": null,
   "id": "91c90924-4bba-488a-8d03-edc0c60198a5",
   "metadata": {},
   "outputs": [],
   "source": []
  },
  {
   "cell_type": "code",
   "execution_count": 8,
   "id": "9d45e977-46bc-45ca-8092-d3c9ddee3716",
   "metadata": {},
   "outputs": [],
   "source": [
    "from tensorflow import keras\n",
    "from tensorflow.keras import layers"
   ]
  },
  {
   "cell_type": "code",
   "execution_count": 37,
   "id": "c3c2c344-98ed-4685-b8d8-a1f0ff4e91ec",
   "metadata": {},
   "outputs": [
    {
     "data": {
      "text/plain": [
       "(19609, 10)"
      ]
     },
     "execution_count": 37,
     "metadata": {},
     "output_type": "execute_result"
    }
   ],
   "source": [
    "X_train.shape"
   ]
  },
  {
   "cell_type": "code",
   "execution_count": 22,
   "id": "19922215-1d9a-4e76-9126-f65df13cb3af",
   "metadata": {},
   "outputs": [],
   "source": [
    "df = pd.read_pickle(\"mid_concrete.pkl\")"
   ]
  },
  {
   "cell_type": "code",
   "execution_count": 23,
   "id": "c50e85f1-6e54-411a-8459-9af2088667ea",
   "metadata": {},
   "outputs": [],
   "source": [
    "df['channel'] = df['channel'].astype(str).astype(float)\n",
    "features = ['power', 'pdda_input_real_1', 'pdda_input_real_2', 'pdda_input_imag_2', 'pdda_input_real_3', 'pdda_input_imag_3', 'pdda_input_real_4', 'pdda_input_imag_4',\n",
    "           'pdda_input_real_5', 'pdda_input_imag_5']\n",
    "# theta does not change, make predictions for phi only, azimuth angles \n",
    "# predict only for phi, \n",
    "targets = ['true_phi']\n",
    "location = ['x_tag', 'y_tag']\n",
    "X = df[features].values\n",
    "y = df[targets].values\n",
    "loc = df[location].values\n"
   ]
  },
  {
   "cell_type": "code",
   "execution_count": 32,
   "id": "a045cc5c-9aba-4758-bf43-391ef89ad3b3",
   "metadata": {},
   "outputs": [
    {
     "ename": "ValueError",
     "evalue": "The first argument to `Layer.call` must always be passed.",
     "output_type": "error",
     "traceback": [
      "\u001b[1;31m---------------------------------------------------------------------------\u001b[0m",
      "\u001b[1;31mValueError\u001b[0m                                Traceback (most recent call last)",
      "Input \u001b[1;32mIn [32]\u001b[0m, in \u001b[0;36m<cell line: 1>\u001b[1;34m()\u001b[0m\n\u001b[1;32m----> 1\u001b[0m accuracy, pipeline \u001b[38;5;241m=\u001b[39m train(\u001b[43mmodel\u001b[49m\u001b[43m(\u001b[49m\u001b[43m)\u001b[49m)\n\u001b[0;32m      2\u001b[0m accuracy\n",
      "File \u001b[1;32m~\\Anaconda3\\envs\\libra\\lib\\site-packages\\keras\\utils\\traceback_utils.py:67\u001b[0m, in \u001b[0;36mfilter_traceback.<locals>.error_handler\u001b[1;34m(*args, **kwargs)\u001b[0m\n\u001b[0;32m     65\u001b[0m \u001b[38;5;28;01mexcept\u001b[39;00m \u001b[38;5;167;01mException\u001b[39;00m \u001b[38;5;28;01mas\u001b[39;00m e:  \u001b[38;5;66;03m# pylint: disable=broad-except\u001b[39;00m\n\u001b[0;32m     66\u001b[0m   filtered_tb \u001b[38;5;241m=\u001b[39m _process_traceback_frames(e\u001b[38;5;241m.\u001b[39m__traceback__)\n\u001b[1;32m---> 67\u001b[0m   \u001b[38;5;28;01mraise\u001b[39;00m e\u001b[38;5;241m.\u001b[39mwith_traceback(filtered_tb) \u001b[38;5;28;01mfrom\u001b[39;00m \u001b[38;5;28mNone\u001b[39m\n\u001b[0;32m     68\u001b[0m \u001b[38;5;28;01mfinally\u001b[39;00m:\n\u001b[0;32m     69\u001b[0m   \u001b[38;5;28;01mdel\u001b[39;00m filtered_tb\n",
      "File \u001b[1;32m~\\Anaconda3\\envs\\libra\\lib\\site-packages\\keras\\engine\\base_layer.py:3100\u001b[0m, in \u001b[0;36mLayer._split_out_first_arg\u001b[1;34m(self, args, kwargs)\u001b[0m\n\u001b[0;32m   3098\u001b[0m   inputs \u001b[38;5;241m=\u001b[39m kwargs\u001b[38;5;241m.\u001b[39mpop(\u001b[38;5;28mself\u001b[39m\u001b[38;5;241m.\u001b[39m_call_fn_args[\u001b[38;5;241m0\u001b[39m])\n\u001b[0;32m   3099\u001b[0m \u001b[38;5;28;01melse\u001b[39;00m:\n\u001b[1;32m-> 3100\u001b[0m   \u001b[38;5;28;01mraise\u001b[39;00m \u001b[38;5;167;01mValueError\u001b[39;00m(\n\u001b[0;32m   3101\u001b[0m       \u001b[38;5;124m'\u001b[39m\u001b[38;5;124mThe first argument to `Layer.call` must always be passed.\u001b[39m\u001b[38;5;124m'\u001b[39m)\n\u001b[0;32m   3102\u001b[0m \u001b[38;5;28;01mreturn\u001b[39;00m inputs, args, kwargs\n",
      "\u001b[1;31mValueError\u001b[0m: The first argument to `Layer.call` must always be passed."
     ]
    }
   ],
   "source": [
    "accuracy, pipeline = train(model())\n",
    "accuracy"
   ]
  },
  {
   "cell_type": "code",
   "execution_count": null,
   "id": "d3f1616c-d46e-4ad2-91ac-9b60b461c48c",
   "metadata": {},
   "outputs": [],
   "source": []
  },
  {
   "cell_type": "code",
   "execution_count": 80,
   "id": "5f5c5f85-b0b4-4b8d-87c6-2d95d81c4cf0",
   "metadata": {},
   "outputs": [],
   "source": [
    "def create_convnet(img_path='network_image.png'):\n",
    "    input_shape = layers.Input(shape=(10,1))\n",
    "\n",
    "    block_1 = layers.Conv1D(50, 10, padding='same', activation='relu')(input_shape)\n",
    "    block_1 = layers.MaxPooling1D(1, padding='same')(block_1)\n",
    "\n",
    "    block_2 = layers.Conv1D(50, 8, padding='same', activation='relu')(input_shape)\n",
    "    block_2 = layers.MaxPooling1D(1, padding='same')(block_2)\n",
    "\n",
    "    block_3 = layers.Conv1D(50, 6, padding='same', activation='relu')(input_shape)\n",
    "    block_3 = layers.MaxPooling1D(1, padding='same')(block_3)\n",
    "    \n",
    "    block_4 = layers.Conv1D(50, 4, padding='same', strides=2, activation='relu')(input_shape)\n",
    "    block_4 = layers.MaxPooling1D(1, padding='same')(block_4)\n",
    "    \n",
    "    block_5 = layers.Conv1D(50, 4, padding='same',  strides=4, activation='relu')(input_shape)\n",
    "    block_5 = layers.MaxPooling1D(1, padding='same')(block_5)\n",
    "\n",
    "    merged = layers.concatenate([block_1, block_2, block_3, block_4, block_5], axis=1)\n",
    "    merged = layers.Flatten()(merged)\n",
    "    \n",
    "    # global average pooling to reduce filter dimension\n",
    "    # compare this approach with 2 layers cnn, to check if this idea makes sense\n",
    "    # check this model with edge impulse.\n",
    "    # test only on points not seen in train -> channel\n",
    "    # flatten across channel dimension\n",
    "    # validate non shuffled samples\n",
    "    # channels and samples should not overlap for training and testing\n",
    "    # compare completely shuffled vs non overlapping apporoach\n",
    "    \n",
    "    # linear regression model on edge impulse, limited data 100 samples\n",
    "    \n",
    "    # thursday before lunch or from 1 to 2\n",
    "    # explain what we did previous from old master's thesis\n",
    "    # main goal -> embed Deep Learning model into small devices\n",
    "    # positioning problem\n",
    "    # architecture finding, deployement step\n",
    "    # angle estimation, as well as generic approach\n",
    "    # shrink model size with acceptable performance degradation\n",
    "    # find good overla\n",
    "    out = layers.Dense(1, activation='relu')(merged)\n",
    "    model = keras.Model(input_shape, out)\n",
    "    # keras.utils.plot_model(model, to_file=img_path)\n",
    "    model.compile(loss='mean_absolute_error', optimizer='Adam')\n",
    "    print(model.summary())\n",
    "    return model"
   ]
  },
  {
   "cell_type": "code",
   "execution_count": 81,
   "id": "44898297-36fd-4aff-b439-6f5ca4cc5526",
   "metadata": {},
   "outputs": [
    {
     "name": "stdout",
     "output_type": "stream",
     "text": [
      "Model: \"model_10\"\n",
      "__________________________________________________________________________________________________\n",
      " Layer (type)                   Output Shape         Param #     Connected to                     \n",
      "==================================================================================================\n",
      " input_12 (InputLayer)          [(None, 10, 1)]      0           []                               \n",
      "                                                                                                  \n",
      " conv1d_55 (Conv1D)             (None, 10, 50)       550         ['input_12[0][0]']               \n",
      "                                                                                                  \n",
      " conv1d_56 (Conv1D)             (None, 10, 50)       450         ['input_12[0][0]']               \n",
      "                                                                                                  \n",
      " conv1d_57 (Conv1D)             (None, 10, 50)       350         ['input_12[0][0]']               \n",
      "                                                                                                  \n",
      " conv1d_58 (Conv1D)             (None, 5, 50)        250         ['input_12[0][0]']               \n",
      "                                                                                                  \n",
      " conv1d_59 (Conv1D)             (None, 3, 50)        250         ['input_12[0][0]']               \n",
      "                                                                                                  \n",
      " max_pooling1d_55 (MaxPooling1D  (None, 10, 50)      0           ['conv1d_55[0][0]']              \n",
      " )                                                                                                \n",
      "                                                                                                  \n",
      " max_pooling1d_56 (MaxPooling1D  (None, 10, 50)      0           ['conv1d_56[0][0]']              \n",
      " )                                                                                                \n",
      "                                                                                                  \n",
      " max_pooling1d_57 (MaxPooling1D  (None, 10, 50)      0           ['conv1d_57[0][0]']              \n",
      " )                                                                                                \n",
      "                                                                                                  \n",
      " max_pooling1d_58 (MaxPooling1D  (None, 5, 50)       0           ['conv1d_58[0][0]']              \n",
      " )                                                                                                \n",
      "                                                                                                  \n",
      " max_pooling1d_59 (MaxPooling1D  (None, 3, 50)       0           ['conv1d_59[0][0]']              \n",
      " )                                                                                                \n",
      "                                                                                                  \n",
      " concatenate_11 (Concatenate)   (None, 38, 50)       0           ['max_pooling1d_55[0][0]',       \n",
      "                                                                  'max_pooling1d_56[0][0]',       \n",
      "                                                                  'max_pooling1d_57[0][0]',       \n",
      "                                                                  'max_pooling1d_58[0][0]',       \n",
      "                                                                  'max_pooling1d_59[0][0]']       \n",
      "                                                                                                  \n",
      " flatten_11 (Flatten)           (None, 1900)         0           ['concatenate_11[0][0]']         \n",
      "                                                                                                  \n",
      " dense_11 (Dense)               (None, 1)            1901        ['flatten_11[0][0]']             \n",
      "                                                                                                  \n",
      "==================================================================================================\n",
      "Total params: 3,751\n",
      "Trainable params: 3,751\n",
      "Non-trainable params: 0\n",
      "__________________________________________________________________________________________________\n",
      "None\n"
     ]
    },
    {
     "data": {
      "text/plain": [
       "<keras.engine.functional.Functional at 0x2b8c915e8b0>"
      ]
     },
     "execution_count": 81,
     "metadata": {},
     "output_type": "execute_result"
    }
   ],
   "source": [
    "model = create_convnet()\n",
    "model"
   ]
  },
  {
   "cell_type": "code",
   "execution_count": 78,
   "id": "f63b7b92-fd49-477a-96bc-98452afd51f0",
   "metadata": {},
   "outputs": [],
   "source": [
    "# add another dense layer before the output layer\n",
    "# use mean squared error \n",
    "# plot plane of how the errors are distributed\n",
    "# use batch norm\n",
    "# use data augmentation, add random noise check libra paper for their \n",
    "# calculate r^2 for the simple models\n",
    "# calculate  's and pearson's cooeficient\n",
    "# timonmerk github username for Timon\n",
    "# include ppda_azimuth in dataframe and upload on github repo\n",
    "# prepare powerpoint ppts for meetings\n",
    "# hyperparameter tuning for simple models\n",
    "# plot pdda box plot \n",
    "# also check the  of scikit learn models\n",
    "# cnn model check how it can be improved. \n",
    "# plot the features look out for outliers, how is the data distributed, before i normalize the data\n",
    "# after the first cnn layer do the batchnorm\n",
    "# prepare the gantt chart\n",
    "# \n",
    "X_train = np.expand_dims(\n",
    "    X_train, axis=2\n",
    ")  # This step it's very important an CNN will only accept this data shape"
   ]
  },
  {
   "cell_type": "code",
   "execution_count": 84,
   "id": "94024f27-5879-4647-8f23-85544b620a16",
   "metadata": {},
   "outputs": [
    {
     "name": "stdout",
     "output_type": "stream",
     "text": [
      "Epoch 1/10\n",
      "1962/1962 [==============================] - 7s 3ms/step - loss: 17.2111\n",
      "Epoch 2/10\n",
      "1962/1962 [==============================] - 7s 4ms/step - loss: 17.2031\n",
      "Epoch 3/10\n",
      "1962/1962 [==============================] - 6s 3ms/step - loss: 17.2050\n",
      "Epoch 4/10\n",
      "1962/1962 [==============================] - 6s 3ms/step - loss: 17.2026\n",
      "Epoch 5/10\n",
      "1962/1962 [==============================] - 6s 3ms/step - loss: 17.1853\n",
      "Epoch 6/10\n",
      "1962/1962 [==============================] - 6s 3ms/step - loss: 17.1740\n",
      "Epoch 7/10\n",
      "1962/1962 [==============================] - 7s 3ms/step - loss: 17.1756\n",
      "Epoch 8/10\n",
      "1962/1962 [==============================] - 6s 3ms/step - loss: 17.1659\n",
      "Epoch 9/10\n",
      "1962/1962 [==============================] - 6s 3ms/step - loss: 17.1649\n",
      "Epoch 10/10\n",
      "1962/1962 [==============================] - 7s 3ms/step - loss: 17.1560\n"
     ]
    },
    {
     "data": {
      "text/plain": [
       "<keras.callbacks.History at 0x2b8ca2f95e0>"
      ]
     },
     "execution_count": 84,
     "metadata": {},
     "output_type": "execute_result"
    }
   ],
   "source": [
    "model.fit(X_train,y_train, batch_size=10, epochs=10)"
   ]
  },
  {
   "cell_type": "code",
   "execution_count": null,
   "id": "93e142ae-349c-47fb-b835-cf73d59091e1",
   "metadata": {},
   "outputs": [],
   "source": []
  },
  {
   "cell_type": "code",
   "execution_count": null,
   "id": "c02a9c6b-d3ee-4ef7-9dd1-cd9c72e7e544",
   "metadata": {},
   "outputs": [],
   "source": []
  },
  {
   "cell_type": "code",
   "execution_count": null,
   "id": "37f26341-2e31-406b-a580-f4cd87e02e87",
   "metadata": {},
   "outputs": [],
   "source": []
  }
 ],
 "metadata": {
  "kernelspec": {
   "display_name": "Python 3 (ipykernel)",
   "language": "python",
   "name": "python3"
  },
  "language_info": {
   "codemirror_mode": {
    "name": "ipython",
    "version": 3
   },
   "file_extension": ".py",
   "mimetype": "text/x-python",
   "name": "python",
   "nbconvert_exporter": "python",
   "pygments_lexer": "ipython3",
   "version": "3.9.12"
  }
 },
 "nbformat": 4,
 "nbformat_minor": 5
}
